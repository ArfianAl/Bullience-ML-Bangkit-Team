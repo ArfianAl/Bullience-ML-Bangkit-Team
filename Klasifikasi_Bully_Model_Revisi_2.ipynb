{
  "cells": [
    {
      "cell_type": "markdown",
      "metadata": {
        "id": "view-in-github",
        "colab_type": "text"
      },
      "source": [
        "<a href=\"https://colab.research.google.com/github/ArfianAl/Bullience-ML-Bangkit-Team/blob/main/Klasifikasi_Bully_Model_Revisi_2.ipynb\" target=\"_parent\"><img src=\"https://colab.research.google.com/assets/colab-badge.svg\" alt=\"Open In Colab\"/></a>"
      ]
    },
    {
      "cell_type": "code",
      "execution_count": 11,
      "metadata": {
        "colab": {
          "base_uri": "https://localhost:8080/",
          "height": 69
        },
        "id": "CrlYJxd0XQN4",
        "outputId": "c6317ad1-8ca8-442d-e5d0-15d4a26bd8d7"
      },
      "outputs": [
        {
          "output_type": "stream",
          "name": "stderr",
          "text": [
            "[nltk_data] Downloading package stopwords to /root/nltk_data...\n",
            "[nltk_data]   Unzipping corpora/stopwords.zip.\n"
          ]
        },
        {
          "output_type": "display_data",
          "data": {
            "text/plain": [
              "<Figure size 640x480 with 0 Axes>"
            ]
          },
          "metadata": {}
        }
      ],
      "source": [
        "from google.colab import drive\n",
        "import matplotlib.pyplot as plt\n",
        "import pandas as pd\n",
        "import numpy as np\n",
        "import seaborn as sns\n",
        "\n",
        "from tensorflow.keras.layers import LSTM,Dense, Dropout, SpatialDropout1D\n",
        "from tensorflow.keras.layers import Embedding\n",
        "from tensorflow.keras.preprocessing.sequence import pad_sequences\n",
        "from tensorflow.keras.preprocessing.text import Tokenizer\n",
        "from tensorflow.keras.models import Sequential\n",
        "from tensorflow.keras.utils import plot_model\n",
        "from sklearn.preprocessing import LabelEncoder\n",
        "from tensorflow.keras.utils import to_categorical\n",
        "from tensorflow.keras.layers import Conv1D, MaxPooling1D, GlobalMaxPooling1D\n",
        "import tensorflow as tf\n",
        "import matplotlib as mpl\n",
        "from cycler import cycler\n",
        "mpl.rcParams['lines.linewidth'] = 2\n",
        "mpl.rcParams['lines.linestyle'] = '--'\n",
        "import re\n",
        "import string\n",
        "import nltk\n",
        "nltk.download('stopwords')\n",
        "sns.despine()\n",
        "plt.style.use(\"fivethirtyeight\")\n",
        "sns.set_style(\"darkgrid\")"
      ]
    },
    {
      "cell_type": "code",
      "execution_count": 2,
      "metadata": {
        "colab": {
          "base_uri": "https://localhost:8080/"
        },
        "id": "3TThb7h8X8PJ",
        "outputId": "a0eb0fb1-b6a1-4b1c-b077-91c350b98ed6"
      },
      "outputs": [
        {
          "output_type": "stream",
          "name": "stdout",
          "text": [
            "Requirement already satisfied: openpyxl in /usr/local/lib/python3.10/dist-packages (3.1.2)\n",
            "Requirement already satisfied: et-xmlfile in /usr/local/lib/python3.10/dist-packages (from openpyxl) (1.1.0)\n"
          ]
        }
      ],
      "source": [
        "pip install openpyxl"
      ]
    },
    {
      "cell_type": "markdown",
      "metadata": {
        "id": "F3IWKnCDcPI5"
      },
      "source": [
        "# **READ DATASET**"
      ]
    },
    {
      "cell_type": "code",
      "execution_count": 3,
      "metadata": {
        "colab": {
          "base_uri": "https://localhost:8080/"
        },
        "id": "OTTAVL2-X_GE",
        "outputId": "105a486f-75e1-472d-ed2c-3df73e9556a5"
      },
      "outputs": [
        {
          "output_type": "stream",
          "name": "stdout",
          "text": [
            "Mounted at /content/gdrive\n"
          ]
        }
      ],
      "source": [
        "drive.mount('/content/gdrive')"
      ]
    },
    {
      "cell_type": "markdown",
      "metadata": {
        "id": "-eeUtIb7ceBC"
      },
      "source": []
    },
    {
      "cell_type": "code",
      "execution_count": 4,
      "metadata": {
        "colab": {
          "base_uri": "https://localhost:8080/",
          "height": 423
        },
        "id": "ZX4I75xxYi2t",
        "outputId": "3dc37f89-7364-4ff2-b678-929ca72ec8e0"
      },
      "outputs": [
        {
          "output_type": "execute_result",
          "data": {
            "text/plain": [
              "        id                                               teks         label\n",
              "0        1          Kaka tidur yaa, udah pagi, gaboleh capek2  Non-bullying\n",
              "1        2              makan nasi padang aja begini badannya  Non-bullying\n",
              "2        3  yang aku suka dari dia adalah selalu cukur jem...      Bullying\n",
              "3        4  Hai kak Isyana aku ngefans banget sama kak Isy...  Non-bullying\n",
              "4        5  Manusia apa bidadari sih herann deh cantik ter...  Non-bullying\n",
              "...    ...                                                ...           ...\n",
              "1045  1046  Bangga sama suami yg selalu ingat istri disela...  Non-bullying\n",
              "1046  1047  Apaoun pekerjaannya yg penting halal u tuk men...  Non-bullying\n",
              "1047  1048  Gojek itu mayoritas pegangguran yang lama gak ...  Non-bullying\n",
              "1048  1049  <USERNAME> aslinya cantik dan ayu loh mbak krn...  Non-bullying\n",
              "1049  1050  <USERNAME> suami saya seumuran sama saya mba, ...  Non-bullying\n",
              "\n",
              "[1050 rows x 3 columns]"
            ],
            "text/html": [
              "\n",
              "  <div id=\"df-86dd1cff-fb45-4e20-9cd1-0c7e5e4e31b1\" class=\"colab-df-container\">\n",
              "    <div>\n",
              "<style scoped>\n",
              "    .dataframe tbody tr th:only-of-type {\n",
              "        vertical-align: middle;\n",
              "    }\n",
              "\n",
              "    .dataframe tbody tr th {\n",
              "        vertical-align: top;\n",
              "    }\n",
              "\n",
              "    .dataframe thead th {\n",
              "        text-align: right;\n",
              "    }\n",
              "</style>\n",
              "<table border=\"1\" class=\"dataframe\">\n",
              "  <thead>\n",
              "    <tr style=\"text-align: right;\">\n",
              "      <th></th>\n",
              "      <th>id</th>\n",
              "      <th>teks</th>\n",
              "      <th>label</th>\n",
              "    </tr>\n",
              "  </thead>\n",
              "  <tbody>\n",
              "    <tr>\n",
              "      <th>0</th>\n",
              "      <td>1</td>\n",
              "      <td>Kaka tidur yaa, udah pagi, gaboleh capek2</td>\n",
              "      <td>Non-bullying</td>\n",
              "    </tr>\n",
              "    <tr>\n",
              "      <th>1</th>\n",
              "      <td>2</td>\n",
              "      <td>makan nasi padang aja begini badannya</td>\n",
              "      <td>Non-bullying</td>\n",
              "    </tr>\n",
              "    <tr>\n",
              "      <th>2</th>\n",
              "      <td>3</td>\n",
              "      <td>yang aku suka dari dia adalah selalu cukur jem...</td>\n",
              "      <td>Bullying</td>\n",
              "    </tr>\n",
              "    <tr>\n",
              "      <th>3</th>\n",
              "      <td>4</td>\n",
              "      <td>Hai kak Isyana aku ngefans banget sama kak Isy...</td>\n",
              "      <td>Non-bullying</td>\n",
              "    </tr>\n",
              "    <tr>\n",
              "      <th>4</th>\n",
              "      <td>5</td>\n",
              "      <td>Manusia apa bidadari sih herann deh cantik ter...</td>\n",
              "      <td>Non-bullying</td>\n",
              "    </tr>\n",
              "    <tr>\n",
              "      <th>...</th>\n",
              "      <td>...</td>\n",
              "      <td>...</td>\n",
              "      <td>...</td>\n",
              "    </tr>\n",
              "    <tr>\n",
              "      <th>1045</th>\n",
              "      <td>1046</td>\n",
              "      <td>Bangga sama suami yg selalu ingat istri disela...</td>\n",
              "      <td>Non-bullying</td>\n",
              "    </tr>\n",
              "    <tr>\n",
              "      <th>1046</th>\n",
              "      <td>1047</td>\n",
              "      <td>Apaoun pekerjaannya yg penting halal u tuk men...</td>\n",
              "      <td>Non-bullying</td>\n",
              "    </tr>\n",
              "    <tr>\n",
              "      <th>1047</th>\n",
              "      <td>1048</td>\n",
              "      <td>Gojek itu mayoritas pegangguran yang lama gak ...</td>\n",
              "      <td>Non-bullying</td>\n",
              "    </tr>\n",
              "    <tr>\n",
              "      <th>1048</th>\n",
              "      <td>1049</td>\n",
              "      <td>&lt;USERNAME&gt; aslinya cantik dan ayu loh mbak krn...</td>\n",
              "      <td>Non-bullying</td>\n",
              "    </tr>\n",
              "    <tr>\n",
              "      <th>1049</th>\n",
              "      <td>1050</td>\n",
              "      <td>&lt;USERNAME&gt; suami saya seumuran sama saya mba, ...</td>\n",
              "      <td>Non-bullying</td>\n",
              "    </tr>\n",
              "  </tbody>\n",
              "</table>\n",
              "<p>1050 rows × 3 columns</p>\n",
              "</div>\n",
              "    <div class=\"colab-df-buttons\">\n",
              "\n",
              "  <div class=\"colab-df-container\">\n",
              "    <button class=\"colab-df-convert\" onclick=\"convertToInteractive('df-86dd1cff-fb45-4e20-9cd1-0c7e5e4e31b1')\"\n",
              "            title=\"Convert this dataframe to an interactive table.\"\n",
              "            style=\"display:none;\">\n",
              "\n",
              "  <svg xmlns=\"http://www.w3.org/2000/svg\" height=\"24px\" viewBox=\"0 -960 960 960\">\n",
              "    <path d=\"M120-120v-720h720v720H120Zm60-500h600v-160H180v160Zm220 220h160v-160H400v160Zm0 220h160v-160H400v160ZM180-400h160v-160H180v160Zm440 0h160v-160H620v160ZM180-180h160v-160H180v160Zm440 0h160v-160H620v160Z\"/>\n",
              "  </svg>\n",
              "    </button>\n",
              "\n",
              "  <style>\n",
              "    .colab-df-container {\n",
              "      display:flex;\n",
              "      gap: 12px;\n",
              "    }\n",
              "\n",
              "    .colab-df-convert {\n",
              "      background-color: #E8F0FE;\n",
              "      border: none;\n",
              "      border-radius: 50%;\n",
              "      cursor: pointer;\n",
              "      display: none;\n",
              "      fill: #1967D2;\n",
              "      height: 32px;\n",
              "      padding: 0 0 0 0;\n",
              "      width: 32px;\n",
              "    }\n",
              "\n",
              "    .colab-df-convert:hover {\n",
              "      background-color: #E2EBFA;\n",
              "      box-shadow: 0px 1px 2px rgba(60, 64, 67, 0.3), 0px 1px 3px 1px rgba(60, 64, 67, 0.15);\n",
              "      fill: #174EA6;\n",
              "    }\n",
              "\n",
              "    .colab-df-buttons div {\n",
              "      margin-bottom: 4px;\n",
              "    }\n",
              "\n",
              "    [theme=dark] .colab-df-convert {\n",
              "      background-color: #3B4455;\n",
              "      fill: #D2E3FC;\n",
              "    }\n",
              "\n",
              "    [theme=dark] .colab-df-convert:hover {\n",
              "      background-color: #434B5C;\n",
              "      box-shadow: 0px 1px 3px 1px rgba(0, 0, 0, 0.15);\n",
              "      filter: drop-shadow(0px 1px 2px rgba(0, 0, 0, 0.3));\n",
              "      fill: #FFFFFF;\n",
              "    }\n",
              "  </style>\n",
              "\n",
              "    <script>\n",
              "      const buttonEl =\n",
              "        document.querySelector('#df-86dd1cff-fb45-4e20-9cd1-0c7e5e4e31b1 button.colab-df-convert');\n",
              "      buttonEl.style.display =\n",
              "        google.colab.kernel.accessAllowed ? 'block' : 'none';\n",
              "\n",
              "      async function convertToInteractive(key) {\n",
              "        const element = document.querySelector('#df-86dd1cff-fb45-4e20-9cd1-0c7e5e4e31b1');\n",
              "        const dataTable =\n",
              "          await google.colab.kernel.invokeFunction('convertToInteractive',\n",
              "                                                    [key], {});\n",
              "        if (!dataTable) return;\n",
              "\n",
              "        const docLinkHtml = 'Like what you see? Visit the ' +\n",
              "          '<a target=\"_blank\" href=https://colab.research.google.com/notebooks/data_table.ipynb>data table notebook</a>'\n",
              "          + ' to learn more about interactive tables.';\n",
              "        element.innerHTML = '';\n",
              "        dataTable['output_type'] = 'display_data';\n",
              "        await google.colab.output.renderOutput(dataTable, element);\n",
              "        const docLink = document.createElement('div');\n",
              "        docLink.innerHTML = docLinkHtml;\n",
              "        element.appendChild(docLink);\n",
              "      }\n",
              "    </script>\n",
              "  </div>\n",
              "\n",
              "\n",
              "<div id=\"df-cd5e0e30-6d26-407a-aa90-424850d00c76\">\n",
              "  <button class=\"colab-df-quickchart\" onclick=\"quickchart('df-cd5e0e30-6d26-407a-aa90-424850d00c76')\"\n",
              "            title=\"Suggest charts\"\n",
              "            style=\"display:none;\">\n",
              "\n",
              "<svg xmlns=\"http://www.w3.org/2000/svg\" height=\"24px\"viewBox=\"0 0 24 24\"\n",
              "     width=\"24px\">\n",
              "    <g>\n",
              "        <path d=\"M19 3H5c-1.1 0-2 .9-2 2v14c0 1.1.9 2 2 2h14c1.1 0 2-.9 2-2V5c0-1.1-.9-2-2-2zM9 17H7v-7h2v7zm4 0h-2V7h2v10zm4 0h-2v-4h2v4z\"/>\n",
              "    </g>\n",
              "</svg>\n",
              "  </button>\n",
              "\n",
              "<style>\n",
              "  .colab-df-quickchart {\n",
              "      --bg-color: #E8F0FE;\n",
              "      --fill-color: #1967D2;\n",
              "      --hover-bg-color: #E2EBFA;\n",
              "      --hover-fill-color: #174EA6;\n",
              "      --disabled-fill-color: #AAA;\n",
              "      --disabled-bg-color: #DDD;\n",
              "  }\n",
              "\n",
              "  [theme=dark] .colab-df-quickchart {\n",
              "      --bg-color: #3B4455;\n",
              "      --fill-color: #D2E3FC;\n",
              "      --hover-bg-color: #434B5C;\n",
              "      --hover-fill-color: #FFFFFF;\n",
              "      --disabled-bg-color: #3B4455;\n",
              "      --disabled-fill-color: #666;\n",
              "  }\n",
              "\n",
              "  .colab-df-quickchart {\n",
              "    background-color: var(--bg-color);\n",
              "    border: none;\n",
              "    border-radius: 50%;\n",
              "    cursor: pointer;\n",
              "    display: none;\n",
              "    fill: var(--fill-color);\n",
              "    height: 32px;\n",
              "    padding: 0;\n",
              "    width: 32px;\n",
              "  }\n",
              "\n",
              "  .colab-df-quickchart:hover {\n",
              "    background-color: var(--hover-bg-color);\n",
              "    box-shadow: 0 1px 2px rgba(60, 64, 67, 0.3), 0 1px 3px 1px rgba(60, 64, 67, 0.15);\n",
              "    fill: var(--button-hover-fill-color);\n",
              "  }\n",
              "\n",
              "  .colab-df-quickchart-complete:disabled,\n",
              "  .colab-df-quickchart-complete:disabled:hover {\n",
              "    background-color: var(--disabled-bg-color);\n",
              "    fill: var(--disabled-fill-color);\n",
              "    box-shadow: none;\n",
              "  }\n",
              "\n",
              "  .colab-df-spinner {\n",
              "    border: 2px solid var(--fill-color);\n",
              "    border-color: transparent;\n",
              "    border-bottom-color: var(--fill-color);\n",
              "    animation:\n",
              "      spin 1s steps(1) infinite;\n",
              "  }\n",
              "\n",
              "  @keyframes spin {\n",
              "    0% {\n",
              "      border-color: transparent;\n",
              "      border-bottom-color: var(--fill-color);\n",
              "      border-left-color: var(--fill-color);\n",
              "    }\n",
              "    20% {\n",
              "      border-color: transparent;\n",
              "      border-left-color: var(--fill-color);\n",
              "      border-top-color: var(--fill-color);\n",
              "    }\n",
              "    30% {\n",
              "      border-color: transparent;\n",
              "      border-left-color: var(--fill-color);\n",
              "      border-top-color: var(--fill-color);\n",
              "      border-right-color: var(--fill-color);\n",
              "    }\n",
              "    40% {\n",
              "      border-color: transparent;\n",
              "      border-right-color: var(--fill-color);\n",
              "      border-top-color: var(--fill-color);\n",
              "    }\n",
              "    60% {\n",
              "      border-color: transparent;\n",
              "      border-right-color: var(--fill-color);\n",
              "    }\n",
              "    80% {\n",
              "      border-color: transparent;\n",
              "      border-right-color: var(--fill-color);\n",
              "      border-bottom-color: var(--fill-color);\n",
              "    }\n",
              "    90% {\n",
              "      border-color: transparent;\n",
              "      border-bottom-color: var(--fill-color);\n",
              "    }\n",
              "  }\n",
              "</style>\n",
              "\n",
              "  <script>\n",
              "    async function quickchart(key) {\n",
              "      const quickchartButtonEl =\n",
              "        document.querySelector('#' + key + ' button');\n",
              "      quickchartButtonEl.disabled = true;  // To prevent multiple clicks.\n",
              "      quickchartButtonEl.classList.add('colab-df-spinner');\n",
              "      try {\n",
              "        const charts = await google.colab.kernel.invokeFunction(\n",
              "            'suggestCharts', [key], {});\n",
              "      } catch (error) {\n",
              "        console.error('Error during call to suggestCharts:', error);\n",
              "      }\n",
              "      quickchartButtonEl.classList.remove('colab-df-spinner');\n",
              "      quickchartButtonEl.classList.add('colab-df-quickchart-complete');\n",
              "    }\n",
              "    (() => {\n",
              "      let quickchartButtonEl =\n",
              "        document.querySelector('#df-cd5e0e30-6d26-407a-aa90-424850d00c76 button');\n",
              "      quickchartButtonEl.style.display =\n",
              "        google.colab.kernel.accessAllowed ? 'block' : 'none';\n",
              "    })();\n",
              "  </script>\n",
              "</div>\n",
              "    </div>\n",
              "  </div>\n"
            ]
          },
          "metadata": {},
          "execution_count": 4
        }
      ],
      "source": [
        "ds= pd.read_csv(\"/content/gdrive/MyDrive/Colab Notebooks/Datasets/DATASETS GABUNGAN BULLIENCE.csv\")\n",
        "ds"
      ]
    },
    {
      "cell_type": "markdown",
      "metadata": {
        "id": "wMyzm5g9cl4W"
      },
      "source": [
        "# **DATA PREPROCESSING**"
      ]
    },
    {
      "cell_type": "code",
      "execution_count": 10,
      "metadata": {
        "colab": {
          "base_uri": "https://localhost:8080/"
        },
        "id": "1D5RtfvxYpUY",
        "outputId": "d6cdda89-24d3-4c6c-aa93-47d766a77ce5"
      },
      "outputs": [
        {
          "output_type": "stream",
          "name": "stdout",
          "text": [
            "<class 'pandas.core.frame.DataFrame'>\n",
            "RangeIndex: 1050 entries, 0 to 1049\n",
            "Data columns (total 4 columns):\n",
            " #   Column  Non-Null Count  Dtype \n",
            "---  ------  --------------  ----- \n",
            " 0   id      1050 non-null   int64 \n",
            " 1   teks    1050 non-null   object\n",
            " 2   label   1050 non-null   object\n",
            " 3   Length  1050 non-null   int64 \n",
            "dtypes: int64(2), object(2)\n",
            "memory usage: 32.9+ KB\n"
          ]
        }
      ],
      "source": [
        "#info dataset\n",
        "ds.info()"
      ]
    },
    {
      "cell_type": "code",
      "execution_count": 11,
      "metadata": {
        "colab": {
          "base_uri": "https://localhost:8080/"
        },
        "id": "brejv1XkY7wA",
        "outputId": "ac8faca1-760a-43b3-f6b7-2416be3e0d21"
      },
      "outputs": [
        {
          "output_type": "execute_result",
          "data": {
            "text/plain": [
              "False"
            ]
          },
          "metadata": {},
          "execution_count": 11
        }
      ],
      "source": [
        "# Checking for null values\n",
        "ds.isnull().values.any()"
      ]
    },
    {
      "cell_type": "code",
      "execution_count": 12,
      "metadata": {
        "colab": {
          "base_uri": "https://localhost:8080/"
        },
        "id": "yiv6ELl0ZB3W",
        "outputId": "ea7f74e4-5e5a-4f54-a9c4-0669ac3d408a"
      },
      "outputs": [
        {
          "output_type": "execute_result",
          "data": {
            "text/plain": [
              "Non-bullying    525\n",
              "Bullying        525\n",
              "Name: label, dtype: int64"
            ]
          },
          "metadata": {},
          "execution_count": 12
        }
      ],
      "source": [
        "# Melihat jumlah masing-masing tipe\n",
        "ds['label'].value_counts()"
      ]
    },
    {
      "cell_type": "code",
      "execution_count": 13,
      "metadata": {
        "colab": {
          "base_uri": "https://localhost:8080/",
          "height": 513
        },
        "id": "RJmqHLX6ZxlG",
        "outputId": "e675c8f2-38ef-46d8-8456-98f89025967c"
      },
      "outputs": [
        {
          "output_type": "stream",
          "name": "stdout",
          "text": [
            "Counter({'Non-bullying': 525, 'Bullying': 525})\n"
          ]
        },
        {
          "output_type": "execute_result",
          "data": {
            "text/plain": [
              "<Axes: xlabel='label', ylabel='count'>"
            ]
          },
          "metadata": {},
          "execution_count": 13
        },
        {
          "output_type": "display_data",
          "data": {
            "text/plain": [
              "<Figure size 640x480 with 1 Axes>"
            ],
            "image/png": "[encoded data removed]"
          },
          "metadata": {}
        }
      ],
      "source": [
        "# Distribusi Target\n",
        "x = ds.teks\n",
        "y = ds.label\n",
        "\n",
        "from collections import Counter\n",
        "\n",
        "print(Counter(y))\n",
        "sns.countplot(x=y)"
      ]
    },
    {
      "cell_type": "code",
      "execution_count": 14,
      "metadata": {
        "colab": {
          "base_uri": "https://localhost:8080/",
          "height": 680
        },
        "id": "RiIvAw8TamD8",
        "outputId": "ddaa8da7-a994-4641-84ef-62486265d06e"
      },
      "outputs": [
        {
          "output_type": "display_data",
          "data": {
            "text/plain": [
              "count    525.000000\n",
              "mean      15.417143\n",
              "std       12.487982\n",
              "min        3.000000\n",
              "25%        8.000000\n",
              "50%       12.000000\n",
              "75%       18.000000\n",
              "max      152.000000\n",
              "Name: Length, dtype: float64"
            ]
          },
          "metadata": {}
        },
        {
          "output_type": "display_data",
          "data": {
            "text/plain": [
              "<Figure size 500x500 with 1 Axes>"
            ],
            "image/png": "[encoded data removed]"
          },
          "metadata": {}
        }
      ],
      "source": [
        "# Melihat statistical description serta histogram panjang teks Non-B\n",
        "ds[\"Length\"] = ds.teks.str.split().apply(len)\n",
        "plt.figure(figsize=(5,5))\n",
        "sns.histplot(ds[ds[\"label\"]==\"Non-bullying\"]['Length'],color=\"g\")\n",
        "plt.title(\"Distribution of text length for not_bullying\")\n",
        "display(ds.Length[ds[\"label\"]==\"Non-bullying\"].describe())"
      ]
    },
    {
      "cell_type": "code",
      "execution_count": 15,
      "metadata": {
        "colab": {
          "base_uri": "https://localhost:8080/",
          "height": 680
        },
        "id": "cNMvfYvfa3d4",
        "outputId": "dae78b49-370b-4800-bcbb-20dd92e85e24"
      },
      "outputs": [
        {
          "output_type": "display_data",
          "data": {
            "text/plain": [
              "count    525.000000\n",
              "mean      15.676190\n",
              "std       13.125128\n",
              "min        2.000000\n",
              "25%        7.000000\n",
              "50%       10.000000\n",
              "75%       19.000000\n",
              "max       73.000000\n",
              "Name: Length, dtype: float64"
            ]
          },
          "metadata": {}
        },
        {
          "output_type": "display_data",
          "data": {
            "text/plain": [
              "<Figure size 500x500 with 1 Axes>"
            ],
            "image/png": "[encoded data removed]"
          },
          "metadata": {}
        }
      ],
      "source": [
        "# Melihat statistical description serta histogram panjang teks B\n",
        "ds[\"Length\"] = ds.teks.str.split().apply(len)\n",
        "plt.figure(figsize=(5,5))\n",
        "sns.histplot(ds[ds[\"label\"]==\"Bullying\"]['Length'],color=\"r\")\n",
        "plt.title(\"Distribution of text length for bullying\")\n",
        "display(ds.Length[ds[\"label\"]==\"Bullying\"].describe())"
      ]
    },
    {
      "cell_type": "code",
      "execution_count": 16,
      "metadata": {
        "colab": {
          "base_uri": "https://localhost:8080/"
        },
        "id": "okH61f0obJMQ",
        "outputId": "a4e24217-315c-4826-be16-54860c340d77"
      },
      "outputs": [
        {
          "output_type": "stream",
          "name": "stdout",
          "text": [
            "0            Kaka tidur yaa, udah pagi, gaboleh capek2\n",
            "1                makan nasi padang aja begini badannya\n",
            "2    yang aku suka dari dia adalah selalu cukur jem...\n",
            "3    Hai kak Isyana aku ngefans banget sama kak Isy...\n",
            "4    Manusia apa bidadari sih herann deh cantik ter...\n",
            "Name: teks, dtype: object\n"
          ]
        }
      ],
      "source": [
        "# variabel untuk kolom teks\n",
        "texts = ds.teks\n",
        "print(texts.head())"
      ]
    },
    {
      "cell_type": "code",
      "execution_count": 17,
      "metadata": {
        "colab": {
          "base_uri": "https://localhost:8080/"
        },
        "id": "5HeSac_Db3dU",
        "outputId": "58e3626c-df5f-495d-dcb1-8be6e5a03ca0"
      },
      "outputs": [
        {
          "output_type": "stream",
          "name": "stdout",
          "text": [
            "0            kaka tidur yaa, udah pagi, gaboleh capek2\n",
            "1                makan nasi padang aja begini badannya\n",
            "2    yang aku suka dari dia adalah selalu cukur jem...\n",
            "3    hai kak isyana aku ngefans banget sama kak isy...\n",
            "4    manusia apa bidadari sih herann deh cantik ter...\n",
            "Name: teks, dtype: object\n"
          ]
        }
      ],
      "source": [
        "# Case Folding\n",
        "# gunakan fungsi series.str.lower() pada Pandas\n",
        "texts = texts.str.lower()\n",
        "\n",
        "print(texts.head())"
      ]
    },
    {
      "cell_type": "code",
      "execution_count": 18,
      "metadata": {
        "colab": {
          "base_uri": "https://localhost:8080/"
        },
        "id": "N4fKPYJIb_OO",
        "outputId": "270c9547-d447-4017-92dc-10c41cf6522a"
      },
      "outputs": [
        {
          "output_type": "stream",
          "name": "stdout",
          "text": [
            "0            kaka tidur yaa, udah pagi, gaboleh capek2\n",
            "1                makan nasi padang aja begini badannya\n",
            "2    yang aku suka dari dia adalah selalu cukur jem...\n",
            "3    hai kak isyana aku ngefans banget sama kak isy...\n",
            "4    manusia apa bidadari sih herann deh cantik ter...\n",
            "Name: teks, dtype: object\n"
          ]
        }
      ],
      "source": [
        "def remove_special_signs(text):\n",
        "    # remove tab, new line, ans back slice\n",
        "    text = text.replace('\\\\t',\" \").replace('\\\\n',\" \").replace('\\\\u',\" \").replace('\\\\',\"\")\n",
        "    # remove non ASCII (emoticon, chinese word, .etc)\n",
        "    text = text.encode('ascii', 'replace').decode('ascii')\n",
        "    # remove mention, link, hashtag\n",
        "    text = ' '.join(re.sub(\"([@#][A-Za-z0-9]+)|(\\w+:\\/\\/\\S+)\",\" \", text).split())\n",
        "    # remove incomplete URL\n",
        "    return text.replace(\"http://\", \" \").replace(\"https://\", \" \")\n",
        "\n",
        "texts = texts.apply(remove_special_signs)\n",
        "print(texts.head())"
      ]
    },
    {
      "cell_type": "code",
      "execution_count": 19,
      "metadata": {
        "colab": {
          "base_uri": "https://localhost:8080/"
        },
        "id": "M-IJu1XCc5P8",
        "outputId": "759ada3e-1d6b-4349-94fb-205a7c40c915"
      },
      "outputs": [
        {
          "output_type": "execute_result",
          "data": {
            "text/plain": [
              "0             kaka tidur yaa, udah pagi, gaboleh capek\n",
              "1                makan nasi padang aja begini badannya\n",
              "2    yang aku suka dari dia adalah selalu cukur jem...\n",
              "3    hai kak isyana aku ngefans banget sama kak isy...\n",
              "4    manusia apa bidadari sih herann deh cantik ter...\n",
              "Name: teks, dtype: object"
            ]
          },
          "metadata": {},
          "execution_count": 19
        }
      ],
      "source": [
        "#remove number\n",
        "def remove_number(text):\n",
        "    return  re.sub(r\"\\d+\", \"\", text)\n",
        "\n",
        "texts = texts.apply(remove_number)\n",
        "texts.head(5)"
      ]
    },
    {
      "cell_type": "code",
      "execution_count": 20,
      "metadata": {
        "colab": {
          "base_uri": "https://localhost:8080/"
        },
        "id": "wl-m5UL9dBdE",
        "outputId": "ab77a780-e8d1-4fd9-b239-fe7887081881"
      },
      "outputs": [
        {
          "output_type": "execute_result",
          "data": {
            "text/plain": [
              "0               kaka tidur yaa udah pagi gaboleh capek\n",
              "1                makan nasi padang aja begini badannya\n",
              "2    yang aku suka dari dia adalah selalu cukur jem...\n",
              "3    hai kak isyana aku ngefans banget sama kak isy...\n",
              "4    manusia apa bidadari sih herann deh cantik terus \n",
              "Name: teks, dtype: object"
            ]
          },
          "metadata": {},
          "execution_count": 20
        }
      ],
      "source": [
        "# remove punctuation\n",
        "def remove_punctuation(text):\n",
        "    return text.translate(str.maketrans(\"\",\"\",string.punctuation))\n",
        "\n",
        "texts = texts.apply(remove_punctuation)\n",
        "texts.head(5)"
      ]
    },
    {
      "cell_type": "code",
      "execution_count": 21,
      "metadata": {
        "colab": {
          "base_uri": "https://localhost:8080/"
        },
        "id": "x1sW22vgdO3G",
        "outputId": "7d8fb94e-c039-4d8e-d656-4555f7d61931"
      },
      "outputs": [
        {
          "output_type": "stream",
          "name": "stdout",
          "text": [
            "0               kaka tidur yaa udah pagi gaboleh capek\n",
            "1                makan nasi padang aja begini badannya\n",
            "2    yang aku suka dari dia adalah selalu cukur jem...\n",
            "3    hai kak isyana aku ngefans banget sama kak isy...\n",
            "4     manusia apa bidadari sih herann deh cantik terus\n",
            "Name: teks, dtype: object\n"
          ]
        }
      ],
      "source": [
        "#remove whitespace leading & trailing\n",
        "def remove_whitespace_LT(text):\n",
        "    return text.strip()\n",
        "\n",
        "texts = texts.apply(remove_whitespace_LT)\n",
        "print(texts.head())"
      ]
    },
    {
      "cell_type": "code",
      "execution_count": 22,
      "metadata": {
        "colab": {
          "base_uri": "https://localhost:8080/"
        },
        "id": "Tj4GU6JFdT8a",
        "outputId": "e10d3a28-f42b-4da6-8aab-4d6fd1ca1915"
      },
      "outputs": [
        {
          "output_type": "stream",
          "name": "stdout",
          "text": [
            "0               kaka tidur yaa udah pagi gaboleh capek\n",
            "1                makan nasi padang aja begini badannya\n",
            "2    yang aku suka dari dia adalah selalu cukur jem...\n",
            "3    hai kak isyana aku ngefans banget sama kak isy...\n",
            "4     manusia apa bidadari sih herann deh cantik terus\n",
            "Name: teks, dtype: object\n"
          ]
        }
      ],
      "source": [
        "# remove multiple whitespace into single whitespace\n",
        "def remove_whitespace_multiple(text):\n",
        "    return re.sub('\\s+',' ',text)\n",
        "\n",
        "texts = texts.apply(remove_whitespace_multiple)\n",
        "print(texts.head())"
      ]
    },
    {
      "cell_type": "code",
      "execution_count": 23,
      "metadata": {
        "colab": {
          "base_uri": "https://localhost:8080/"
        },
        "id": "p_K2edAjddns",
        "outputId": "e4a5fd9a-522e-465f-b563-df966a8a041d"
      },
      "outputs": [
        {
          "output_type": "stream",
          "name": "stdout",
          "text": [
            "0               kaka tidur yaa udah pagi gaboleh capek\n",
            "1                makan nasi padang aja begini badannya\n",
            "2    yang aku suka dari dia adalah selalu cukur jem...\n",
            "3    hai kak isyana aku ngefans banget sama kak isy...\n",
            "4     manusia apa bidadari sih herann deh cantik terus\n",
            "Name: teks, dtype: object\n"
          ]
        }
      ],
      "source": [
        "# remove single char\n",
        "def remove_singl_char(text):\n",
        "    return re.sub(r\"\\b[a-zA-Z]\\b\", \"\", text)\n",
        "\n",
        "texts = texts.apply(remove_singl_char)\n",
        "print(texts.head())"
      ]
    },
    {
      "cell_type": "code",
      "execution_count": 24,
      "metadata": {
        "colab": {
          "base_uri": "https://localhost:8080/"
        },
        "id": "KRblcOpCdiGI",
        "outputId": "e4f4d8fc-0c73-4757-9634-f25a23c25255"
      },
      "outputs": [
        {
          "output_type": "stream",
          "name": "stdout",
          "text": [
            "0    [k, a, k, a,  , t, i, u, r,  , y, a, a,  , u, ...\n",
            "1    [m, a, k, a, n,  , n, a, s, i,  , p, a, a, n, ...\n",
            "2    [y, a, n, g,  , a, k, u,  , s, u, k, a,  , a, ...\n",
            "3    [h, a, i,  , k, a, k,  , i, s, y, a, n, a,  , ...\n",
            "4    [m, a, n, u, s, i, a,  , a, p, a,  , b, i, a, ...\n",
            "Name: teks, dtype: object\n"
          ]
        }
      ],
      "source": [
        "# Filtering - Stopword Removal\n",
        "from nltk.corpus import stopwords\n",
        "# Get Indonesian stopwords\n",
        "list_stopwords = stopwords.words('indonesian')\n",
        "\n",
        "# append additional stopword\n",
        "list_stopwords.extend([\"yg\", \"dg\", \"rt\", \"dgn\", \"ny\", \"d\", 'klo',\n",
        "                       'kalo', 'amp', 'biar', 'bikin', 'bilang',\n",
        "                       'gak', 'ga', 'krn', 'nya', 'nih', 'sih',\n",
        "                       'si', 'tau', 'tdk', 'tuh', 'utk', 'ya',\n",
        "                       'jd', 'jgn', 'sdh', 'aja',\n",
        "                       'nyg', 'hehe', 'pen', 'nan', 'loh',\n",
        "                       '&amp', 'yah',])\n",
        "\n",
        "# read txt stopword using pandas\n",
        "csv_stopword = pd.read_csv(\"/content/gdrive/MyDrive/Colab Notebooks/Datasets/stopwordsID.csv\")\n",
        "\n",
        "# convert stopword string to list & append additional stopword\n",
        "list_stopwords.extend(csv_stopword)\n",
        "\n",
        "# convert list to dictionary\n",
        "list_stopwords = set(list_stopwords)\n",
        "\n",
        "#remove stopword pada list token\n",
        "def stopwords_removal(words):\n",
        "    return [word for word in words if word not in list_stopwords]\n",
        "\n",
        "texts = texts.apply(stopwords_removal)\n",
        "\n",
        "\n",
        "print(texts.head())"
      ]
    },
    {
      "cell_type": "code",
      "source": [
        "def normalize_text(text):\n",
        "    text = text.lower()\n",
        "    text = re.sub(r'[^a-z\\s]', '', text)\n",
        "    stop_words = set(stopwords.words('indonesian'))\n",
        "    text = ' '.join([word for word in text.split() if word not in stop_words])\n",
        "    text = re.sub(r'\\s+', ' ', text)\n",
        "    return text.strip()\n",
        "\n",
        "ds['teks'] = ds['teks'].apply(normalize_text)"
      ],
      "metadata": {
        "id": "GMMU2VTwKv-G"
      },
      "execution_count": 25,
      "outputs": []
    },
    {
      "cell_type": "code",
      "execution_count": 26,
      "metadata": {
        "colab": {
          "base_uri": "https://localhost:8080/"
        },
        "id": "ptsPlWfcgeVH",
        "outputId": "068a30a5-a897-4a0a-ff33-8f5e6c1f74e1"
      },
      "outputs": [
        {
          "output_type": "execute_result",
          "data": {
            "text/plain": [
              "0    [k, a, k, a,  , t, i, u, r,  , y, a, a,  , u, ...\n",
              "1    [m, a, k, a, n,  , n, a, s, i,  , p, a, a, n, ...\n",
              "2    [y, a, n, g,  , a, k, u,  , s, u, k, a,  , a, ...\n",
              "3    [h, a, i,  , k, a, k,  , i, s, y, a, n, a,  , ...\n",
              "4    [m, a, n, u, s, i, a,  , a, p, a,  , b, i, a, ...\n",
              "5    [k, i, n, a, n, t, i, i,  , i, s, y, a, n,  , ...\n",
              "6    [g, e, m, e, s, n, y, a,  , i, s, y, a, n,  , ...\n",
              "7    [m, a, k, i, n,  , j, e, l, e, k,  , a, j, a, ...\n",
              "8    [k, o, k,  , a, n, a, k, n, y, a,  , k, a, y, ...\n",
              "9    [m, u, k, a,  , a, n, a, k,  , n, y, a,  , k, ...\n",
              "Name: teks, dtype: object"
            ]
          },
          "metadata": {},
          "execution_count": 26
        }
      ],
      "source": [
        "# Normalisasi\n",
        "normalized_word = pd.read_csv(\"/content/gdrive/MyDrive/Colab Notebooks/Datasets/kamus_singkatan.csv\")\n",
        "\n",
        "normalized_word_dict = {}\n",
        "\n",
        "for index, row in normalized_word.iterrows():\n",
        "    if row[0] not in normalized_word_dict:\n",
        "        normalized_word_dict[row[0]] = row[1]\n",
        "\n",
        "def normalized_term(document):\n",
        "    return [normalized_word_dict[term] if term in normalized_word_dict else term for term in document]\n",
        "\n",
        "texts = texts.apply(normalized_term)\n",
        "\n",
        "texts.head(10)"
      ]
    },
    {
      "cell_type": "code",
      "execution_count": 27,
      "metadata": {
        "colab": {
          "base_uri": "https://localhost:8080/"
        },
        "id": "ZWTjez4MgsW1",
        "outputId": "4e6c3aa6-c8b2-442a-8eb5-0b509047ef05"
      },
      "outputs": [
        {
          "output_type": "stream",
          "name": "stdout",
          "text": [
            "[[0. 1.]\n",
            " [0. 1.]\n",
            " [1. 0.]\n",
            " ...\n",
            " [0. 1.]\n",
            " [0. 1.]\n",
            " [0. 1.]]\n"
          ]
        }
      ],
      "source": [
        "# convert the categorical values to numeric using the factorize() method. This returns an array of numeric values and an Index of categories.\n",
        "# Inisialisasi variabel target\n",
        "y = ds[\"label\"]\n",
        "#mengubah y menjadi integer\n",
        "label_encoder = LabelEncoder()\n",
        "y = label_encoder.fit_transform(y)\n",
        "y = to_categorical(y)\n",
        "print(y)"
      ]
    },
    {
      "cell_type": "code",
      "execution_count": 28,
      "metadata": {
        "colab": {
          "base_uri": "https://localhost:8080/"
        },
        "id": "MQZC0GqHg5oV",
        "outputId": "d804c120-5c5d-4bfe-de82-4c836214c3f9"
      },
      "outputs": [
        {
          "output_type": "execute_result",
          "data": {
            "text/plain": [
              "Non-bullying    525\n",
              "Bullying        525\n",
              "Name: label, dtype: int64"
            ]
          },
          "metadata": {},
          "execution_count": 28
        }
      ],
      "source": [
        "# Menghitung jumlah value integer sentimen\n",
        "ds[\"label\"].value_counts()"
      ]
    },
    {
      "cell_type": "code",
      "source": [
        "from sklearn.model_selection import train_test_split\n",
        "from sklearn.feature_extraction.text import CountVectorizer\n",
        "from sklearn.feature_extraction.text import TfidfTransformer\n",
        "from sklearn.preprocessing import LabelEncoder\n",
        "from nltk.stem import PorterStemmer\n",
        "from nltk.corpus import stopwords\n",
        "nltk.download('punkt')\n",
        "from tensorflow.keras.optimizers import Adam"
      ],
      "metadata": {
        "colab": {
          "base_uri": "https://localhost:8080/"
        },
        "id": "5Vbyi5k-Xhze",
        "outputId": "c20d56b9-4481-4f3d-9b6d-f97b6165151c"
      },
      "execution_count": 29,
      "outputs": [
        {
          "output_type": "stream",
          "name": "stderr",
          "text": [
            "[nltk_data] Downloading package punkt to /root/nltk_data...\n",
            "[nltk_data]   Unzipping tokenizers/punkt.zip.\n"
          ]
        }
      ]
    },
    {
      "cell_type": "code",
      "source": [
        "def normalize_text(text):\n",
        "    text = text.lower()\n",
        "    text = re.sub(r'[^a-z\\s]', '', text)\n",
        "    stop_words = set(stopwords.words('english'))\n",
        "    text = ' '.join([word for word in text.split() if word not in stop_words])\n",
        "    text = re.sub(r'\\s+', ' ', text)\n",
        "    return text.strip()\n",
        "\n",
        "ds['teks'] = ds['teks'].apply(normalize_text)"
      ],
      "metadata": {
        "id": "t0SfWnuUYjI9"
      },
      "execution_count": 30,
      "outputs": []
    },
    {
      "cell_type": "code",
      "execution_count": 31,
      "metadata": {
        "id": "RbS87S6Cg-6E",
        "colab": {
          "base_uri": "https://localhost:8080/"
        },
        "outputId": "1235f2f5-e549-42b9-f67c-3eceb1e2b9af"
      },
      "outputs": [
        {
          "output_type": "stream",
          "name": "stderr",
          "text": [
            "/usr/local/lib/python3.10/dist-packages/sklearn/feature_extraction/text.py:528: UserWarning: The parameter 'token_pattern' will not be used since 'tokenizer' is not None'\n",
            "  warnings.warn(\n"
          ]
        }
      ],
      "source": [
        "# Tokenisasi dan stemming\n",
        "def tokenize_and_stem(text):\n",
        "    tokens = [word for sent in nltk.sent_tokenize(text) for word in nltk.word_tokenize(sent)]\n",
        "    stemmer = PorterStemmer()\n",
        "    stems = [stemmer.stem(t) for t in tokens]\n",
        "    return stems\n",
        "\n",
        "# Contoh pemisahan dataset menjadi data latih dan data uji\n",
        "X_train, X_test, y_train, y_test = train_test_split(ds['teks'], ds['label'], test_size=0.2, random_state=42)\n",
        "\n",
        "# Representasi vektor menggunakan CountVectorizer\n",
        "vectorizer = CountVectorizer(tokenizer=tokenize_and_stem, max_features=5000)\n",
        "X_train_counts = vectorizer.fit_transform(X_train)\n",
        "X_test_counts = vectorizer.transform(X_test)\n",
        "\n",
        "# Transformasi TF-IDF\n",
        "tfidf_transformer = TfidfTransformer()\n",
        "X_train_tfidf = tfidf_transformer.fit_transform(X_train_counts)\n",
        "X_test_tfidf = tfidf_transformer.transform(X_test_counts)\n",
        "\n",
        "# Encoding label kategori menggunakan LabelEncoder\n",
        "label_encoder = LabelEncoder()\n",
        "y_train_encoded = label_encoder.fit_transform(y_train)\n",
        "y_test_encoded = label_encoder.transform(y_test)"
      ]
    },
    {
      "cell_type": "markdown",
      "metadata": {
        "id": "6twcZybEiMCY"
      },
      "source": [
        "# **BUILD MODEL**"
      ]
    },
    {
      "cell_type": "code",
      "execution_count": 32,
      "metadata": {
        "colab": {
          "base_uri": "https://localhost:8080/"
        },
        "id": "qjKyFhS7iRyb",
        "outputId": "94915f3b-cfc9-45c1-8f19-0e2393b500d9"
      },
      "outputs": [
        {
          "output_type": "stream",
          "name": "stdout",
          "text": [
            "Model: \"sequential\"\n",
            "_________________________________________________________________\n",
            " Layer (type)                Output Shape              Param #   \n",
            "=================================================================\n",
            " dense (Dense)               (None, 62)                220100    \n",
            "                                                                 \n",
            " dropout (Dropout)           (None, 62)                0         \n",
            "                                                                 \n",
            " dense_1 (Dense)             (None, 32)                2016      \n",
            "                                                                 \n",
            " dropout_1 (Dropout)         (None, 32)                0         \n",
            "                                                                 \n",
            " dense_2 (Dense)             (None, 1)                 33        \n",
            "                                                                 \n",
            "=================================================================\n",
            "Total params: 222149 (867.77 KB)\n",
            "Trainable params: 222149 (867.77 KB)\n",
            "Non-trainable params: 0 (0.00 Byte)\n",
            "_________________________________________________________________\n"
          ]
        }
      ],
      "source": [
        "\n",
        "#untuk menentukan size untuk proses embedding, kalimat input sequence huruf akan diubah menjadi word embedding.\n",
        "#definisi word embedding menyusul\n",
        "model = tf.keras.models.Sequential([\n",
        "    tf.keras.layers.Dense(62, input_shape=(3549,), activation='relu'),\n",
        "    tf.keras.layers.Dropout(0.5),\n",
        "    #tf.keras.layers.Conv1D(64, 5, activation='relu'),\n",
        "    #tf.keras.layers.MaxPooling1D(pool_size=4),\n",
        "    #tf.keras.layers.GlobalAveragePooling1D(),\n",
        "    tf.keras.layers.Dense(32, activation='relu'),\n",
        "    tf.keras.layers.Dropout(0.5),\n",
        "    tf.keras.layers.Dense(1, activation='sigmoid')\n",
        "\n",
        "])\n",
        "# #layer embedding\n",
        "# model.add(Embedding(vocab_size, embedding_vector_length, input_length=200))\n",
        "# #Yang digunakan adalah CNN 1-dimensi\n",
        "# model.add(tf.keras.layers.Conv1D(32,2,activation=\"relu\"))\n",
        "# model.add(tf.keras.layers.MaxPooling1D(5))\n",
        "# #32 adalah filter, 8 unit convolution,\n",
        "# #setelah convolution, pasti ada max pooling, max pooling 1 dimension\n",
        "# model.add(MaxPooling1D(2,2))\n",
        "# #Dropout adalah bentuk konfigurasi supaya tidak overfitting\n",
        "# model.add(Dropout(0.2))\n",
        "# model.add(Dense(64, activation = \"relu\"))\n",
        "# model.add(Dropout(0.5))\n",
        "# model.add(MaxPooling1D(2,2))\n",
        "# #model LSTM\n",
        "# #layer utk mengubah sequence index kata menjadi vektor\n",
        "# model.add(LSTM(100, dropout=0.5, recurrent_dropout=0.5))\n",
        "# model.add(Dropout(0.2))\n",
        "# #layer klasifikasi akhir\n",
        "# model.add(Dense(2, activation='softmax'))\n",
        "# #Compile Model\n",
        "#model.compile(loss='binary_crossentropy',optimizer='sgd', metrics=['accuracy'])\n",
        "# model.compile(loss='binary_crossentropy',optimizer='rmsprop', metrics=['accuracy'])\n",
        "# model.compile(loss='binary_crossentropy',optimizer='adam', metrics=['accuracy'])\n",
        "model.summary()"
      ]
    },
    {
      "cell_type": "code",
      "execution_count": 33,
      "metadata": {
        "id": "7AVBTQtPmm_S"
      },
      "outputs": [],
      "source": [
        "# Learning Rate\n",
        "learning_rate = 0.001\n",
        "optimizer = Adam(learning_rate=learning_rate)\n",
        "\n",
        "# Kompilasi model\n",
        "model.compile(loss='binary_crossentropy', optimizer=optimizer, metrics=['accuracy'])"
      ]
    },
    {
      "cell_type": "code",
      "source": [
        "# Pelatihan model\n",
        "model.fit(X_train_tfidf.toarray(), y_train_encoded, epochs=10, batch_size=32, validation_split=0.1)"
      ],
      "metadata": {
        "colab": {
          "base_uri": "https://localhost:8080/"
        },
        "id": "gpGH6WQnByLS",
        "outputId": "d21c6a80-9509-4a8a-8485-e92b748634e2"
      },
      "execution_count": 34,
      "outputs": [
        {
          "output_type": "stream",
          "name": "stdout",
          "text": [
            "Epoch 1/10\n",
            "24/24 [==============================] - 2s 26ms/step - loss: 0.6928 - accuracy: 0.5013 - val_loss: 0.6899 - val_accuracy: 0.5952\n",
            "Epoch 2/10\n",
            "24/24 [==============================] - 0s 14ms/step - loss: 0.6859 - accuracy: 0.6442 - val_loss: 0.6843 - val_accuracy: 0.7143\n",
            "Epoch 3/10\n",
            "24/24 [==============================] - 0s 13ms/step - loss: 0.6678 - accuracy: 0.7606 - val_loss: 0.6678 - val_accuracy: 0.7143\n",
            "Epoch 4/10\n",
            "24/24 [==============================] - 0s 13ms/step - loss: 0.6189 - accuracy: 0.8558 - val_loss: 0.6203 - val_accuracy: 0.7857\n",
            "Epoch 5/10\n",
            "24/24 [==============================] - 0s 15ms/step - loss: 0.5125 - accuracy: 0.9180 - val_loss: 0.5388 - val_accuracy: 0.7976\n",
            "Epoch 6/10\n",
            "24/24 [==============================] - 0s 13ms/step - loss: 0.3515 - accuracy: 0.9524 - val_loss: 0.4659 - val_accuracy: 0.7976\n",
            "Epoch 7/10\n",
            "24/24 [==============================] - 0s 13ms/step - loss: 0.2210 - accuracy: 0.9735 - val_loss: 0.4237 - val_accuracy: 0.8214\n",
            "Epoch 8/10\n",
            "24/24 [==============================] - 0s 13ms/step - loss: 0.1397 - accuracy: 0.9802 - val_loss: 0.4255 - val_accuracy: 0.7976\n",
            "Epoch 9/10\n",
            "24/24 [==============================] - 0s 13ms/step - loss: 0.0979 - accuracy: 0.9894 - val_loss: 0.4197 - val_accuracy: 0.8095\n",
            "Epoch 10/10\n",
            "24/24 [==============================] - 0s 13ms/step - loss: 0.0653 - accuracy: 0.9894 - val_loss: 0.4296 - val_accuracy: 0.8095\n"
          ]
        },
        {
          "output_type": "execute_result",
          "data": {
            "text/plain": [
              "<keras.src.callbacks.History at 0x780ed32ef190>"
            ]
          },
          "metadata": {},
          "execution_count": 34
        }
      ]
    },
    {
      "cell_type": "code",
      "execution_count": 30,
      "metadata": {
        "colab": {
          "base_uri": "https://localhost:8080/",
          "height": 564
        },
        "id": "HZQp0kT0if5Z",
        "outputId": "253e941d-aebe-46c9-a063-7a112dafefac"
      },
      "outputs": [
        {
          "output_type": "execute_result",
          "data": {
            "image/png": "[encoded data removed]",
            "text/plain": [
              "<IPython.core.display.Image object>"
            ]
          },
          "metadata": {},
          "execution_count": 30
        }
      ],
      "source": [
        "#Plotting model\n",
        "plot_model(model)"
      ]
    },
    {
      "cell_type": "code",
      "execution_count": 35,
      "metadata": {
        "colab": {
          "base_uri": "https://localhost:8080/"
        },
        "id": "o_B58uhEilol",
        "outputId": "bd969b18-85db-493e-b6b1-9983b20d8a23"
      },
      "outputs": [
        {
          "output_type": "stream",
          "name": "stdout",
          "text": [
            "Epoch 1/10\n",
            "24/24 [==============================] - 0s 12ms/step - loss: 0.0514 - accuracy: 0.9947 - val_loss: 0.4448 - val_accuracy: 0.8095\n",
            "Epoch 2/10\n",
            "24/24 [==============================] - 0s 9ms/step - loss: 0.0362 - accuracy: 0.9987 - val_loss: 0.4774 - val_accuracy: 0.7976\n",
            "Epoch 3/10\n",
            "24/24 [==============================] - 0s 9ms/step - loss: 0.0273 - accuracy: 1.0000 - val_loss: 0.4605 - val_accuracy: 0.8214\n",
            "Epoch 4/10\n",
            "24/24 [==============================] - 0s 8ms/step - loss: 0.0276 - accuracy: 0.9947 - val_loss: 0.4936 - val_accuracy: 0.8095\n",
            "Epoch 5/10\n",
            "24/24 [==============================] - 0s 8ms/step - loss: 0.0201 - accuracy: 1.0000 - val_loss: 0.4983 - val_accuracy: 0.8214\n",
            "Epoch 6/10\n",
            "24/24 [==============================] - 0s 8ms/step - loss: 0.0190 - accuracy: 0.9974 - val_loss: 0.5189 - val_accuracy: 0.8214\n",
            "Epoch 7/10\n",
            "24/24 [==============================] - 0s 8ms/step - loss: 0.0147 - accuracy: 1.0000 - val_loss: 0.5286 - val_accuracy: 0.8214\n",
            "Epoch 8/10\n",
            "24/24 [==============================] - 0s 10ms/step - loss: 0.0157 - accuracy: 1.0000 - val_loss: 0.5296 - val_accuracy: 0.8095\n",
            "Epoch 9/10\n",
            "24/24 [==============================] - 0s 10ms/step - loss: 0.0107 - accuracy: 1.0000 - val_loss: 0.5499 - val_accuracy: 0.8214\n",
            "Epoch 10/10\n",
            "24/24 [==============================] - 0s 9ms/step - loss: 0.0129 - accuracy: 0.9987 - val_loss: 0.5635 - val_accuracy: 0.8214\n"
          ]
        }
      ],
      "source": [
        "history = model.fit(X_train_tfidf.toarray(), y_train_encoded, epochs=10, batch_size=32, validation_split=0.1)"
      ]
    },
    {
      "cell_type": "code",
      "source": [
        "loss, accuracy = model.evaluate(X_test_tfidf.toarray(), y_test_encoded)\n",
        "print(f'Test Loss: {loss}, Test Accuracy: {accuracy}')"
      ],
      "metadata": {
        "colab": {
          "base_uri": "https://localhost:8080/"
        },
        "id": "9USt2eh8esxO",
        "outputId": "3ec8b8aa-8d32-4661-8917-66f7cff52887"
      },
      "execution_count": 36,
      "outputs": [
        {
          "output_type": "stream",
          "name": "stdout",
          "text": [
            "7/7 [==============================] - 0s 5ms/step - loss: 0.4085 - accuracy: 0.8619\n",
            "Test Loss: 0.40851250290870667, Test Accuracy: 0.8619047403335571\n"
          ]
        }
      ]
    },
    {
      "cell_type": "code",
      "source": [
        "predictions = model.predict(X_test_tfidf.toarray())"
      ],
      "metadata": {
        "colab": {
          "base_uri": "https://localhost:8080/"
        },
        "id": "edTr240be1X7",
        "outputId": "8bff3261-81b8-4367-9a06-9ac891bb2e65"
      },
      "execution_count": 37,
      "outputs": [
        {
          "output_type": "stream",
          "name": "stdout",
          "text": [
            "7/7 [==============================] - 0s 3ms/step\n"
          ]
        }
      ]
    },
    {
      "cell_type": "code",
      "source": [
        "predicted_labels = label_encoder.inverse_transform((predictions > 0.5).astype('int').ravel())"
      ],
      "metadata": {
        "id": "nGdkTMEve49U"
      },
      "execution_count": 38,
      "outputs": []
    },
    {
      "cell_type": "code",
      "source": [
        "model.save('Model_Bully.h5')"
      ],
      "metadata": {
        "colab": {
          "base_uri": "https://localhost:8080/"
        },
        "id": "GrxmB8K3f6un",
        "outputId": "96ef1178-78ca-4ad9-a4a6-71db7129d80b"
      },
      "execution_count": null,
      "outputs": [
        {
          "output_type": "stream",
          "name": "stderr",
          "text": [
            "/usr/local/lib/python3.10/dist-packages/keras/src/engine/training.py:3103: UserWarning: You are saving your model as an HDF5 file via `model.save()`. This file format is considered legacy. We recommend using instead the native Keras format, e.g. `model.save('my_model.keras')`.\n",
            "  saving_api.save_model(\n"
          ]
        }
      ]
    },
    {
      "cell_type": "code",
      "source": [
        "from sklearn.metrics import accuracy_score"
      ],
      "metadata": {
        "id": "FNkpn3QTBCvR"
      },
      "execution_count": 39,
      "outputs": []
    },
    {
      "cell_type": "code",
      "source": [
        "# Melakukan prediksi pada data uji\n",
        "predictions = model.predict(X_test_tfidf.toarray())\n",
        "\n",
        "# Thresholding untuk mengubah nilai probabilitas menjadi label biner (0 atau 1)\n",
        "threshold = 0.5\n",
        "predicted_labels = (predictions > threshold).astype(int)\n",
        "\n",
        "# Evaluasi model\n",
        "accuracy = accuracy_score(y_test_encoded, predicted_labels)\n",
        "print(f'Accuracy: {accuracy}')\n"
      ],
      "metadata": {
        "colab": {
          "base_uri": "https://localhost:8080/"
        },
        "id": "BbjsCI53BLPL",
        "outputId": "8550d9c7-fde4-465b-f040-a1e401c6b69b"
      },
      "execution_count": 40,
      "outputs": [
        {
          "output_type": "stream",
          "name": "stdout",
          "text": [
            "7/7 [==============================] - 0s 3ms/step\n",
            "Accuracy: 0.861904761904762\n"
          ]
        }
      ]
    },
    {
      "cell_type": "code",
      "source": [
        "import matplotlib.pyplot as plt\n",
        "\n",
        "#history = model.fit(X_train_tfidf.toarray(), y_train_encoded, epochs=10, validation_data=(X_test_tfidf.toarray(), y_test_encoded))\n",
        "\n",
        "# Plot loss\n",
        "plt.plot(history.history['loss'], label='Training Loss')\n",
        "plt.plot(history.history['val_loss'], label='Validation Loss')\n",
        "plt.legend()\n",
        "plt.show()\n",
        "\n",
        "# Plot accuracy\n",
        "plt.plot(history.history['accuracy'], label='Training Accuracy')\n",
        "plt.plot(history.history['val_accuracy'], label='Validation Accuracy')\n",
        "plt.legend()\n",
        "plt.show()\n"
      ],
      "metadata": {
        "colab": {
          "base_uri": "https://localhost:8080/",
          "height": 881
        },
        "id": "6qxFD8cABqCH",
        "outputId": "f5422138-b346-49b9-9983-475606d96a60"
      },
      "execution_count": 41,
      "outputs": [
        {
          "output_type": "display_data",
          "data": {
            "text/plain": [
              "<Figure size 640x480 with 1 Axes>"
            ],
            "image/png": "[encoded data removed]"
          },
          "metadata": {}
        },
        {
          "output_type": "display_data",
          "data": {
            "text/plain": [
              "<Figure size 640x480 with 1 Axes>"
            ],
            "image/png": "[encoded data removed]"
          },
          "metadata": {}
        }
      ]
    },
    {
      "cell_type": "code",
      "source": [
        "from sklearn.metrics import accuracy_score, classification_report\n",
        "\n",
        "# Melakukan prediksi pada data uji\n",
        "predictions = model.predict(X_test_tfidf.toarray())\n",
        "\n",
        "# Menggunakan threshold untuk mengubah nilai probabilitas menjadi label biner (0 atau 1)\n",
        "threshold = 0.5\n",
        "predicted_labels = (predictions > threshold).astype(int)\n",
        "\n",
        "# Evaluasi model\n",
        "accuracy = accuracy_score(y_test_encoded, predicted_labels)\n",
        "print(f'Accuracy: {accuracy}')\n",
        "\n",
        "# Classification Report\n",
        "print(classification_report(y_test_encoded, predicted_labels))\n"
      ],
      "metadata": {
        "colab": {
          "base_uri": "https://localhost:8080/"
        },
        "id": "a5D4H5NWCKFH",
        "outputId": "3c7b4f5e-a257-49c9-e379-25bd79d3d5a0"
      },
      "execution_count": 42,
      "outputs": [
        {
          "output_type": "stream",
          "name": "stdout",
          "text": [
            "7/7 [==============================] - 0s 3ms/step\n",
            "Accuracy: 0.861904761904762\n",
            "              precision    recall  f1-score   support\n",
            "\n",
            "           0       0.84      0.90      0.87       105\n",
            "           1       0.89      0.83      0.86       105\n",
            "\n",
            "    accuracy                           0.86       210\n",
            "   macro avg       0.86      0.86      0.86       210\n",
            "weighted avg       0.86      0.86      0.86       210\n",
            "\n"
          ]
        }
      ]
    },
    {
      "cell_type": "code",
      "source": [
        "from sklearn.feature_extraction.text import CountVectorizer\n",
        "from sklearn.metrics import accuracy_score, classification_report, confusion_matrix\n",
        "from tensorflow.keras.models import load_model"
      ],
      "metadata": {
        "id": "jsm9awmT8vmr"
      },
      "execution_count": 2,
      "outputs": []
    },
    {
      "cell_type": "markdown",
      "source": [
        "### TESTING MODEL WITH TEKS"
      ],
      "metadata": {
        "id": "_ergztLZD4o9"
      }
    },
    {
      "cell_type": "markdown",
      "source": [
        "### CASE 1"
      ],
      "metadata": {
        "id": "zUTxLY_2Dp_5"
      }
    },
    {
      "cell_type": "code",
      "source": [
        "# Fungsi untuk preprocessing dan stemming\n",
        "def preprocess_and_stem(text):\n",
        "    # Lowercasing\n",
        "    text = text.lower()\n",
        "\n",
        "    # Menghapus URL\n",
        "    text = re.sub(r'http\\S+', '', text)\n",
        "\n",
        "    # Menghapus tanda baca dan angka\n",
        "    text = re.sub(r'[^a-z\\s]', '', text)\n",
        "\n",
        "    # Tokenisasi\n",
        "    words = nltk.word_tokenize(text)\n",
        "\n",
        "    # Menghapus stop words\n",
        "    stop_words = set(stopwords.words('english'))\n",
        "    words = [word for word in words if word not in stop_words]\n",
        "\n",
        "    # Stemming\n",
        "    stemmer = PorterStemmer()\n",
        "    words = [stemmer.stem(word) for word in words]\n",
        "\n",
        "    # Menggabungkan kembali kata-kata menjadi teks\n",
        "    text = ' '.join(words)\n",
        "\n",
        "    return text\n",
        "\n",
        "# Fungsi untuk memprediksi label dari teks\n",
        "def predict_label(text, model, vectorizer):\n",
        "    # Preprocessing dan stemming teks\n",
        "    processed_text = preprocess_and_stem(text)\n",
        "\n",
        "    # Vectorization menggunakan CountVectorizer\n",
        "    text_vectorized = vectorizer.transform([processed_text])\n",
        "\n",
        "    # Melakukan prediksi menggunakan model\n",
        "    prediction = model.predict(text_vectorized.toarray())\n",
        "\n",
        "    return prediction[0][0]"
      ],
      "metadata": {
        "id": "zzy5pWEa9BII"
      },
      "execution_count": null,
      "outputs": []
    },
    {
      "cell_type": "code",
      "source": [
        "path_model = 'model_violence.h5'\n",
        "model = tf.keras.models.load_model(path_model)"
      ],
      "metadata": {
        "id": "7iSMNSst9ENL"
      },
      "execution_count": null,
      "outputs": []
    },
    {
      "cell_type": "code",
      "source": [
        "import pickle\n",
        "# Menyimpan vectorizer\n",
        "with open('path_vectorizer', 'wb') as f:\n",
        "    pickle.dump(vectorizer, f)"
      ],
      "metadata": {
        "id": "1VNDLRVc9M3A"
      },
      "execution_count": null,
      "outputs": []
    },
    {
      "cell_type": "code",
      "source": [
        "# Gantilah path_vectorizer dengan path tempat menyimpan objek CountVectorizer\n",
        "path_vectorizer = 'path_vectorizer'\n",
        "with open(path_vectorizer, 'rb') as f:\n",
        "    vectorizer = pickle.load(f)"
      ],
      "metadata": {
        "id": "0kP4C6nz9XPD"
      },
      "execution_count": null,
      "outputs": []
    },
    {
      "cell_type": "code",
      "source": [
        "# Teks yang akan diuji\n",
        "text_to_test = \"Contoh teks untuk pengujian model.\"\n",
        "\n",
        "# Melakukan prediksi label\n",
        "prediction = predict_label(text_to_test, model, vectorizer)\n",
        "\n",
        "# Menggunakan threshold untuk mengubah nilai probabilitas menjadi label biner (0 atau 1)\n",
        "threshold = 0.5\n",
        "predicted_label = 1 if prediction > threshold else 0\n",
        "\n",
        "print(f'Teks: {text_to_test}')\n",
        "print(f'Hasil Prediksi: {predicted_label}')"
      ],
      "metadata": {
        "colab": {
          "base_uri": "https://localhost:8080/"
        },
        "id": "VlNS9I_r9xF-",
        "outputId": "f3be0199-f728-4ddc-8f35-f924169935e5"
      },
      "execution_count": null,
      "outputs": [
        {
          "output_type": "stream",
          "name": "stdout",
          "text": [
            "1/1 [==============================] - 0s 50ms/step\n",
            "Teks: Contoh teks untuk pengujian model.\n",
            "Hasil Prediksi: 0\n"
          ]
        }
      ]
    },
    {
      "cell_type": "code",
      "execution_count": null,
      "metadata": {
        "colab": {
          "base_uri": "https://localhost:8080/",
          "height": 988
        },
        "id": "xYcN9lteCOsy",
        "outputId": "c11c0214-689d-4ccf-e4ce-eda544c45e89"
      },
      "outputs": [
        {
          "output_type": "stream",
          "name": "stderr",
          "text": [
            "<ipython-input-93-31471df47f30>:7: MatplotlibDeprecationWarning: The seaborn styles shipped by Matplotlib are deprecated since 3.6, as they no longer correspond to the styles shipped by seaborn. However, they will remain available as 'seaborn-v0_8-<style>'. Alternatively, directly use the seaborn API instead.\n",
            "  plt.style.use(['seaborn-whitegrid'])\n"
          ]
        },
        {
          "output_type": "display_data",
          "data": {
            "text/plain": [
              "<Figure size 640x480 with 1 Axes>"
            ],
            "image/png": "[encoded data removed]"
          },
          "metadata": {}
        },
        {
          "output_type": "display_data",
          "data": {
            "text/plain": [
              "<Figure size 640x480 with 1 Axes>"
            ],
            "image/png": "[encoded data removed]"
          },
          "metadata": {}
        }
      ],
      "source": [
        "#Plot training validation accuracy and loss\n",
        "acc = hist.history['accuracy']\n",
        "val_acc = hist.history['val_accuracy']\n",
        "loss = hist.history['loss']\n",
        "val_loss = hist.history['val_loss']\n",
        "epochs = range(1, len(acc) + 1)\n",
        "plt.style.use(['seaborn-whitegrid'])\n",
        "mpl.rcParams['axes.prop_cycle'] = cycler(color=['r', 'b'])\n",
        "plt.plot(epochs, acc, 'r', label='Training acc')\n",
        "plt.plot(epochs, val_acc, 'b', label='Validation acc')\n",
        "plt.title('Training and Validation accuracy')\n",
        "plt.legend()\n",
        "plt.figure()\n",
        "plt.plot(epochs, loss, 'r', label='Training loss')\n",
        "plt.plot(epochs, val_loss, 'b', label='Validation loss')\n",
        "plt.title('Training and Validation Loss')\n",
        "plt.legend()\n",
        "plt.show()"
      ]
    },
    {
      "cell_type": "code",
      "execution_count": null,
      "metadata": {
        "colab": {
          "base_uri": "https://localhost:8080/",
          "height": 737
        },
        "id": "it5pbHF_Cb_Z",
        "outputId": "45f16c36-e235-4a92-96ea-3bb8f21006be"
      },
      "outputs": [
        {
          "output_type": "error",
          "ename": "ValueError",
          "evalue": "ignored",
          "traceback": [
            "\u001b[0;31m---------------------------------------------------------------------------\u001b[0m",
            "\u001b[0;31mValueError\u001b[0m                                Traceback (most recent call last)",
            "\u001b[0;32m<ipython-input-94-81df46cc688f>\u001b[0m in \u001b[0;36m<cell line: 2>\u001b[0;34m()\u001b[0m\n\u001b[1;32m      1\u001b[0m \u001b[0;31m# Akurasi model\u001b[0m\u001b[0;34m\u001b[0m\u001b[0;34m\u001b[0m\u001b[0m\n\u001b[0;32m----> 2\u001b[0;31m \u001b[0maccuracy\u001b[0m \u001b[0;34m=\u001b[0m \u001b[0mmodel\u001b[0m\u001b[0;34m.\u001b[0m\u001b[0mevaluate\u001b[0m\u001b[0;34m(\u001b[0m\u001b[0mX_test\u001b[0m\u001b[0;34m,\u001b[0m \u001b[0my_test\u001b[0m\u001b[0;34m)\u001b[0m\u001b[0;34m\u001b[0m\u001b[0;34m\u001b[0m\u001b[0m\n\u001b[0m\u001b[1;32m      3\u001b[0m \u001b[0mprint\u001b[0m\u001b[0;34m(\u001b[0m\u001b[0;34m\"Accuracy of the model is: \"\u001b[0m\u001b[0;34m,\u001b[0m \u001b[0maccuracy\u001b[0m\u001b[0;34m)\u001b[0m\u001b[0;34m\u001b[0m\u001b[0;34m\u001b[0m\u001b[0m\n",
            "\u001b[0;32m/usr/local/lib/python3.10/dist-packages/keras/src/utils/traceback_utils.py\u001b[0m in \u001b[0;36merror_handler\u001b[0;34m(*args, **kwargs)\u001b[0m\n\u001b[1;32m     68\u001b[0m             \u001b[0;31m# To get the full stack trace, call:\u001b[0m\u001b[0;34m\u001b[0m\u001b[0;34m\u001b[0m\u001b[0m\n\u001b[1;32m     69\u001b[0m             \u001b[0;31m# `tf.debugging.disable_traceback_filtering()`\u001b[0m\u001b[0;34m\u001b[0m\u001b[0;34m\u001b[0m\u001b[0m\n\u001b[0;32m---> 70\u001b[0;31m             \u001b[0;32mraise\u001b[0m \u001b[0me\u001b[0m\u001b[0;34m.\u001b[0m\u001b[0mwith_traceback\u001b[0m\u001b[0;34m(\u001b[0m\u001b[0mfiltered_tb\u001b[0m\u001b[0;34m)\u001b[0m \u001b[0;32mfrom\u001b[0m \u001b[0;32mNone\u001b[0m\u001b[0;34m\u001b[0m\u001b[0;34m\u001b[0m\u001b[0m\n\u001b[0m\u001b[1;32m     71\u001b[0m         \u001b[0;32mfinally\u001b[0m\u001b[0;34m:\u001b[0m\u001b[0;34m\u001b[0m\u001b[0;34m\u001b[0m\u001b[0m\n\u001b[1;32m     72\u001b[0m             \u001b[0;32mdel\u001b[0m \u001b[0mfiltered_tb\u001b[0m\u001b[0;34m\u001b[0m\u001b[0;34m\u001b[0m\u001b[0m\n",
            "\u001b[0;32m/usr/local/lib/python3.10/dist-packages/keras/src/engine/training.py\u001b[0m in \u001b[0;36mtf__test_function\u001b[0;34m(iterator)\u001b[0m\n\u001b[1;32m     13\u001b[0m                 \u001b[0;32mtry\u001b[0m\u001b[0;34m:\u001b[0m\u001b[0;34m\u001b[0m\u001b[0;34m\u001b[0m\u001b[0m\n\u001b[1;32m     14\u001b[0m                     \u001b[0mdo_return\u001b[0m \u001b[0;34m=\u001b[0m \u001b[0;32mTrue\u001b[0m\u001b[0;34m\u001b[0m\u001b[0;34m\u001b[0m\u001b[0m\n\u001b[0;32m---> 15\u001b[0;31m                     \u001b[0mretval_\u001b[0m \u001b[0;34m=\u001b[0m \u001b[0mag__\u001b[0m\u001b[0;34m.\u001b[0m\u001b[0mconverted_call\u001b[0m\u001b[0;34m(\u001b[0m\u001b[0mag__\u001b[0m\u001b[0;34m.\u001b[0m\u001b[0mld\u001b[0m\u001b[0;34m(\u001b[0m\u001b[0mstep_function\u001b[0m\u001b[0;34m)\u001b[0m\u001b[0;34m,\u001b[0m \u001b[0;34m(\u001b[0m\u001b[0mag__\u001b[0m\u001b[0;34m.\u001b[0m\u001b[0mld\u001b[0m\u001b[0;34m(\u001b[0m\u001b[0mself\u001b[0m\u001b[0;34m)\u001b[0m\u001b[0;34m,\u001b[0m \u001b[0mag__\u001b[0m\u001b[0;34m.\u001b[0m\u001b[0mld\u001b[0m\u001b[0;34m(\u001b[0m\u001b[0miterator\u001b[0m\u001b[0;34m)\u001b[0m\u001b[0;34m)\u001b[0m\u001b[0;34m,\u001b[0m \u001b[0;32mNone\u001b[0m\u001b[0;34m,\u001b[0m \u001b[0mfscope\u001b[0m\u001b[0;34m)\u001b[0m\u001b[0;34m\u001b[0m\u001b[0;34m\u001b[0m\u001b[0m\n\u001b[0m\u001b[1;32m     16\u001b[0m                 \u001b[0;32mexcept\u001b[0m\u001b[0;34m:\u001b[0m\u001b[0;34m\u001b[0m\u001b[0;34m\u001b[0m\u001b[0m\n\u001b[1;32m     17\u001b[0m                     \u001b[0mdo_return\u001b[0m \u001b[0;34m=\u001b[0m \u001b[0;32mFalse\u001b[0m\u001b[0;34m\u001b[0m\u001b[0;34m\u001b[0m\u001b[0m\n",
            "\u001b[0;31mValueError\u001b[0m: in user code:\n\n    File \"/usr/local/lib/python3.10/dist-packages/keras/src/engine/training.py\", line 2066, in test_function  *\n        return step_function(self, iterator)\n    File \"/usr/local/lib/python3.10/dist-packages/keras/src/engine/training.py\", line 2049, in step_function  **\n        outputs = model.distribute_strategy.run(run_step, args=(data,))\n    File \"/usr/local/lib/python3.10/dist-packages/keras/src/engine/training.py\", line 2037, in run_step  **\n        outputs = model.test_step(data)\n    File \"/usr/local/lib/python3.10/dist-packages/keras/src/engine/training.py\", line 1917, in test_step\n        y_pred = self(x, training=False)\n    File \"/usr/local/lib/python3.10/dist-packages/keras/src/utils/traceback_utils.py\", line 70, in error_handler\n        raise e.with_traceback(filtered_tb) from None\n    File \"/usr/local/lib/python3.10/dist-packages/keras/src/engine/input_spec.py\", line 280, in assert_input_compatibility\n        raise ValueError(\n\n    ValueError: Exception encountered when calling layer 'sequential' (type Sequential).\n    \n    Input 0 of layer \"dense\" is incompatible with the layer: expected axis -1 of input shape to have value 3549, but received input with shape (None, 1)\n    \n    Call arguments received by layer 'sequential' (type Sequential):\n      • inputs=tf.Tensor(shape=(None, 1), dtype=string)\n      • training=False\n      • mask=None\n"
          ]
        }
      ],
      "source": [
        "# Akurasi model\n",
        "accuracy = model.evaluate(X_test, y_test)\n",
        "print(\"Accuracy of the model is: \", accuracy)"
      ]
    },
    {
      "cell_type": "code",
      "execution_count": null,
      "metadata": {
        "id": "9ILEfTCGCgst"
      },
      "outputs": [],
      "source": [
        "#Evaluasi\n",
        "print(\"Model Performance of CNN (Test Accuracy)\")\n",
        "print('Accuracy: {:0.2f}%\\nLoss: {:0.2f}%\\n'.format(accuracy[1]*100, accuracy[0]))"
      ]
    },
    {
      "cell_type": "code",
      "execution_count": null,
      "metadata": {
        "id": "9J72JPMoFx4F"
      },
      "outputs": [],
      "source": [
        "model.save('model_bully.h5')"
      ]
    },
    {
      "cell_type": "markdown",
      "source": [
        "### CASE 2"
      ],
      "metadata": {
        "id": "LZ-yBAeKDtLx"
      }
    },
    {
      "cell_type": "code",
      "source": [
        "from sklearn.metrics import classification_report, confusion_matrix, accuracy_score,  roc_curve, auc\n",
        "from sklearn.model_selection import cross_val_score"
      ],
      "metadata": {
        "id": "dGXVfCR5RwK7"
      },
      "execution_count": 43,
      "outputs": []
    },
    {
      "cell_type": "code",
      "source": [
        "# Evaluasi model pada data uji\n",
        "y_pred = model.predict(X_test_tfidf.toarray())\n",
        "y_pred_classes = np.argmax(y_pred, axis=1)\n",
        "y_test_encoded = np.array(y_test_encoded)\n",
        "\n",
        "# 1. Classification Report\n",
        "print(\"Classification Report:\")\n",
        "print(classification_report(y_test_encoded, predicted_labels))\n",
        "\n",
        "# 2. Confusion Matrix\n",
        "print(\"\\nConfusion Matrix:\")\n",
        "print(confusion_matrix(y_test_encoded, predicted_labels))\n",
        "\n",
        "# 3. Accuracy Score\n",
        "accuracy = accuracy_score(y_test_encoded, predicted_labels)\n",
        "print(f\"\\nAccuracy Score: {accuracy * 100:.2f}%\")\n",
        "\n",
        "# 4. Cross-Validation\n",
        "#cv_scores = cross_val_score(model, X_train_tfidf.toarray(), y_train_encoded, cv=5)\n",
        "#print(\"\\nCross-Validation Scores:\")\n",
        "#print(cv_scores)\n",
        "#print(f\"Mean Cross-Validation Accuracy: {np.mean(cv_scores) * 100:.2f}%\")"
      ],
      "metadata": {
        "colab": {
          "base_uri": "https://localhost:8080/"
        },
        "id": "3Tkak54oLIDH",
        "outputId": "3ab51bf9-2675-4237-9f02-86817fcc3932"
      },
      "execution_count": 45,
      "outputs": [
        {
          "output_type": "stream",
          "name": "stdout",
          "text": [
            "7/7 [==============================] - 0s 8ms/step\n",
            "Classification Report:\n",
            "              precision    recall  f1-score   support\n",
            "\n",
            "           0       0.84      0.90      0.87       105\n",
            "           1       0.89      0.83      0.86       105\n",
            "\n",
            "    accuracy                           0.86       210\n",
            "   macro avg       0.86      0.86      0.86       210\n",
            "weighted avg       0.86      0.86      0.86       210\n",
            "\n",
            "\n",
            "Confusion Matrix:\n",
            "[[94 11]\n",
            " [18 87]]\n",
            "\n",
            "Accuracy Score: 86.19%\n"
          ]
        }
      ]
    },
    {
      "cell_type": "code",
      "source": [
        "# Prediksi label pada data uji\n",
        "y_pred = model.predict(X_test_tfidf.toarray())\n",
        "\n",
        "\n",
        "# Confusion Matrix\n",
        "conf_matrix = confusion_matrix(y_test_encoded, y_pred_classes)\n",
        "print(\"Confusion Matrix:\")\n",
        "print(conf_matrix)\n",
        "\n",
        "# Classification Report\n",
        "class_report = classification_report(y_test_encoded,predicted_labels)\n",
        "print(\"Classification Report:\")\n",
        "print(class_report)\n",
        "\n",
        "# Kurva ROC-AUC\n",
        "y_pred_prob = model.predict(X_test_tfidf.toarray())\n",
        "fpr, tpr, thresholds = roc_curve(y_test_encoded, y_pred_prob)\n",
        "roc_auc = auc(fpr, tpr)\n",
        "\n",
        "# Visualisasi Kurva ROC\n",
        "plt.figure(figsize=(8, 6))\n",
        "plt.plot(fpr, tpr, color='darkorange', lw=2, label='ROC curve (area = {:.2f})'.format(roc_auc))\n",
        "plt.plot([0, 1], [0, 1], color='navy', lw=2, linestyle='--')\n",
        "plt.xlabel('False Positive Rate')\n",
        "plt.ylabel('True Positive Rate')\n",
        "plt.title('Receiver Operating Characteristic (ROC) Curve')\n",
        "plt.legend(loc='lower right')\n",
        "plt.show()\n"
      ],
      "metadata": {
        "colab": {
          "base_uri": "https://localhost:8080/",
          "height": 865
        },
        "id": "HbSwaDc5SMTC",
        "outputId": "0c10fd1f-2f67-40c7-a351-09d98f0b5fae"
      },
      "execution_count": 50,
      "outputs": [
        {
          "output_type": "stream",
          "name": "stdout",
          "text": [
            "7/7 [==============================] - 0s 7ms/step\n",
            "Confusion Matrix:\n",
            "[[105   0]\n",
            " [105   0]]\n",
            "Classification Report:\n",
            "              precision    recall  f1-score   support\n",
            "\n",
            "           0       0.84      0.90      0.87       105\n",
            "           1       0.89      0.83      0.86       105\n",
            "\n",
            "    accuracy                           0.86       210\n",
            "   macro avg       0.86      0.86      0.86       210\n",
            "weighted avg       0.86      0.86      0.86       210\n",
            "\n",
            "7/7 [==============================] - 0s 7ms/step\n"
          ]
        },
        {
          "output_type": "display_data",
          "data": {
            "text/plain": [
              "<Figure size 800x600 with 1 Axes>"
            ],
            "image/png": "[encoded data removed]"
          },
          "metadata": {}
        }
      ]
    },
    {
      "cell_type": "code",
      "source": [
        "import numpy as np\n",
        "\n",
        "# Fungsi untuk melakukan normalisasi dan tokenisasi pada teks\n",
        "def preprocess_text(text):\n",
        "    normalized_text = normalize_text(text)\n",
        "    tokenized_text = tokenize_and_stem(normalized_text)\n",
        "    return ' '.join(tokenized_text)\n",
        "\n",
        "# Contoh teks untuk pengujian\n",
        "test_text = \"aku melihat teman saya dibully sampe kena mental\"\n",
        "\n",
        "\n",
        "# Normalisasi dan tokenisasi teks pengujian\n",
        "preprocessed_text = preprocess_text(test_text)\n",
        "\n",
        "# Representasi vektor menggunakan CountVectorizer dan TF-IDF Transformer\n",
        "test_text_vectorized = vectorizer.transform([preprocessed_text])\n",
        "test_text_tfidf = tfidf_transformer.transform(test_text_vectorized)\n",
        "\n",
        "# Prediksi label\n",
        "predictions = model.predict(test_text_tfidf.toarray())\n",
        "predicted_label_index = np.argmax(predictions)\n",
        "predicted_label = label_encoder.classes_[predicted_label_index]\n",
        "\n",
        "# Konversi probabilitas menjadi label\n",
        "predik_label = 1 if predictions > 0.5 else 0\n",
        "\n",
        "    # Tampilkan hasil prediksi dan persentase\n",
        "if predik_label > 0.5:\n",
        "        sentiment = 'Positif'\n",
        "        confidence = predictions * 100\n",
        "else:\n",
        "        sentiment = 'Negatif'\n",
        "        confidence = (1 - predictions) * 100\n",
        "\n",
        "print(f'Teks: {test_text}')\n",
        "print(f'Predicted Label: {predicted_label}')\n",
        "print(f'Kepercayaan: {confidence:.2f}%\\n')\n"
      ],
      "metadata": {
        "colab": {
          "base_uri": "https://localhost:8080/",
          "height": 262
        },
        "id": "GsGiU8YJD_VQ",
        "outputId": "eb2a2ca5-e8c0-4382-dcbb-dbcb27281713"
      },
      "execution_count": 57,
      "outputs": [
        {
          "output_type": "stream",
          "name": "stdout",
          "text": [
            "1/1 [==============================] - 0s 39ms/step\n",
            "Teks: aku melihat teman saya dibully sampe kena mental\n",
            "Predicted Label: Bullying\n"
          ]
        },
        {
          "output_type": "error",
          "ename": "TypeError",
          "evalue": "ignored",
          "traceback": [
            "\u001b[0;31m---------------------------------------------------------------------------\u001b[0m",
            "\u001b[0;31mTypeError\u001b[0m                                 Traceback (most recent call last)",
            "\u001b[0;32m<ipython-input-57-c4149735bc0e>\u001b[0m in \u001b[0;36m<cell line: 38>\u001b[0;34m()\u001b[0m\n\u001b[1;32m     36\u001b[0m \u001b[0mprint\u001b[0m\u001b[0;34m(\u001b[0m\u001b[0;34mf'Teks: {test_text}'\u001b[0m\u001b[0;34m)\u001b[0m\u001b[0;34m\u001b[0m\u001b[0;34m\u001b[0m\u001b[0m\n\u001b[1;32m     37\u001b[0m \u001b[0mprint\u001b[0m\u001b[0;34m(\u001b[0m\u001b[0;34mf'Predicted Label: {predicted_label}'\u001b[0m\u001b[0;34m)\u001b[0m\u001b[0;34m\u001b[0m\u001b[0;34m\u001b[0m\u001b[0m\n\u001b[0;32m---> 38\u001b[0;31m \u001b[0mprint\u001b[0m\u001b[0;34m(\u001b[0m\u001b[0;34mf'Kepercayaan: {confidence:.2f}%\\n'\u001b[0m\u001b[0;34m)\u001b[0m\u001b[0;34m\u001b[0m\u001b[0;34m\u001b[0m\u001b[0m\n\u001b[0m",
            "\u001b[0;31mTypeError\u001b[0m: unsupported format string passed to numpy.ndarray.__format__"
          ]
        }
      ]
    },
    {
      "cell_type": "code",
      "source": [
        "# Testing model dengan data teks array\n",
        "new_texts = [\"aku melihat teman saya dibully sampe kena mental\", \"Contoh teks 2\", \"Contoh teks 3\"]\n",
        "new_texts_normalized = [normalize_text(text) for text in new_texts]\n",
        "new_texts_vectorized = vectorizer.transform(new_texts_normalized)\n",
        "new_texts_tfidf = tfidf_transformer.transform(new_texts_vectorized.toarray())\n",
        "\n",
        "# Prediksi label\n",
        "new_texts_pred = model.predict(new_texts_tfidf.toarray())\n",
        "new_texts_pred_classes = np.argmax(new_texts_pred, axis=1)\n",
        "\n",
        "# Decoding label menggunakan LabelEncoder\n",
        "new_texts_pred_labels = label_encoder.inverse_transform(new_texts_pred_classes)\n",
        "\n",
        "# Tampilkan hasil prediksi\n",
        "for i in range(len(new_texts)):\n",
        "    print(f\"Text: {new_texts[i]}, Predicted Label: {new_texts_pred_labels[i]}\")"
      ],
      "metadata": {
        "colab": {
          "base_uri": "https://localhost:8080/"
        },
        "id": "9vSOcmahCIzW",
        "outputId": "79815219-65ce-4651-e206-207ac8e3e69d"
      },
      "execution_count": 56,
      "outputs": [
        {
          "output_type": "stream",
          "name": "stdout",
          "text": [
            "1/1 [==============================] - 0s 68ms/step\n",
            "Text: aku melihat teman saya dibully sampe kena mental, Predicted Label: Bullying\n",
            "Text: Contoh teks 2, Predicted Label: Bullying\n",
            "Text: Contoh teks 3, Predicted Label: Bullying\n"
          ]
        }
      ]
    },
    {
      "cell_type": "code",
      "source": [
        "from nltk.corpus import stopwords"
      ],
      "metadata": {
        "id": "MVySO4E8Siv7"
      },
      "execution_count": 13,
      "outputs": []
    },
    {
      "cell_type": "code",
      "source": [
        "model = load_model('Model_Bullying.h5')"
      ],
      "metadata": {
        "id": "bs8j1UnTQ9Dp"
      },
      "execution_count": 9,
      "outputs": []
    },
    {
      "cell_type": "code",
      "source": [
        "import numpy as np\n",
        "\n",
        "def normalize_text(text):\n",
        "    text = text.lower()\n",
        "    text = re.sub(r'[^a-z\\s]', '', text)\n",
        "    stop_words = set(stopwords.words('indonesian'))\n",
        "    text = ' '.join([word for word in text.split() if word not in stop_words])\n",
        "    text = re.sub(r'\\s+', ' ', text)\n",
        "    return text.strip()\n",
        "\n",
        "# Fungsi untuk mendapatkan kategori berdasarkan range persentase\n",
        "def get_category(percentage):\n",
        "    if percentage < 0.33:\n",
        "        return 'Ringan'\n",
        "    elif 0.33 <= percentage < 0.67:\n",
        "        return 'Sedang'\n",
        "    else:\n",
        "        return 'Berat'\n",
        "\n",
        "# Fungsi untuk menampilkan hasil testing dengan label, persentase, dan kategori\n",
        "def test_model(model, texts):\n",
        "    # Normalisasi teks pada data uji\n",
        "    normalized_texts = [normalize_text(text) for text in texts]\n",
        "\n",
        "    # Representasi vektor menggunakan CountVectorizer dan TF-IDF Transformer\n",
        "    text_counts = vectorizer.transform(normalized_texts)\n",
        "    text_tfidf = tfidf_transformer.transform(text_counts)\n",
        "\n",
        "    # Prediksi label pada data uji baru\n",
        "    predictions = model.predict(text_tfidf.toarray())\n",
        "\n",
        "    # Decode label yang telah di-encode sebelumnya\n",
        "    decoded_predictions = label_encoder.inverse_transform(np.argmax(predictions, axis=1))\n",
        "\n",
        "    # Menampilkan hasil prediksi\n",
        "    for i in range(len(texts)):\n",
        "        label = decoded_predictions[i]\n",
        "        confidence = np.max(predictions[i]) * 100\n",
        "        category = get_category(confidence / 100)  # Konversi persentase ke range 0-1\n",
        "\n",
        "        print(f'Teks: {texts[i]}')\n",
        "        print(f'Prediksi: {label}')\n",
        "        print(f'Persentase: {confidence:.2f}%')\n",
        "        print(f'Kategori: {category}')\n",
        "        print()\n",
        "\n",
        "# Contoh data teks untuk pengujian\n",
        "test_texts = [\"aku melihat teman saya dibully sampe kena mental.\", \"Contoh teks 2 untuk pengujian.\"]\n",
        "\n",
        "# Melakukan pengujian model\n",
        "test_model(model, test_texts)\n"
      ],
      "metadata": {
        "colab": {
          "base_uri": "https://localhost:8080/",
          "height": 331
        },
        "id": "qVjYigFtGQ47",
        "outputId": "1e86f1a8-737a-41af-8f2f-abd82526a860"
      },
      "execution_count": 14,
      "outputs": [
        {
          "output_type": "error",
          "ename": "NameError",
          "evalue": "ignored",
          "traceback": [
            "\u001b[0;31m---------------------------------------------------------------------------\u001b[0m",
            "\u001b[0;31mNameError\u001b[0m                                 Traceback (most recent call last)",
            "\u001b[0;32m<ipython-input-14-f292c76de68a>\u001b[0m in \u001b[0;36m<cell line: 51>\u001b[0;34m()\u001b[0m\n\u001b[1;32m     49\u001b[0m \u001b[0;34m\u001b[0m\u001b[0m\n\u001b[1;32m     50\u001b[0m \u001b[0;31m# Melakukan pengujian model\u001b[0m\u001b[0;34m\u001b[0m\u001b[0;34m\u001b[0m\u001b[0m\n\u001b[0;32m---> 51\u001b[0;31m \u001b[0mtest_model\u001b[0m\u001b[0;34m(\u001b[0m\u001b[0mmodel\u001b[0m\u001b[0;34m,\u001b[0m \u001b[0mtest_texts\u001b[0m\u001b[0;34m)\u001b[0m\u001b[0;34m\u001b[0m\u001b[0;34m\u001b[0m\u001b[0m\n\u001b[0m",
            "\u001b[0;32m<ipython-input-14-f292c76de68a>\u001b[0m in \u001b[0;36mtest_model\u001b[0;34m(model, texts)\u001b[0m\n\u001b[1;32m     24\u001b[0m \u001b[0;34m\u001b[0m\u001b[0m\n\u001b[1;32m     25\u001b[0m     \u001b[0;31m# Representasi vektor menggunakan CountVectorizer dan TF-IDF Transformer\u001b[0m\u001b[0;34m\u001b[0m\u001b[0;34m\u001b[0m\u001b[0m\n\u001b[0;32m---> 26\u001b[0;31m     \u001b[0mtext_counts\u001b[0m \u001b[0;34m=\u001b[0m \u001b[0mvectorizer\u001b[0m\u001b[0;34m.\u001b[0m\u001b[0mtransform\u001b[0m\u001b[0;34m(\u001b[0m\u001b[0mnormalized_texts\u001b[0m\u001b[0;34m)\u001b[0m\u001b[0;34m\u001b[0m\u001b[0;34m\u001b[0m\u001b[0m\n\u001b[0m\u001b[1;32m     27\u001b[0m     \u001b[0mtext_tfidf\u001b[0m \u001b[0;34m=\u001b[0m \u001b[0mtfidf_transformer\u001b[0m\u001b[0;34m.\u001b[0m\u001b[0mtransform\u001b[0m\u001b[0;34m(\u001b[0m\u001b[0mtext_counts\u001b[0m\u001b[0;34m)\u001b[0m\u001b[0;34m\u001b[0m\u001b[0;34m\u001b[0m\u001b[0m\n\u001b[1;32m     28\u001b[0m \u001b[0;34m\u001b[0m\u001b[0m\n",
            "\u001b[0;31mNameError\u001b[0m: name 'vectorizer' is not defined"
          ]
        }
      ]
    },
    {
      "cell_type": "code",
      "source": [
        "model.save('Model_Bullying.h5')"
      ],
      "metadata": {
        "colab": {
          "base_uri": "https://localhost:8080/"
        },
        "id": "JWUpXXqjJyCz",
        "outputId": "91689746-3516-41cb-894a-96553ba36222"
      },
      "execution_count": 60,
      "outputs": [
        {
          "output_type": "stream",
          "name": "stderr",
          "text": [
            "/usr/local/lib/python3.10/dist-packages/keras/src/engine/training.py:3103: UserWarning: You are saving your model as an HDF5 file via `model.save()`. This file format is considered legacy. We recommend using instead the native Keras format, e.g. `model.save('my_model.keras')`.\n",
            "  saving_api.save_model(\n"
          ]
        }
      ]
    }
  ],
  "metadata": {
    "colab": {
      "provenance": [],
      "collapsed_sections": [
        "F3IWKnCDcPI5",
        "zUTxLY_2Dp_5"
      ],
      "include_colab_link": true
    },
    "kernelspec": {
      "display_name": "Python 3",
      "name": "python3"
    },
    "language_info": {
      "name": "python"
    }
  },
  "nbformat": 4,
  "nbformat_minor": 0
}