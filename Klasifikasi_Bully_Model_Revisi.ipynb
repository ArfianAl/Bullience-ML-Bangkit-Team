{
  "cells": [
    {
      "cell_type": "markdown",
      "metadata": {
        "id": "view-in-github",
        "colab_type": "text"
      },
      "source": [
        "<a href=\"https://colab.research.google.com/github/ArfianAl/Bullience-ML-Bangkit-Team/blob/main/Klasifikasi_Bully_Model_Revisi.ipynb\" target=\"_parent\"><img src=\"https://colab.research.google.com/assets/colab-badge.svg\" alt=\"Open In Colab\"/></a>"
      ]
    },
    {
      "cell_type": "code",
      "execution_count": null,
      "metadata": {
        "colab": {
          "base_uri": "https://localhost:8080/",
          "height": 69
        },
        "id": "CrlYJxd0XQN4",
        "outputId": "2606de61-d2ba-4003-9579-92c7f0196df8"
      },
      "outputs": [
        {
          "output_type": "stream",
          "name": "stderr",
          "text": [
            "[nltk_data] Downloading package stopwords to /root/nltk_data...\n",
            "[nltk_data]   Unzipping corpora/stopwords.zip.\n"
          ]
        },
        {
          "output_type": "display_data",
          "data": {
            "text/plain": [
              "<Figure size 640x480 with 0 Axes>"
            ]
          },
          "metadata": {}
        }
      ],
      "source": [
        "from google.colab import drive\n",
        "import matplotlib.pyplot as plt\n",
        "import pandas as pd\n",
        "import numpy as np\n",
        "import seaborn as sns\n",
        "\n",
        "from tensorflow.keras.layers import LSTM,Dense, Dropout, SpatialDropout1D\n",
        "from tensorflow.keras.layers import Embedding\n",
        "from tensorflow.keras.preprocessing.sequence import pad_sequences\n",
        "from tensorflow.keras.preprocessing.text import Tokenizer\n",
        "from tensorflow.keras.models import Sequential\n",
        "from tensorflow.keras.utils import plot_model\n",
        "from sklearn.preprocessing import LabelEncoder\n",
        "from tensorflow.keras.utils import to_categorical\n",
        "from tensorflow.keras.layers import Conv1D, MaxPooling1D, GlobalMaxPooling1D\n",
        "import tensorflow as tf\n",
        "import matplotlib as mpl\n",
        "from cycler import cycler\n",
        "mpl.rcParams['lines.linewidth'] = 2\n",
        "mpl.rcParams['lines.linestyle'] = '--'\n",
        "import re\n",
        "import string\n",
        "import nltk\n",
        "nltk.download('stopwords')\n",
        "sns.despine()\n",
        "plt.style.use(\"fivethirtyeight\")\n",
        "sns.set_style(\"darkgrid\")"
      ]
    },
    {
      "cell_type": "code",
      "execution_count": null,
      "metadata": {
        "colab": {
          "base_uri": "https://localhost:8080/"
        },
        "id": "3TThb7h8X8PJ",
        "outputId": "71e72661-ec14-44a1-a42d-50f776fdc013"
      },
      "outputs": [
        {
          "output_type": "stream",
          "name": "stdout",
          "text": [
            "Requirement already satisfied: openpyxl in /usr/local/lib/python3.10/dist-packages (3.1.2)\n",
            "Requirement already satisfied: et-xmlfile in /usr/local/lib/python3.10/dist-packages (from openpyxl) (1.1.0)\n"
          ]
        }
      ],
      "source": [
        "pip install openpyxl"
      ]
    },
    {
      "cell_type": "markdown",
      "metadata": {
        "id": "F3IWKnCDcPI5"
      },
      "source": [
        "# **READ DATASET**"
      ]
    },
    {
      "cell_type": "code",
      "execution_count": null,
      "metadata": {
        "colab": {
          "base_uri": "https://localhost:8080/"
        },
        "id": "OTTAVL2-X_GE",
        "outputId": "029948f8-8d37-4212-eb87-d3229257d251"
      },
      "outputs": [
        {
          "output_type": "stream",
          "name": "stdout",
          "text": [
            "Mounted at /content/gdrive\n"
          ]
        }
      ],
      "source": [
        "drive.mount('/content/gdrive')"
      ]
    },
    {
      "cell_type": "markdown",
      "metadata": {
        "id": "-eeUtIb7ceBC"
      },
      "source": []
    },
    {
      "cell_type": "code",
      "execution_count": null,
      "metadata": {
        "colab": {
          "base_uri": "https://localhost:8080/",
          "height": 423
        },
        "id": "ZX4I75xxYi2t",
        "outputId": "d08ca680-011f-4ff3-ce45-f6c031b20e50"
      },
      "outputs": [
        {
          "output_type": "execute_result",
          "data": {
            "text/plain": [
              "        id                                               teks         label\n",
              "0        1          Kaka tidur yaa, udah pagi, gaboleh capek2  Non-bullying\n",
              "1        2              makan nasi padang aja begini badannya  Non-bullying\n",
              "2        3  yang aku suka dari dia adalah selalu cukur jem...      Bullying\n",
              "3        4  Hai kak Isyana aku ngefans banget sama kak Isy...  Non-bullying\n",
              "4        5  Manusia apa bidadari sih herann deh cantik ter...  Non-bullying\n",
              "...    ...                                                ...           ...\n",
              "1045  1046  Bangga sama suami yg selalu ingat istri disela...  Non-bullying\n",
              "1046  1047  Apaoun pekerjaannya yg penting halal u tuk men...  Non-bullying\n",
              "1047  1048  Gojek itu mayoritas pegangguran yang lama gak ...  Non-bullying\n",
              "1048  1049  <USERNAME> aslinya cantik dan ayu loh mbak krn...  Non-bullying\n",
              "1049  1050  <USERNAME> suami saya seumuran sama saya mba, ...  Non-bullying\n",
              "\n",
              "[1050 rows x 3 columns]"
            ],
            "text/html": [
              "\n",
              "  <div id=\"df-b2fa410e-423f-4079-8e28-bfff479907b4\" class=\"colab-df-container\">\n",
              "    <div>\n",
              "<style scoped>\n",
              "    .dataframe tbody tr th:only-of-type {\n",
              "        vertical-align: middle;\n",
              "    }\n",
              "\n",
              "    .dataframe tbody tr th {\n",
              "        vertical-align: top;\n",
              "    }\n",
              "\n",
              "    .dataframe thead th {\n",
              "        text-align: right;\n",
              "    }\n",
              "</style>\n",
              "<table border=\"1\" class=\"dataframe\">\n",
              "  <thead>\n",
              "    <tr style=\"text-align: right;\">\n",
              "      <th></th>\n",
              "      <th>id</th>\n",
              "      <th>teks</th>\n",
              "      <th>label</th>\n",
              "    </tr>\n",
              "  </thead>\n",
              "  <tbody>\n",
              "    <tr>\n",
              "      <th>0</th>\n",
              "      <td>1</td>\n",
              "      <td>Kaka tidur yaa, udah pagi, gaboleh capek2</td>\n",
              "      <td>Non-bullying</td>\n",
              "    </tr>\n",
              "    <tr>\n",
              "      <th>1</th>\n",
              "      <td>2</td>\n",
              "      <td>makan nasi padang aja begini badannya</td>\n",
              "      <td>Non-bullying</td>\n",
              "    </tr>\n",
              "    <tr>\n",
              "      <th>2</th>\n",
              "      <td>3</td>\n",
              "      <td>yang aku suka dari dia adalah selalu cukur jem...</td>\n",
              "      <td>Bullying</td>\n",
              "    </tr>\n",
              "    <tr>\n",
              "      <th>3</th>\n",
              "      <td>4</td>\n",
              "      <td>Hai kak Isyana aku ngefans banget sama kak Isy...</td>\n",
              "      <td>Non-bullying</td>\n",
              "    </tr>\n",
              "    <tr>\n",
              "      <th>4</th>\n",
              "      <td>5</td>\n",
              "      <td>Manusia apa bidadari sih herann deh cantik ter...</td>\n",
              "      <td>Non-bullying</td>\n",
              "    </tr>\n",
              "    <tr>\n",
              "      <th>...</th>\n",
              "      <td>...</td>\n",
              "      <td>...</td>\n",
              "      <td>...</td>\n",
              "    </tr>\n",
              "    <tr>\n",
              "      <th>1045</th>\n",
              "      <td>1046</td>\n",
              "      <td>Bangga sama suami yg selalu ingat istri disela...</td>\n",
              "      <td>Non-bullying</td>\n",
              "    </tr>\n",
              "    <tr>\n",
              "      <th>1046</th>\n",
              "      <td>1047</td>\n",
              "      <td>Apaoun pekerjaannya yg penting halal u tuk men...</td>\n",
              "      <td>Non-bullying</td>\n",
              "    </tr>\n",
              "    <tr>\n",
              "      <th>1047</th>\n",
              "      <td>1048</td>\n",
              "      <td>Gojek itu mayoritas pegangguran yang lama gak ...</td>\n",
              "      <td>Non-bullying</td>\n",
              "    </tr>\n",
              "    <tr>\n",
              "      <th>1048</th>\n",
              "      <td>1049</td>\n",
              "      <td>&lt;USERNAME&gt; aslinya cantik dan ayu loh mbak krn...</td>\n",
              "      <td>Non-bullying</td>\n",
              "    </tr>\n",
              "    <tr>\n",
              "      <th>1049</th>\n",
              "      <td>1050</td>\n",
              "      <td>&lt;USERNAME&gt; suami saya seumuran sama saya mba, ...</td>\n",
              "      <td>Non-bullying</td>\n",
              "    </tr>\n",
              "  </tbody>\n",
              "</table>\n",
              "<p>1050 rows × 3 columns</p>\n",
              "</div>\n",
              "    <div class=\"colab-df-buttons\">\n",
              "\n",
              "  <div class=\"colab-df-container\">\n",
              "    <button class=\"colab-df-convert\" onclick=\"convertToInteractive('df-b2fa410e-423f-4079-8e28-bfff479907b4')\"\n",
              "            title=\"Convert this dataframe to an interactive table.\"\n",
              "            style=\"display:none;\">\n",
              "\n",
              "  <svg xmlns=\"http://www.w3.org/2000/svg\" height=\"24px\" viewBox=\"0 -960 960 960\">\n",
              "    <path d=\"M120-120v-720h720v720H120Zm60-500h600v-160H180v160Zm220 220h160v-160H400v160Zm0 220h160v-160H400v160ZM180-400h160v-160H180v160Zm440 0h160v-160H620v160ZM180-180h160v-160H180v160Zm440 0h160v-160H620v160Z\"/>\n",
              "  </svg>\n",
              "    </button>\n",
              "\n",
              "  <style>\n",
              "    .colab-df-container {\n",
              "      display:flex;\n",
              "      gap: 12px;\n",
              "    }\n",
              "\n",
              "    .colab-df-convert {\n",
              "      background-color: #E8F0FE;\n",
              "      border: none;\n",
              "      border-radius: 50%;\n",
              "      cursor: pointer;\n",
              "      display: none;\n",
              "      fill: #1967D2;\n",
              "      height: 32px;\n",
              "      padding: 0 0 0 0;\n",
              "      width: 32px;\n",
              "    }\n",
              "\n",
              "    .colab-df-convert:hover {\n",
              "      background-color: #E2EBFA;\n",
              "      box-shadow: 0px 1px 2px rgba(60, 64, 67, 0.3), 0px 1px 3px 1px rgba(60, 64, 67, 0.15);\n",
              "      fill: #174EA6;\n",
              "    }\n",
              "\n",
              "    .colab-df-buttons div {\n",
              "      margin-bottom: 4px;\n",
              "    }\n",
              "\n",
              "    [theme=dark] .colab-df-convert {\n",
              "      background-color: #3B4455;\n",
              "      fill: #D2E3FC;\n",
              "    }\n",
              "\n",
              "    [theme=dark] .colab-df-convert:hover {\n",
              "      background-color: #434B5C;\n",
              "      box-shadow: 0px 1px 3px 1px rgba(0, 0, 0, 0.15);\n",
              "      filter: drop-shadow(0px 1px 2px rgba(0, 0, 0, 0.3));\n",
              "      fill: #FFFFFF;\n",
              "    }\n",
              "  </style>\n",
              "\n",
              "    <script>\n",
              "      const buttonEl =\n",
              "        document.querySelector('#df-b2fa410e-423f-4079-8e28-bfff479907b4 button.colab-df-convert');\n",
              "      buttonEl.style.display =\n",
              "        google.colab.kernel.accessAllowed ? 'block' : 'none';\n",
              "\n",
              "      async function convertToInteractive(key) {\n",
              "        const element = document.querySelector('#df-b2fa410e-423f-4079-8e28-bfff479907b4');\n",
              "        const dataTable =\n",
              "          await google.colab.kernel.invokeFunction('convertToInteractive',\n",
              "                                                    [key], {});\n",
              "        if (!dataTable) return;\n",
              "\n",
              "        const docLinkHtml = 'Like what you see? Visit the ' +\n",
              "          '<a target=\"_blank\" href=https://colab.research.google.com/notebooks/data_table.ipynb>data table notebook</a>'\n",
              "          + ' to learn more about interactive tables.';\n",
              "        element.innerHTML = '';\n",
              "        dataTable['output_type'] = 'display_data';\n",
              "        await google.colab.output.renderOutput(dataTable, element);\n",
              "        const docLink = document.createElement('div');\n",
              "        docLink.innerHTML = docLinkHtml;\n",
              "        element.appendChild(docLink);\n",
              "      }\n",
              "    </script>\n",
              "  </div>\n",
              "\n",
              "\n",
              "<div id=\"df-4a936d9f-9f78-475b-98f1-34f1dc68dfe7\">\n",
              "  <button class=\"colab-df-quickchart\" onclick=\"quickchart('df-4a936d9f-9f78-475b-98f1-34f1dc68dfe7')\"\n",
              "            title=\"Suggest charts\"\n",
              "            style=\"display:none;\">\n",
              "\n",
              "<svg xmlns=\"http://www.w3.org/2000/svg\" height=\"24px\"viewBox=\"0 0 24 24\"\n",
              "     width=\"24px\">\n",
              "    <g>\n",
              "        <path d=\"M19 3H5c-1.1 0-2 .9-2 2v14c0 1.1.9 2 2 2h14c1.1 0 2-.9 2-2V5c0-1.1-.9-2-2-2zM9 17H7v-7h2v7zm4 0h-2V7h2v10zm4 0h-2v-4h2v4z\"/>\n",
              "    </g>\n",
              "</svg>\n",
              "  </button>\n",
              "\n",
              "<style>\n",
              "  .colab-df-quickchart {\n",
              "      --bg-color: #E8F0FE;\n",
              "      --fill-color: #1967D2;\n",
              "      --hover-bg-color: #E2EBFA;\n",
              "      --hover-fill-color: #174EA6;\n",
              "      --disabled-fill-color: #AAA;\n",
              "      --disabled-bg-color: #DDD;\n",
              "  }\n",
              "\n",
              "  [theme=dark] .colab-df-quickchart {\n",
              "      --bg-color: #3B4455;\n",
              "      --fill-color: #D2E3FC;\n",
              "      --hover-bg-color: #434B5C;\n",
              "      --hover-fill-color: #FFFFFF;\n",
              "      --disabled-bg-color: #3B4455;\n",
              "      --disabled-fill-color: #666;\n",
              "  }\n",
              "\n",
              "  .colab-df-quickchart {\n",
              "    background-color: var(--bg-color);\n",
              "    border: none;\n",
              "    border-radius: 50%;\n",
              "    cursor: pointer;\n",
              "    display: none;\n",
              "    fill: var(--fill-color);\n",
              "    height: 32px;\n",
              "    padding: 0;\n",
              "    width: 32px;\n",
              "  }\n",
              "\n",
              "  .colab-df-quickchart:hover {\n",
              "    background-color: var(--hover-bg-color);\n",
              "    box-shadow: 0 1px 2px rgba(60, 64, 67, 0.3), 0 1px 3px 1px rgba(60, 64, 67, 0.15);\n",
              "    fill: var(--button-hover-fill-color);\n",
              "  }\n",
              "\n",
              "  .colab-df-quickchart-complete:disabled,\n",
              "  .colab-df-quickchart-complete:disabled:hover {\n",
              "    background-color: var(--disabled-bg-color);\n",
              "    fill: var(--disabled-fill-color);\n",
              "    box-shadow: none;\n",
              "  }\n",
              "\n",
              "  .colab-df-spinner {\n",
              "    border: 2px solid var(--fill-color);\n",
              "    border-color: transparent;\n",
              "    border-bottom-color: var(--fill-color);\n",
              "    animation:\n",
              "      spin 1s steps(1) infinite;\n",
              "  }\n",
              "\n",
              "  @keyframes spin {\n",
              "    0% {\n",
              "      border-color: transparent;\n",
              "      border-bottom-color: var(--fill-color);\n",
              "      border-left-color: var(--fill-color);\n",
              "    }\n",
              "    20% {\n",
              "      border-color: transparent;\n",
              "      border-left-color: var(--fill-color);\n",
              "      border-top-color: var(--fill-color);\n",
              "    }\n",
              "    30% {\n",
              "      border-color: transparent;\n",
              "      border-left-color: var(--fill-color);\n",
              "      border-top-color: var(--fill-color);\n",
              "      border-right-color: var(--fill-color);\n",
              "    }\n",
              "    40% {\n",
              "      border-color: transparent;\n",
              "      border-right-color: var(--fill-color);\n",
              "      border-top-color: var(--fill-color);\n",
              "    }\n",
              "    60% {\n",
              "      border-color: transparent;\n",
              "      border-right-color: var(--fill-color);\n",
              "    }\n",
              "    80% {\n",
              "      border-color: transparent;\n",
              "      border-right-color: var(--fill-color);\n",
              "      border-bottom-color: var(--fill-color);\n",
              "    }\n",
              "    90% {\n",
              "      border-color: transparent;\n",
              "      border-bottom-color: var(--fill-color);\n",
              "    }\n",
              "  }\n",
              "</style>\n",
              "\n",
              "  <script>\n",
              "    async function quickchart(key) {\n",
              "      const quickchartButtonEl =\n",
              "        document.querySelector('#' + key + ' button');\n",
              "      quickchartButtonEl.disabled = true;  // To prevent multiple clicks.\n",
              "      quickchartButtonEl.classList.add('colab-df-spinner');\n",
              "      try {\n",
              "        const charts = await google.colab.kernel.invokeFunction(\n",
              "            'suggestCharts', [key], {});\n",
              "      } catch (error) {\n",
              "        console.error('Error during call to suggestCharts:', error);\n",
              "      }\n",
              "      quickchartButtonEl.classList.remove('colab-df-spinner');\n",
              "      quickchartButtonEl.classList.add('colab-df-quickchart-complete');\n",
              "    }\n",
              "    (() => {\n",
              "      let quickchartButtonEl =\n",
              "        document.querySelector('#df-4a936d9f-9f78-475b-98f1-34f1dc68dfe7 button');\n",
              "      quickchartButtonEl.style.display =\n",
              "        google.colab.kernel.accessAllowed ? 'block' : 'none';\n",
              "    })();\n",
              "  </script>\n",
              "</div>\n",
              "    </div>\n",
              "  </div>\n"
            ]
          },
          "metadata": {},
          "execution_count": 4
        }
      ],
      "source": [
        "ds= pd.read_csv(\"/content/gdrive/MyDrive/Colab Notebooks/Datasets/DATASETS GABUNGAN BULLIENCE.csv\")\n",
        "ds"
      ]
    },
    {
      "cell_type": "markdown",
      "metadata": {
        "id": "wMyzm5g9cl4W"
      },
      "source": [
        "# **DATA PREPROCESSING**"
      ]
    },
    {
      "cell_type": "code",
      "execution_count": null,
      "metadata": {
        "colab": {
          "base_uri": "https://localhost:8080/"
        },
        "id": "1D5RtfvxYpUY",
        "outputId": "10199eff-c6e9-49f1-8ca9-a66846b2e11b"
      },
      "outputs": [
        {
          "output_type": "stream",
          "name": "stdout",
          "text": [
            "<class 'pandas.core.frame.DataFrame'>\n",
            "RangeIndex: 1050 entries, 0 to 1049\n",
            "Data columns (total 3 columns):\n",
            " #   Column  Non-Null Count  Dtype \n",
            "---  ------  --------------  ----- \n",
            " 0   id      1050 non-null   int64 \n",
            " 1   teks    1050 non-null   object\n",
            " 2   label   1050 non-null   object\n",
            "dtypes: int64(1), object(2)\n",
            "memory usage: 24.7+ KB\n"
          ]
        }
      ],
      "source": [
        "#info dataset\n",
        "ds.info()"
      ]
    },
    {
      "cell_type": "code",
      "execution_count": null,
      "metadata": {
        "colab": {
          "base_uri": "https://localhost:8080/"
        },
        "id": "brejv1XkY7wA",
        "outputId": "c8479565-1e75-4aab-bb19-3fb0ba0a0805"
      },
      "outputs": [
        {
          "output_type": "execute_result",
          "data": {
            "text/plain": [
              "False"
            ]
          },
          "metadata": {},
          "execution_count": 6
        }
      ],
      "source": [
        "# Checking for null values\n",
        "ds.isnull().values.any()"
      ]
    },
    {
      "cell_type": "code",
      "execution_count": null,
      "metadata": {
        "colab": {
          "base_uri": "https://localhost:8080/"
        },
        "id": "yiv6ELl0ZB3W",
        "outputId": "bcc71376-d1bf-48fa-8e52-febccef6b17d"
      },
      "outputs": [
        {
          "output_type": "execute_result",
          "data": {
            "text/plain": [
              "Non-bullying    525\n",
              "Bullying        525\n",
              "Name: label, dtype: int64"
            ]
          },
          "metadata": {},
          "execution_count": 7
        }
      ],
      "source": [
        "# Melihat jumlah masing-masing tipe\n",
        "ds['label'].value_counts()"
      ]
    },
    {
      "cell_type": "code",
      "execution_count": null,
      "metadata": {
        "colab": {
          "base_uri": "https://localhost:8080/",
          "height": 513
        },
        "id": "RJmqHLX6ZxlG",
        "outputId": "17bf48f0-7c17-4afc-f5b4-8396a328535e"
      },
      "outputs": [
        {
          "output_type": "stream",
          "name": "stdout",
          "text": [
            "Counter({'Non-bullying': 525, 'Bullying': 525})\n"
          ]
        },
        {
          "output_type": "execute_result",
          "data": {
            "text/plain": [
              "<Axes: xlabel='label', ylabel='count'>"
            ]
          },
          "metadata": {},
          "execution_count": 8
        },
        {
          "output_type": "display_data",
          "data": {
            "text/plain": [
              "<Figure size 640x480 with 1 Axes>"
            ],
            "image/png": "[encoded data removed]"
          },
          "metadata": {}
        }
      ],
      "source": [
        "# Distribusi Target\n",
        "x = ds.teks\n",
        "y = ds.label\n",
        "\n",
        "from collections import Counter\n",
        "\n",
        "print(Counter(y))\n",
        "sns.countplot(x=y)"
      ]
    },
    {
      "cell_type": "code",
      "execution_count": null,
      "metadata": {
        "colab": {
          "base_uri": "https://localhost:8080/",
          "height": 680
        },
        "id": "RiIvAw8TamD8",
        "outputId": "bb10e9b9-fad6-4912-b5ce-c0ad26a408a5"
      },
      "outputs": [
        {
          "output_type": "display_data",
          "data": {
            "text/plain": [
              "count    525.000000\n",
              "mean      15.417143\n",
              "std       12.487982\n",
              "min        3.000000\n",
              "25%        8.000000\n",
              "50%       12.000000\n",
              "75%       18.000000\n",
              "max      152.000000\n",
              "Name: Length, dtype: float64"
            ]
          },
          "metadata": {}
        },
        {
          "output_type": "display_data",
          "data": {
            "text/plain": [
              "<Figure size 500x500 with 1 Axes>"
            ],
            "image/png": "[encoded data removed]"
          },
          "metadata": {}
        }
      ],
      "source": [
        "# Melihat statistical description serta histogram panjang teks Non-B\n",
        "ds[\"Length\"] = ds.teks.str.split().apply(len)\n",
        "plt.figure(figsize=(5,5))\n",
        "sns.histplot(ds[ds[\"label\"]==\"Non-bullying\"]['Length'],color=\"g\")\n",
        "plt.title(\"Distribution of text length for not_bullying\")\n",
        "display(ds.Length[ds[\"label\"]==\"Non-bullying\"].describe())"
      ]
    },
    {
      "cell_type": "code",
      "execution_count": null,
      "metadata": {
        "colab": {
          "base_uri": "https://localhost:8080/",
          "height": 680
        },
        "id": "cNMvfYvfa3d4",
        "outputId": "f28cfeb5-601d-4a80-eadc-5ad002c09ee3"
      },
      "outputs": [
        {
          "output_type": "display_data",
          "data": {
            "text/plain": [
              "count    525.000000\n",
              "mean      15.676190\n",
              "std       13.125128\n",
              "min        2.000000\n",
              "25%        7.000000\n",
              "50%       10.000000\n",
              "75%       19.000000\n",
              "max       73.000000\n",
              "Name: Length, dtype: float64"
            ]
          },
          "metadata": {}
        },
        {
          "output_type": "display_data",
          "data": {
            "text/plain": [
              "<Figure size 500x500 with 1 Axes>"
            ],
            "image/png": "[encoded data removed]"
          },
          "metadata": {}
        }
      ],
      "source": [
        "# Melihat statistical description serta histogram panjang teks B\n",
        "ds[\"Length\"] = ds.teks.str.split().apply(len)\n",
        "plt.figure(figsize=(5,5))\n",
        "sns.histplot(ds[ds[\"label\"]==\"Bullying\"]['Length'],color=\"r\")\n",
        "plt.title(\"Distribution of text length for bullying\")\n",
        "display(ds.Length[ds[\"label\"]==\"Bullying\"].describe())"
      ]
    },
    {
      "cell_type": "code",
      "execution_count": null,
      "metadata": {
        "colab": {
          "base_uri": "https://localhost:8080/"
        },
        "id": "okH61f0obJMQ",
        "outputId": "ef8fcc1b-878f-4232-fff9-4af883061b4a"
      },
      "outputs": [
        {
          "output_type": "stream",
          "name": "stdout",
          "text": [
            "0            Kaka tidur yaa, udah pagi, gaboleh capek2\n",
            "1                makan nasi padang aja begini badannya\n",
            "2    yang aku suka dari dia adalah selalu cukur jem...\n",
            "3    Hai kak Isyana aku ngefans banget sama kak Isy...\n",
            "4    Manusia apa bidadari sih herann deh cantik ter...\n",
            "Name: teks, dtype: object\n"
          ]
        }
      ],
      "source": [
        "# variabel untuk kolom teks\n",
        "texts = ds.teks\n",
        "print(texts.head())"
      ]
    },
    {
      "cell_type": "code",
      "execution_count": null,
      "metadata": {
        "colab": {
          "base_uri": "https://localhost:8080/"
        },
        "id": "5HeSac_Db3dU",
        "outputId": "cca5f156-b075-4546-c7b4-d82322777e55"
      },
      "outputs": [
        {
          "output_type": "stream",
          "name": "stdout",
          "text": [
            "0            kaka tidur yaa, udah pagi, gaboleh capek2\n",
            "1                makan nasi padang aja begini badannya\n",
            "2    yang aku suka dari dia adalah selalu cukur jem...\n",
            "3    hai kak isyana aku ngefans banget sama kak isy...\n",
            "4    manusia apa bidadari sih herann deh cantik ter...\n",
            "Name: teks, dtype: object\n"
          ]
        }
      ],
      "source": [
        "# Case Folding\n",
        "# gunakan fungsi series.str.lower() pada Pandas\n",
        "texts = texts.str.lower()\n",
        "\n",
        "print(texts.head())"
      ]
    },
    {
      "cell_type": "code",
      "execution_count": null,
      "metadata": {
        "colab": {
          "base_uri": "https://localhost:8080/"
        },
        "id": "N4fKPYJIb_OO",
        "outputId": "cb9451cf-8877-4b0d-aae4-c913a6139dde"
      },
      "outputs": [
        {
          "output_type": "stream",
          "name": "stdout",
          "text": [
            "0            kaka tidur yaa, udah pagi, gaboleh capek2\n",
            "1                makan nasi padang aja begini badannya\n",
            "2    yang aku suka dari dia adalah selalu cukur jem...\n",
            "3    hai kak isyana aku ngefans banget sama kak isy...\n",
            "4    manusia apa bidadari sih herann deh cantik ter...\n",
            "Name: teks, dtype: object\n"
          ]
        }
      ],
      "source": [
        "def remove_special_signs(text):\n",
        "    # remove tab, new line, ans back slice\n",
        "    text = text.replace('\\\\t',\" \").replace('\\\\n',\" \").replace('\\\\u',\" \").replace('\\\\',\"\")\n",
        "    # remove non ASCII (emoticon, chinese word, .etc)\n",
        "    text = text.encode('ascii', 'replace').decode('ascii')\n",
        "    # remove mention, link, hashtag\n",
        "    text = ' '.join(re.sub(\"([@#][A-Za-z0-9]+)|(\\w+:\\/\\/\\S+)\",\" \", text).split())\n",
        "    # remove incomplete URL\n",
        "    return text.replace(\"http://\", \" \").replace(\"https://\", \" \")\n",
        "\n",
        "texts = texts.apply(remove_special_signs)\n",
        "print(texts.head())"
      ]
    },
    {
      "cell_type": "code",
      "execution_count": null,
      "metadata": {
        "colab": {
          "base_uri": "https://localhost:8080/"
        },
        "id": "M-IJu1XCc5P8",
        "outputId": "66f8fc3d-ae54-4bea-b46f-088ea9dfdd3f"
      },
      "outputs": [
        {
          "output_type": "execute_result",
          "data": {
            "text/plain": [
              "0             kaka tidur yaa, udah pagi, gaboleh capek\n",
              "1                makan nasi padang aja begini badannya\n",
              "2    yang aku suka dari dia adalah selalu cukur jem...\n",
              "3    hai kak isyana aku ngefans banget sama kak isy...\n",
              "4    manusia apa bidadari sih herann deh cantik ter...\n",
              "Name: teks, dtype: object"
            ]
          },
          "metadata": {},
          "execution_count": 14
        }
      ],
      "source": [
        "#remove number\n",
        "def remove_number(text):\n",
        "    return  re.sub(r\"\\d+\", \"\", text)\n",
        "\n",
        "texts = texts.apply(remove_number)\n",
        "texts.head(5)"
      ]
    },
    {
      "cell_type": "code",
      "execution_count": null,
      "metadata": {
        "colab": {
          "base_uri": "https://localhost:8080/"
        },
        "id": "wl-m5UL9dBdE",
        "outputId": "1725dd2a-7df7-48a1-c1cc-efb670362f5e"
      },
      "outputs": [
        {
          "output_type": "execute_result",
          "data": {
            "text/plain": [
              "0               kaka tidur yaa udah pagi gaboleh capek\n",
              "1                makan nasi padang aja begini badannya\n",
              "2    yang aku suka dari dia adalah selalu cukur jem...\n",
              "3    hai kak isyana aku ngefans banget sama kak isy...\n",
              "4    manusia apa bidadari sih herann deh cantik terus \n",
              "Name: teks, dtype: object"
            ]
          },
          "metadata": {},
          "execution_count": 15
        }
      ],
      "source": [
        "# remove punctuation\n",
        "def remove_punctuation(text):\n",
        "    return text.translate(str.maketrans(\"\",\"\",string.punctuation))\n",
        "\n",
        "texts = texts.apply(remove_punctuation)\n",
        "texts.head(5)"
      ]
    },
    {
      "cell_type": "code",
      "execution_count": null,
      "metadata": {
        "colab": {
          "base_uri": "https://localhost:8080/"
        },
        "id": "x1sW22vgdO3G",
        "outputId": "f86469ef-7816-47a9-f6c8-cd57810ebcbc"
      },
      "outputs": [
        {
          "output_type": "stream",
          "name": "stdout",
          "text": [
            "0               kaka tidur yaa udah pagi gaboleh capek\n",
            "1                makan nasi padang aja begini badannya\n",
            "2    yang aku suka dari dia adalah selalu cukur jem...\n",
            "3    hai kak isyana aku ngefans banget sama kak isy...\n",
            "4     manusia apa bidadari sih herann deh cantik terus\n",
            "Name: teks, dtype: object\n"
          ]
        }
      ],
      "source": [
        "#remove whitespace leading & trailing\n",
        "def remove_whitespace_LT(text):\n",
        "    return text.strip()\n",
        "\n",
        "texts = texts.apply(remove_whitespace_LT)\n",
        "print(texts.head())"
      ]
    },
    {
      "cell_type": "code",
      "execution_count": null,
      "metadata": {
        "colab": {
          "base_uri": "https://localhost:8080/"
        },
        "id": "Tj4GU6JFdT8a",
        "outputId": "9bc998e5-7788-43ef-9b0c-51bb2f2f45e9"
      },
      "outputs": [
        {
          "output_type": "stream",
          "name": "stdout",
          "text": [
            "0               kaka tidur yaa udah pagi gaboleh capek\n",
            "1                makan nasi padang aja begini badannya\n",
            "2    yang aku suka dari dia adalah selalu cukur jem...\n",
            "3    hai kak isyana aku ngefans banget sama kak isy...\n",
            "4     manusia apa bidadari sih herann deh cantik terus\n",
            "Name: teks, dtype: object\n"
          ]
        }
      ],
      "source": [
        "# remove multiple whitespace into single whitespace\n",
        "def remove_whitespace_multiple(text):\n",
        "    return re.sub('\\s+',' ',text)\n",
        "\n",
        "texts = texts.apply(remove_whitespace_multiple)\n",
        "print(texts.head())"
      ]
    },
    {
      "cell_type": "code",
      "execution_count": null,
      "metadata": {
        "colab": {
          "base_uri": "https://localhost:8080/"
        },
        "id": "p_K2edAjddns",
        "outputId": "9ac2bd11-5c2e-4c59-b404-a7316fb15975"
      },
      "outputs": [
        {
          "output_type": "stream",
          "name": "stdout",
          "text": [
            "0               kaka tidur yaa udah pagi gaboleh capek\n",
            "1                makan nasi padang aja begini badannya\n",
            "2    yang aku suka dari dia adalah selalu cukur jem...\n",
            "3    hai kak isyana aku ngefans banget sama kak isy...\n",
            "4     manusia apa bidadari sih herann deh cantik terus\n",
            "Name: teks, dtype: object\n"
          ]
        }
      ],
      "source": [
        "# remove single char\n",
        "def remove_singl_char(text):\n",
        "    return re.sub(r\"\\b[a-zA-Z]\\b\", \"\", text)\n",
        "\n",
        "texts = texts.apply(remove_singl_char)\n",
        "print(texts.head())"
      ]
    },
    {
      "cell_type": "code",
      "execution_count": null,
      "metadata": {
        "colab": {
          "base_uri": "https://localhost:8080/"
        },
        "id": "KRblcOpCdiGI",
        "outputId": "7cd6993c-52e3-488f-cef4-e500e9bb61b4"
      },
      "outputs": [
        {
          "output_type": "stream",
          "name": "stdout",
          "text": [
            "0    [k, a, k, a,  , t, i, u, r,  , y, a, a,  , u, ...\n",
            "1    [m, a, k, a, n,  , n, a, s, i,  , p, a, a, n, ...\n",
            "2    [y, a, n, g,  , a, k, u,  , s, u, k, a,  , a, ...\n",
            "3    [h, a, i,  , k, a, k,  , i, s, y, a, n, a,  , ...\n",
            "4    [m, a, n, u, s, i, a,  , a, p, a,  , b, i, a, ...\n",
            "Name: teks, dtype: object\n"
          ]
        }
      ],
      "source": [
        "# Filtering - Stopword Removal\n",
        "from nltk.corpus import stopwords\n",
        "# Get Indonesian stopwords\n",
        "list_stopwords = stopwords.words('indonesian')\n",
        "\n",
        "# append additional stopword\n",
        "list_stopwords.extend([\"yg\", \"dg\", \"rt\", \"dgn\", \"ny\", \"d\", 'klo',\n",
        "                       'kalo', 'amp', 'biar', 'bikin', 'bilang',\n",
        "                       'gak', 'ga', 'krn', 'nya', 'nih', 'sih',\n",
        "                       'si', 'tau', 'tdk', 'tuh', 'utk', 'ya',\n",
        "                       'jd', 'jgn', 'sdh', 'aja',\n",
        "                       'nyg', 'hehe', 'pen', 'nan', 'loh',\n",
        "                       '&amp', 'yah',])\n",
        "\n",
        "# read txt stopword using pandas\n",
        "csv_stopword = pd.read_csv(\"/content/gdrive/MyDrive/Colab Notebooks/Datasets/stopwordsID.csv\")\n",
        "\n",
        "# convert stopword string to list & append additional stopword\n",
        "list_stopwords.extend(csv_stopword)\n",
        "\n",
        "# convert list to dictionary\n",
        "list_stopwords = set(list_stopwords)\n",
        "\n",
        "#remove stopword pada list token\n",
        "def stopwords_removal(words):\n",
        "    return [word for word in words if word not in list_stopwords]\n",
        "\n",
        "texts = texts.apply(stopwords_removal)\n",
        "\n",
        "\n",
        "print(texts.head())"
      ]
    },
    {
      "cell_type": "code",
      "source": [
        "def normalize_text(text):\n",
        "    text = text.lower()\n",
        "    text = re.sub(r'[^a-z\\s]', '', text)\n",
        "    stop_words = set(stopwords.words('indonesian'))\n",
        "    text = ' '.join([word for word in text.split() if word not in stop_words])\n",
        "    text = re.sub(r'\\s+', ' ', text)\n",
        "    return text.strip()\n",
        "\n",
        "ds['teks'] = ds['teks'].apply(normalize_text)"
      ],
      "metadata": {
        "id": "GMMU2VTwKv-G"
      },
      "execution_count": null,
      "outputs": []
    },
    {
      "cell_type": "code",
      "execution_count": null,
      "metadata": {
        "colab": {
          "base_uri": "https://localhost:8080/"
        },
        "id": "ptsPlWfcgeVH",
        "outputId": "a8181758-b7d3-45ca-d9e9-dc1abc599b5e"
      },
      "outputs": [
        {
          "output_type": "execute_result",
          "data": {
            "text/plain": [
              "0    [k, a, k, a,  , t, i, u, r,  , y, a, a,  , u, ...\n",
              "1    [m, a, k, a, n,  , n, a, s, i,  , p, a, a, n, ...\n",
              "2    [y, a, n, g,  , a, k, u,  , s, u, k, a,  , a, ...\n",
              "3    [h, a, i,  , k, a, k,  , i, s, y, a, n, a,  , ...\n",
              "4    [m, a, n, u, s, i, a,  , a, p, a,  , b, i, a, ...\n",
              "5    [k, i, n, a, n, t, i, i,  , i, s, y, a, n,  , ...\n",
              "6    [g, e, m, e, s, n, y, a,  , i, s, y, a, n,  , ...\n",
              "7    [m, a, k, i, n,  , j, e, l, e, k,  , a, j, a, ...\n",
              "8    [k, o, k,  , a, n, a, k, n, y, a,  , k, a, y, ...\n",
              "9    [m, u, k, a,  , a, n, a, k,  , n, y, a,  , k, ...\n",
              "Name: teks, dtype: object"
            ]
          },
          "metadata": {},
          "execution_count": 21
        }
      ],
      "source": [
        "# Normalisasi\n",
        "normalized_word = pd.read_csv(\"/content/gdrive/MyDrive/Colab Notebooks/Datasets/kamus_singkatan.csv\")\n",
        "\n",
        "normalized_word_dict = {}\n",
        "\n",
        "for index, row in normalized_word.iterrows():\n",
        "    if row[0] not in normalized_word_dict:\n",
        "        normalized_word_dict[row[0]] = row[1]\n",
        "\n",
        "def normalized_term(document):\n",
        "    return [normalized_word_dict[term] if term in normalized_word_dict else term for term in document]\n",
        "\n",
        "texts = texts.apply(normalized_term)\n",
        "\n",
        "texts.head(10)"
      ]
    },
    {
      "cell_type": "code",
      "execution_count": null,
      "metadata": {
        "colab": {
          "base_uri": "https://localhost:8080/"
        },
        "id": "G-gtCuM7go6U",
        "outputId": "efac1d95-1302-4343-9e39-b7db72ebdd46"
      },
      "outputs": [
        {
          "output_type": "stream",
          "name": "stdout",
          "text": [
            "Collecting Sastrawi\n",
            "  Downloading Sastrawi-1.0.1-py2.py3-none-any.whl (209 kB)\n",
            "\u001b[2K     \u001b[90m━━━━━━━━━━━━━━━━━━━━━━━━━━━━━━━━━━━━━━━━\u001b[0m \u001b[32m209.7/209.7 kB\u001b[0m \u001b[31m1.8 MB/s\u001b[0m eta \u001b[36m0:00:00\u001b[0m\n",
            "\u001b[?25hInstalling collected packages: Sastrawi\n",
            "Successfully installed Sastrawi-1.0.1\n",
            "Collecting Swifter\n",
            "  Downloading swifter-1.4.0.tar.gz (1.2 MB)\n",
            "\u001b[2K     \u001b[90m━━━━━━━━━━━━━━━━━━━━━━━━━━━━━━━━━━━━━━━━\u001b[0m \u001b[32m1.2/1.2 MB\u001b[0m \u001b[31m6.0 MB/s\u001b[0m eta \u001b[36m0:00:00\u001b[0m\n",
            "\u001b[?25h  Preparing metadata (setup.py) ... \u001b[?25l\u001b[?25hdone\n",
            "Requirement already satisfied: pandas>=1.0.0 in /usr/local/lib/python3.10/dist-packages (from Swifter) (1.5.3)\n",
            "Requirement already satisfied: psutil>=5.6.6 in /usr/local/lib/python3.10/dist-packages (from Swifter) (5.9.5)\n",
            "Requirement already satisfied: dask[dataframe]>=2.10.0 in /usr/local/lib/python3.10/dist-packages (from Swifter) (2023.8.1)\n",
            "Requirement already satisfied: tqdm>=4.33.0 in /usr/local/lib/python3.10/dist-packages (from Swifter) (4.66.1)\n",
            "Requirement already satisfied: click>=8.0 in /usr/local/lib/python3.10/dist-packages (from dask[dataframe]>=2.10.0->Swifter) (8.1.7)\n",
            "Requirement already satisfied: cloudpickle>=1.5.0 in /usr/local/lib/python3.10/dist-packages (from dask[dataframe]>=2.10.0->Swifter) (2.2.1)\n",
            "Requirement already satisfied: fsspec>=2021.09.0 in /usr/local/lib/python3.10/dist-packages (from dask[dataframe]>=2.10.0->Swifter) (2023.6.0)\n",
            "Requirement already satisfied: packaging>=20.0 in /usr/local/lib/python3.10/dist-packages (from dask[dataframe]>=2.10.0->Swifter) (23.2)\n",
            "Requirement already satisfied: partd>=1.2.0 in /usr/local/lib/python3.10/dist-packages (from dask[dataframe]>=2.10.0->Swifter) (1.4.1)\n",
            "Requirement already satisfied: pyyaml>=5.3.1 in /usr/local/lib/python3.10/dist-packages (from dask[dataframe]>=2.10.0->Swifter) (6.0.1)\n",
            "Requirement already satisfied: toolz>=0.10.0 in /usr/local/lib/python3.10/dist-packages (from dask[dataframe]>=2.10.0->Swifter) (0.12.0)\n",
            "Requirement already satisfied: importlib-metadata>=4.13.0 in /usr/local/lib/python3.10/dist-packages (from dask[dataframe]>=2.10.0->Swifter) (6.8.0)\n",
            "Requirement already satisfied: python-dateutil>=2.8.1 in /usr/local/lib/python3.10/dist-packages (from pandas>=1.0.0->Swifter) (2.8.2)\n",
            "Requirement already satisfied: pytz>=2020.1 in /usr/local/lib/python3.10/dist-packages (from pandas>=1.0.0->Swifter) (2023.3.post1)\n",
            "Requirement already satisfied: numpy>=1.21.0 in /usr/local/lib/python3.10/dist-packages (from pandas>=1.0.0->Swifter) (1.23.5)\n",
            "Requirement already satisfied: zipp>=0.5 in /usr/local/lib/python3.10/dist-packages (from importlib-metadata>=4.13.0->dask[dataframe]>=2.10.0->Swifter) (3.17.0)\n",
            "Requirement already satisfied: locket in /usr/local/lib/python3.10/dist-packages (from partd>=1.2.0->dask[dataframe]>=2.10.0->Swifter) (1.0.0)\n",
            "Requirement already satisfied: six>=1.5 in /usr/local/lib/python3.10/dist-packages (from python-dateutil>=2.8.1->pandas>=1.0.0->Swifter) (1.16.0)\n",
            "Building wheels for collected packages: Swifter\n",
            "  Building wheel for Swifter (setup.py) ... \u001b[?25l\u001b[?25hdone\n",
            "  Created wheel for Swifter: filename=swifter-1.4.0-py3-none-any.whl size=16506 sha256=834d0635de339de897d26670dfc653a369d90f45562c420720b188ca17370b75\n",
            "  Stored in directory: /root/.cache/pip/wheels/e4/cf/51/0904952972ee2c7aa3709437065278dc534ec1b8d2ad41b443\n",
            "Successfully built Swifter\n",
            "Installing collected packages: Swifter\n",
            "Successfully installed Swifter-1.4.0\n"
          ]
        }
      ],
      "source": [
        "!pip install Sastrawi\n",
        "!pip install Swifter"
      ]
    },
    {
      "cell_type": "code",
      "execution_count": null,
      "metadata": {
        "colab": {
          "base_uri": "https://localhost:8080/"
        },
        "id": "ZWTjez4MgsW1",
        "outputId": "616de33f-fa92-47a1-eae7-f79d0e7fa427"
      },
      "outputs": [
        {
          "output_type": "stream",
          "name": "stdout",
          "text": [
            "[[0. 1.]\n",
            " [0. 1.]\n",
            " [1. 0.]\n",
            " ...\n",
            " [0. 1.]\n",
            " [0. 1.]\n",
            " [0. 1.]]\n"
          ]
        }
      ],
      "source": [
        "# convert the categorical values to numeric using the factorize() method. This returns an array of numeric values and an Index of categories.\n",
        "# Inisialisasi variabel target\n",
        "y = ds[\"label\"]\n",
        "#mengubah y menjadi integer\n",
        "label_encoder = LabelEncoder()\n",
        "y = label_encoder.fit_transform(y)\n",
        "y = to_categorical(y)\n",
        "print(y)"
      ]
    },
    {
      "cell_type": "code",
      "execution_count": null,
      "metadata": {
        "colab": {
          "base_uri": "https://localhost:8080/"
        },
        "id": "MQZC0GqHg5oV",
        "outputId": "cf0f5cfb-9c28-4eb5-dc59-fe6f7aa3ea25"
      },
      "outputs": [
        {
          "output_type": "execute_result",
          "data": {
            "text/plain": [
              "Non-bullying    525\n",
              "Bullying        525\n",
              "Name: label, dtype: int64"
            ]
          },
          "metadata": {},
          "execution_count": 24
        }
      ],
      "source": [
        "# Menghitung jumlah value integer sentimen\n",
        "ds[\"label\"].value_counts()"
      ]
    },
    {
      "cell_type": "code",
      "source": [
        "from sklearn.model_selection import train_test_split\n",
        "from sklearn.feature_extraction.text import CountVectorizer\n",
        "from sklearn.feature_extraction.text import TfidfTransformer\n",
        "from sklearn.preprocessing import LabelEncoder\n",
        "from nltk.stem import PorterStemmer\n",
        "from nltk.corpus import stopwords\n",
        "nltk.download('punkt')"
      ],
      "metadata": {
        "colab": {
          "base_uri": "https://localhost:8080/"
        },
        "id": "5Vbyi5k-Xhze",
        "outputId": "78fce60a-2e0b-4cb6-ed93-2e19f68f610b"
      },
      "execution_count": null,
      "outputs": [
        {
          "output_type": "stream",
          "name": "stderr",
          "text": [
            "[nltk_data] Downloading package punkt to /root/nltk_data...\n",
            "[nltk_data]   Unzipping tokenizers/punkt.zip.\n"
          ]
        },
        {
          "output_type": "execute_result",
          "data": {
            "text/plain": [
              "True"
            ]
          },
          "metadata": {},
          "execution_count": 25
        }
      ]
    },
    {
      "cell_type": "code",
      "source": [
        "def normalize_text(text):\n",
        "    text = text.lower()\n",
        "    text = re.sub(r'[^a-z\\s]', '', text)\n",
        "    stop_words = set(stopwords.words('english'))\n",
        "    text = ' '.join([word for word in text.split() if word not in stop_words])\n",
        "    text = re.sub(r'\\s+', ' ', text)\n",
        "    return text.strip()\n",
        "\n",
        "ds['teks'] = ds['teks'].apply(normalize_text)"
      ],
      "metadata": {
        "id": "t0SfWnuUYjI9"
      },
      "execution_count": null,
      "outputs": []
    },
    {
      "cell_type": "code",
      "execution_count": null,
      "metadata": {
        "id": "RbS87S6Cg-6E",
        "colab": {
          "base_uri": "https://localhost:8080/"
        },
        "outputId": "534ee1b5-f5aa-414c-fe32-ad0d8fcc3760"
      },
      "outputs": [
        {
          "output_type": "stream",
          "name": "stderr",
          "text": [
            "/usr/local/lib/python3.10/dist-packages/sklearn/feature_extraction/text.py:528: UserWarning: The parameter 'token_pattern' will not be used since 'tokenizer' is not None'\n",
            "  warnings.warn(\n"
          ]
        }
      ],
      "source": [
        "# Tokenisasi dan stemming\n",
        "def tokenize_and_stem(text):\n",
        "    tokens = [word for sent in nltk.sent_tokenize(text) for word in nltk.word_tokenize(sent)]\n",
        "    stemmer = PorterStemmer()\n",
        "    stems = [stemmer.stem(t) for t in tokens]\n",
        "    return stems\n",
        "\n",
        "# Contoh pemisahan dataset menjadi data latih dan data uji\n",
        "X_train, X_test, y_train, y_test = train_test_split(ds['teks'], ds['label'], test_size=0.2, random_state=42)\n",
        "\n",
        "# Representasi vektor menggunakan CountVectorizer\n",
        "vectorizer = CountVectorizer(tokenizer=tokenize_and_stem, max_features=5000)\n",
        "X_train_counts = vectorizer.fit_transform(X_train)\n",
        "X_test_counts = vectorizer.transform(X_test)\n",
        "\n",
        "# Transformasi TF-IDF\n",
        "tfidf_transformer = TfidfTransformer()\n",
        "X_train_tfidf = tfidf_transformer.fit_transform(X_train_counts)\n",
        "X_test_tfidf = tfidf_transformer.transform(X_test_counts)\n",
        "\n",
        "# Encoding label kategori menggunakan LabelEncoder\n",
        "label_encoder = LabelEncoder()\n",
        "y_train_encoded = label_encoder.fit_transform(y_train)\n",
        "y_test_encoded = label_encoder.transform(y_test)"
      ]
    },
    {
      "cell_type": "markdown",
      "metadata": {
        "id": "6twcZybEiMCY"
      },
      "source": [
        "# **BUILD MODEL**"
      ]
    },
    {
      "cell_type": "code",
      "execution_count": null,
      "metadata": {
        "colab": {
          "base_uri": "https://localhost:8080/"
        },
        "id": "qjKyFhS7iRyb",
        "outputId": "a9ece5b2-d8e2-4a08-ba4e-a2e5c0b6f00a"
      },
      "outputs": [
        {
          "output_type": "stream",
          "name": "stdout",
          "text": [
            "Model: \"sequential\"\n",
            "_________________________________________________________________\n",
            " Layer (type)                Output Shape              Param #   \n",
            "=================================================================\n",
            " dense (Dense)               (None, 512)               1817600   \n",
            "                                                                 \n",
            " dropout (Dropout)           (None, 512)               0         \n",
            "                                                                 \n",
            " dense_1 (Dense)             (None, 256)               131328    \n",
            "                                                                 \n",
            " dropout_1 (Dropout)         (None, 256)               0         \n",
            "                                                                 \n",
            " dense_2 (Dense)             (None, 1)                 257       \n",
            "                                                                 \n",
            "=================================================================\n",
            "Total params: 1949185 (7.44 MB)\n",
            "Trainable params: 1949185 (7.44 MB)\n",
            "Non-trainable params: 0 (0.00 Byte)\n",
            "_________________________________________________________________\n"
          ]
        }
      ],
      "source": [
        "\n",
        "#untuk menentukan size untuk proses embedding, kalimat input sequence huruf akan diubah menjadi word embedding.\n",
        "#definisi word embedding menyusul\n",
        "model = tf.keras.models.Sequential([\n",
        "    tf.keras.layers.Dense(512, input_shape=(3549,), activation='relu'),\n",
        "    tf.keras.layers.Dropout(0.5),\n",
        "    #tf.keras.layers.Conv1D(64, 5, activation='relu'),\n",
        "    #tf.keras.layers.MaxPooling1D(pool_size=4),\n",
        "    #tf.keras.layers.GlobalAveragePooling1D(),\n",
        "    tf.keras.layers.Dense(256, activation='relu'),\n",
        "    tf.keras.layers.Dropout(0.5),\n",
        "    tf.keras.layers.Dense(1, activation='sigmoid')\n",
        "\n",
        "])\n",
        "# #layer embedding\n",
        "# model.add(Embedding(vocab_size, embedding_vector_length, input_length=200))\n",
        "# #Yang digunakan adalah CNN 1-dimensi\n",
        "# model.add(tf.keras.layers.Conv1D(32,2,activation=\"relu\"))\n",
        "# model.add(tf.keras.layers.MaxPooling1D(5))\n",
        "# #32 adalah filter, 8 unit convolution,\n",
        "# #setelah convolution, pasti ada max pooling, max pooling 1 dimension\n",
        "# model.add(MaxPooling1D(2,2))\n",
        "# #Dropout adalah bentuk konfigurasi supaya tidak overfitting\n",
        "# model.add(Dropout(0.2))\n",
        "# model.add(Dense(64, activation = \"relu\"))\n",
        "# model.add(Dropout(0.5))\n",
        "# model.add(MaxPooling1D(2,2))\n",
        "# #model LSTM\n",
        "# #layer utk mengubah sequence index kata menjadi vektor\n",
        "# model.add(LSTM(100, dropout=0.5, recurrent_dropout=0.5))\n",
        "# model.add(Dropout(0.2))\n",
        "# #layer klasifikasi akhir\n",
        "# model.add(Dense(2, activation='softmax'))\n",
        "# #Compile Model\n",
        "#model.compile(loss='binary_crossentropy',optimizer='sgd', metrics=['accuracy'])\n",
        "# model.compile(loss='binary_crossentropy',optimizer='rmsprop', metrics=['accuracy'])\n",
        "# model.compile(loss='binary_crossentropy',optimizer='adam', metrics=['accuracy'])\n",
        "model.summary()"
      ]
    },
    {
      "cell_type": "code",
      "execution_count": null,
      "metadata": {
        "id": "7AVBTQtPmm_S"
      },
      "outputs": [],
      "source": [
        "model.compile(loss='binary_crossentropy',optimizer='adam',metrics=['accuracy'])"
      ]
    },
    {
      "cell_type": "code",
      "source": [
        "model.fit(X_train_tfidf.toarray(), y_train_encoded, epochs=10, batch_size=32, validation_split=0.1)"
      ],
      "metadata": {
        "colab": {
          "base_uri": "https://localhost:8080/"
        },
        "id": "xRcDZrwTd6sf",
        "outputId": "8f6a509b-203c-4296-dc8c-cc467f5c69f7"
      },
      "execution_count": null,
      "outputs": [
        {
          "output_type": "stream",
          "name": "stdout",
          "text": [
            "Epoch 1/10\n",
            "24/24 [==============================] - 2s 51ms/step - loss: 0.6882 - accuracy: 0.5304 - val_loss: 0.6809 - val_accuracy: 0.5714\n",
            "Epoch 2/10\n",
            "24/24 [==============================] - 1s 35ms/step - loss: 0.6097 - accuracy: 0.8823 - val_loss: 0.5719 - val_accuracy: 0.8571\n",
            "Epoch 3/10\n",
            "24/24 [==============================] - 1s 39ms/step - loss: 0.2994 - accuracy: 0.9616 - val_loss: 0.4468 - val_accuracy: 0.8452\n",
            "Epoch 4/10\n",
            "24/24 [==============================] - 1s 38ms/step - loss: 0.0716 - accuracy: 0.9815 - val_loss: 0.4542 - val_accuracy: 0.8214\n",
            "Epoch 5/10\n",
            "24/24 [==============================] - 1s 36ms/step - loss: 0.0143 - accuracy: 0.9987 - val_loss: 0.4756 - val_accuracy: 0.8214\n",
            "Epoch 6/10\n",
            "24/24 [==============================] - 1s 39ms/step - loss: 0.0059 - accuracy: 1.0000 - val_loss: 0.5183 - val_accuracy: 0.8333\n",
            "Epoch 7/10\n",
            "24/24 [==============================] - 1s 38ms/step - loss: 0.0027 - accuracy: 1.0000 - val_loss: 0.5332 - val_accuracy: 0.8333\n",
            "Epoch 8/10\n",
            "24/24 [==============================] - 1s 26ms/step - loss: 0.0016 - accuracy: 1.0000 - val_loss: 0.5382 - val_accuracy: 0.8333\n",
            "Epoch 9/10\n",
            "24/24 [==============================] - 1s 27ms/step - loss: 0.0011 - accuracy: 1.0000 - val_loss: 0.5463 - val_accuracy: 0.8333\n",
            "Epoch 10/10\n",
            "24/24 [==============================] - 1s 26ms/step - loss: 7.6205e-04 - accuracy: 1.0000 - val_loss: 0.5527 - val_accuracy: 0.8333\n"
          ]
        },
        {
          "output_type": "execute_result",
          "data": {
            "text/plain": [
              "<keras.src.callbacks.History at 0x7f2b6ee0b340>"
            ]
          },
          "metadata": {},
          "execution_count": 30
        }
      ]
    },
    {
      "cell_type": "code",
      "execution_count": null,
      "metadata": {
        "colab": {
          "base_uri": "https://localhost:8080/",
          "height": 564
        },
        "id": "HZQp0kT0if5Z",
        "outputId": "8347acd1-69c9-4df4-ab0e-19972b700ef6"
      },
      "outputs": [
        {
          "output_type": "execute_result",
          "data": {
            "image/png": "[encoded data removed]",
            "text/plain": [
              "<IPython.core.display.Image object>"
            ]
          },
          "metadata": {},
          "execution_count": 31
        }
      ],
      "source": [
        "#Plotting model\n",
        "plot_model(model)"
      ]
    },
    {
      "cell_type": "code",
      "execution_count": null,
      "metadata": {
        "colab": {
          "base_uri": "https://localhost:8080/"
        },
        "id": "o_B58uhEilol",
        "outputId": "77973466-ee4f-4ed1-c6f9-74f8863d9244"
      },
      "outputs": [
        {
          "output_type": "stream",
          "name": "stdout",
          "text": [
            "Epoch 1/10\n",
            "24/24 [==============================] - 1s 28ms/step - loss: 6.5210e-04 - accuracy: 1.0000 - val_loss: 0.5598 - val_accuracy: 0.8333\n",
            "Epoch 2/10\n",
            "24/24 [==============================] - 1s 27ms/step - loss: 5.8334e-04 - accuracy: 1.0000 - val_loss: 0.5686 - val_accuracy: 0.8333\n",
            "Epoch 3/10\n",
            "24/24 [==============================] - 1s 36ms/step - loss: 4.8752e-04 - accuracy: 1.0000 - val_loss: 0.5809 - val_accuracy: 0.8333\n",
            "Epoch 4/10\n",
            "24/24 [==============================] - 1s 39ms/step - loss: 4.4041e-04 - accuracy: 1.0000 - val_loss: 0.5988 - val_accuracy: 0.8333\n",
            "Epoch 5/10\n",
            "24/24 [==============================] - 1s 37ms/step - loss: 4.0711e-04 - accuracy: 1.0000 - val_loss: 0.6056 - val_accuracy: 0.8333\n",
            "Epoch 6/10\n",
            "24/24 [==============================] - 1s 37ms/step - loss: 3.0449e-04 - accuracy: 1.0000 - val_loss: 0.6248 - val_accuracy: 0.8333\n",
            "Epoch 7/10\n",
            "24/24 [==============================] - 1s 62ms/step - loss: 2.8608e-04 - accuracy: 1.0000 - val_loss: 0.6277 - val_accuracy: 0.8333\n",
            "Epoch 8/10\n",
            "24/24 [==============================] - 2s 69ms/step - loss: 2.0974e-04 - accuracy: 1.0000 - val_loss: 0.6279 - val_accuracy: 0.8333\n",
            "Epoch 9/10\n",
            "24/24 [==============================] - 1s 46ms/step - loss: 1.9988e-04 - accuracy: 1.0000 - val_loss: 0.6309 - val_accuracy: 0.8333\n",
            "Epoch 10/10\n",
            "24/24 [==============================] - 1s 51ms/step - loss: 1.9477e-04 - accuracy: 1.0000 - val_loss: 0.6331 - val_accuracy: 0.8333\n"
          ]
        }
      ],
      "source": [
        "history = model.fit(X_train_tfidf.toarray(), y_train_encoded, epochs=10, batch_size=32, validation_split=0.1)"
      ]
    },
    {
      "cell_type": "code",
      "execution_count": null,
      "metadata": {
        "colab": {
          "base_uri": "https://localhost:8080/"
        },
        "id": "lx4iIP2ABbUu",
        "outputId": "79fab56e-2767-4efd-c37b-f9594d78ded1"
      },
      "outputs": [
        {
          "output_type": "stream",
          "name": "stdout",
          "text": [
            "Epoch 1/20\n",
            "24/24 [==============================] - 1s 51ms/step - loss: 1.8837e-04 - accuracy: 1.0000 - val_loss: 0.6380 - val_accuracy: 0.8333\n",
            "Epoch 2/20\n",
            "24/24 [==============================] - 1s 47ms/step - loss: 1.9508e-04 - accuracy: 1.0000 - val_loss: 0.6438 - val_accuracy: 0.8333\n",
            "Epoch 3/20\n",
            "24/24 [==============================] - 1s 53ms/step - loss: 1.4814e-04 - accuracy: 1.0000 - val_loss: 0.6531 - val_accuracy: 0.8333\n",
            "Epoch 4/20\n",
            "24/24 [==============================] - 1s 62ms/step - loss: 1.4609e-04 - accuracy: 1.0000 - val_loss: 0.6581 - val_accuracy: 0.8333\n",
            "Epoch 5/20\n",
            "24/24 [==============================] - 1s 40ms/step - loss: 1.8865e-04 - accuracy: 1.0000 - val_loss: 0.6711 - val_accuracy: 0.8333\n",
            "Epoch 6/20\n",
            "24/24 [==============================] - 1s 36ms/step - loss: 1.4303e-04 - accuracy: 1.0000 - val_loss: 0.6781 - val_accuracy: 0.8214\n",
            "Epoch 7/20\n",
            "24/24 [==============================] - 1s 35ms/step - loss: 8.8642e-05 - accuracy: 1.0000 - val_loss: 0.6799 - val_accuracy: 0.8214\n",
            "Epoch 8/20\n",
            "24/24 [==============================] - 1s 35ms/step - loss: 1.1883e-04 - accuracy: 1.0000 - val_loss: 0.6806 - val_accuracy: 0.8214\n",
            "Epoch 9/20\n",
            "24/24 [==============================] - 1s 28ms/step - loss: 1.2780e-04 - accuracy: 1.0000 - val_loss: 0.6754 - val_accuracy: 0.8333\n",
            "Epoch 10/20\n",
            "24/24 [==============================] - 1s 25ms/step - loss: 7.7032e-05 - accuracy: 1.0000 - val_loss: 0.6767 - val_accuracy: 0.8333\n",
            "Epoch 11/20\n",
            "24/24 [==============================] - 1s 26ms/step - loss: 9.9985e-05 - accuracy: 1.0000 - val_loss: 0.6805 - val_accuracy: 0.8214\n",
            "Epoch 12/20\n",
            "24/24 [==============================] - 1s 25ms/step - loss: 9.9274e-05 - accuracy: 1.0000 - val_loss: 0.6837 - val_accuracy: 0.8214\n",
            "Epoch 13/20\n",
            "24/24 [==============================] - 1s 26ms/step - loss: 6.9882e-05 - accuracy: 1.0000 - val_loss: 0.6822 - val_accuracy: 0.8214\n",
            "Epoch 14/20\n",
            "24/24 [==============================] - 1s 25ms/step - loss: 6.8644e-05 - accuracy: 1.0000 - val_loss: 0.6839 - val_accuracy: 0.8214\n",
            "Epoch 15/20\n",
            "24/24 [==============================] - 1s 26ms/step - loss: 6.1345e-05 - accuracy: 1.0000 - val_loss: 0.6874 - val_accuracy: 0.8214\n",
            "Epoch 16/20\n",
            "24/24 [==============================] - 1s 25ms/step - loss: 4.9632e-05 - accuracy: 1.0000 - val_loss: 0.6911 - val_accuracy: 0.8214\n",
            "Epoch 17/20\n",
            "24/24 [==============================] - 1s 25ms/step - loss: 5.6367e-05 - accuracy: 1.0000 - val_loss: 0.6951 - val_accuracy: 0.8214\n",
            "Epoch 18/20\n",
            "24/24 [==============================] - 1s 25ms/step - loss: 6.5215e-05 - accuracy: 1.0000 - val_loss: 0.7031 - val_accuracy: 0.8214\n",
            "Epoch 19/20\n",
            "24/24 [==============================] - 1s 26ms/step - loss: 5.0685e-05 - accuracy: 1.0000 - val_loss: 0.7092 - val_accuracy: 0.8214\n",
            "Epoch 20/20\n",
            "24/24 [==============================] - 1s 25ms/step - loss: 5.0691e-05 - accuracy: 1.0000 - val_loss: 0.7135 - val_accuracy: 0.8214\n"
          ]
        }
      ],
      "source": [
        "hist = model.fit(X_train_tfidf.toarray(), y_train_encoded, epochs=20, batch_size=32, validation_split=0.1)"
      ]
    },
    {
      "cell_type": "code",
      "source": [
        "loss, accuracy = model.evaluate(X_test_tfidf.toarray(), y_test_encoded)\n",
        "print(f'Test Loss: {loss}, Test Accuracy: {accuracy}')"
      ],
      "metadata": {
        "colab": {
          "base_uri": "https://localhost:8080/"
        },
        "id": "9USt2eh8esxO",
        "outputId": "6e2339f2-f644-4b74-c249-d176c4106aa4"
      },
      "execution_count": null,
      "outputs": [
        {
          "output_type": "stream",
          "name": "stdout",
          "text": [
            "7/7 [==============================] - 0s 13ms/step - loss: 0.5523 - accuracy: 0.8476\n",
            "Test Loss: 0.552330732345581, Test Accuracy: 0.8476190567016602\n"
          ]
        }
      ]
    },
    {
      "cell_type": "code",
      "source": [
        "predictions = model.predict(X_test_tfidf.toarray())"
      ],
      "metadata": {
        "colab": {
          "base_uri": "https://localhost:8080/"
        },
        "id": "edTr240be1X7",
        "outputId": "89010515-f353-497e-c4e2-1ec6f87b629a"
      },
      "execution_count": null,
      "outputs": [
        {
          "output_type": "stream",
          "name": "stdout",
          "text": [
            "7/7 [==============================] - 1s 21ms/step\n"
          ]
        }
      ]
    },
    {
      "cell_type": "code",
      "source": [
        "predicted_labels = label_encoder.inverse_transform((predictions > 0.5).astype('int').ravel())"
      ],
      "metadata": {
        "id": "nGdkTMEve49U"
      },
      "execution_count": null,
      "outputs": []
    },
    {
      "cell_type": "code",
      "source": [
        "model.save('Model_Bully.h5')"
      ],
      "metadata": {
        "colab": {
          "base_uri": "https://localhost:8080/"
        },
        "id": "GrxmB8K3f6un",
        "outputId": "50ef87c5-97ef-4d6a-ca56-c572c03b406e"
      },
      "execution_count": null,
      "outputs": [
        {
          "output_type": "stream",
          "name": "stderr",
          "text": [
            "/usr/local/lib/python3.10/dist-packages/keras/src/engine/training.py:3079: UserWarning: You are saving your model as an HDF5 file via `model.save()`. This file format is considered legacy. We recommend using instead the native Keras format, e.g. `model.save('my_model.keras')`.\n",
            "  saving_api.save_model(\n"
          ]
        }
      ]
    },
    {
      "cell_type": "code",
      "execution_count": null,
      "metadata": {
        "colab": {
          "base_uri": "https://localhost:8080/"
        },
        "id": "JzhlPt41BhHl",
        "outputId": "c97c6d11-69d2-4950-f198-a95857008fd6"
      },
      "outputs": [
        {
          "output_type": "stream",
          "name": "stdout",
          "text": [
            "Epoch 1/30\n",
            "17/17 [==============================] - 3s 176ms/step - loss: 0.6938 - accuracy: 0.5048 - val_loss: 0.6933 - val_accuracy: 0.5010\n",
            "Epoch 2/30\n",
            "17/17 [==============================] - 5s 285ms/step - loss: 0.6933 - accuracy: 0.4667 - val_loss: 0.6932 - val_accuracy: 0.4990\n",
            "Epoch 3/30\n",
            "17/17 [==============================] - 3s 168ms/step - loss: 0.6935 - accuracy: 0.4838 - val_loss: 0.6932 - val_accuracy: 0.4990\n",
            "Epoch 4/30\n",
            "17/17 [==============================] - 3s 152ms/step - loss: 0.6936 - accuracy: 0.4762 - val_loss: 0.6932 - val_accuracy: 0.4990\n",
            "Epoch 5/30\n",
            "17/17 [==============================] - 3s 152ms/step - loss: 0.6932 - accuracy: 0.4971 - val_loss: 0.6931 - val_accuracy: 0.4990\n",
            "Epoch 6/30\n",
            "17/17 [==============================] - 3s 151ms/step - loss: 0.6932 - accuracy: 0.5086 - val_loss: 0.6931 - val_accuracy: 0.5010\n",
            "Epoch 7/30\n",
            "17/17 [==============================] - 4s 246ms/step - loss: 0.6932 - accuracy: 0.5010 - val_loss: 0.6932 - val_accuracy: 0.4990\n",
            "Epoch 8/30\n",
            "17/17 [==============================] - 3s 163ms/step - loss: 0.6937 - accuracy: 0.4819 - val_loss: 0.6932 - val_accuracy: 0.5010\n",
            "Epoch 9/30\n",
            "17/17 [==============================] - 3s 152ms/step - loss: 0.6935 - accuracy: 0.4914 - val_loss: 0.6932 - val_accuracy: 0.5010\n",
            "Epoch 10/30\n",
            "17/17 [==============================] - 3s 151ms/step - loss: 0.6931 - accuracy: 0.4952 - val_loss: 0.6932 - val_accuracy: 0.4990\n",
            "Epoch 11/30\n",
            "17/17 [==============================] - 3s 152ms/step - loss: 0.6932 - accuracy: 0.5029 - val_loss: 0.6932 - val_accuracy: 0.4990\n",
            "Epoch 12/30\n",
            "17/17 [==============================] - 4s 247ms/step - loss: 0.6930 - accuracy: 0.5124 - val_loss: 0.6932 - val_accuracy: 0.4990\n",
            "Epoch 13/30\n",
            "17/17 [==============================] - 3s 161ms/step - loss: 0.6933 - accuracy: 0.5200 - val_loss: 0.6932 - val_accuracy: 0.5010\n",
            "Epoch 14/30\n",
            "17/17 [==============================] - 3s 151ms/step - loss: 0.6937 - accuracy: 0.4743 - val_loss: 0.6932 - val_accuracy: 0.4990\n",
            "Epoch 15/30\n",
            "17/17 [==============================] - 3s 151ms/step - loss: 0.6936 - accuracy: 0.4952 - val_loss: 0.6931 - val_accuracy: 0.5010\n",
            "Epoch 16/30\n",
            "17/17 [==============================] - 3s 168ms/step - loss: 0.6931 - accuracy: 0.4800 - val_loss: 0.6932 - val_accuracy: 0.4990\n",
            "Epoch 17/30\n",
            "17/17 [==============================] - 4s 244ms/step - loss: 0.6930 - accuracy: 0.4971 - val_loss: 0.6932 - val_accuracy: 0.4990\n",
            "Epoch 18/30\n",
            "17/17 [==============================] - 3s 152ms/step - loss: 0.6938 - accuracy: 0.4781 - val_loss: 0.6932 - val_accuracy: 0.4990\n",
            "Epoch 19/30\n",
            "17/17 [==============================] - 3s 153ms/step - loss: 0.6935 - accuracy: 0.4667 - val_loss: 0.6932 - val_accuracy: 0.4990\n",
            "Epoch 20/30\n",
            "17/17 [==============================] - 3s 154ms/step - loss: 0.6933 - accuracy: 0.5105 - val_loss: 0.6932 - val_accuracy: 0.4990\n",
            "Epoch 21/30\n",
            "10/17 [================>.............] - ETA: 0s - loss: 0.6934 - accuracy: 0.4844"
          ]
        }
      ],
      "source": [
        "hist = model.fit(x_train, y_train, epochs=30, validation_data=(x_test, y_test), verbose = 1)"
      ]
    },
    {
      "cell_type": "code",
      "execution_count": null,
      "metadata": {
        "colab": {
          "base_uri": "https://localhost:8080/"
        },
        "id": "yQ7BWzm9BpvQ",
        "outputId": "433ceba1-081d-484c-8154-4d3655748550"
      },
      "outputs": [
        {
          "output_type": "stream",
          "name": "stdout",
          "text": [
            "Epoch 1/40\n",
            "17/17 - 0s - loss: 0.6932 - accuracy: 0.4952 - val_loss: 0.6931 - val_accuracy: 0.5010 - 207ms/epoch - 12ms/step\n",
            "Epoch 2/40\n",
            "17/17 - 0s - loss: 0.6931 - accuracy: 0.5200 - val_loss: 0.6931 - val_accuracy: 0.5010 - 143ms/epoch - 8ms/step\n",
            "Epoch 3/40\n",
            "17/17 - 0s - loss: 0.6931 - accuracy: 0.5124 - val_loss: 0.6931 - val_accuracy: 0.5010 - 174ms/epoch - 10ms/step\n",
            "Epoch 4/40\n",
            "17/17 - 0s - loss: 0.6933 - accuracy: 0.4857 - val_loss: 0.6931 - val_accuracy: 0.5010 - 156ms/epoch - 9ms/step\n",
            "Epoch 5/40\n",
            "17/17 - 0s - loss: 0.6932 - accuracy: 0.5048 - val_loss: 0.6931 - val_accuracy: 0.5010 - 173ms/epoch - 10ms/step\n",
            "Epoch 6/40\n",
            "17/17 - 0s - loss: 0.6932 - accuracy: 0.4781 - val_loss: 0.6931 - val_accuracy: 0.5010 - 172ms/epoch - 10ms/step\n",
            "Epoch 7/40\n",
            "17/17 - 0s - loss: 0.6931 - accuracy: 0.5219 - val_loss: 0.6931 - val_accuracy: 0.5010 - 173ms/epoch - 10ms/step\n",
            "Epoch 8/40\n",
            "17/17 - 0s - loss: 0.6930 - accuracy: 0.5086 - val_loss: 0.6931 - val_accuracy: 0.5010 - 167ms/epoch - 10ms/step\n",
            "Epoch 9/40\n",
            "17/17 - 0s - loss: 0.6933 - accuracy: 0.4819 - val_loss: 0.6932 - val_accuracy: 0.4990 - 176ms/epoch - 10ms/step\n",
            "Epoch 10/40\n",
            "17/17 - 0s - loss: 0.6933 - accuracy: 0.4819 - val_loss: 0.6932 - val_accuracy: 0.4990 - 134ms/epoch - 8ms/step\n",
            "Epoch 11/40\n",
            "17/17 - 0s - loss: 0.6931 - accuracy: 0.5162 - val_loss: 0.6931 - val_accuracy: 0.5010 - 131ms/epoch - 8ms/step\n",
            "Epoch 12/40\n",
            "17/17 - 0s - loss: 0.6929 - accuracy: 0.5505 - val_loss: 0.6932 - val_accuracy: 0.4990 - 175ms/epoch - 10ms/step\n",
            "Epoch 13/40\n",
            "17/17 - 0s - loss: 0.6933 - accuracy: 0.4876 - val_loss: 0.6932 - val_accuracy: 0.4990 - 176ms/epoch - 10ms/step\n",
            "Epoch 14/40\n",
            "17/17 - 0s - loss: 0.6930 - accuracy: 0.5067 - val_loss: 0.6932 - val_accuracy: 0.4990 - 169ms/epoch - 10ms/step\n",
            "Epoch 15/40\n",
            "17/17 - 0s - loss: 0.6931 - accuracy: 0.5143 - val_loss: 0.6932 - val_accuracy: 0.4990 - 138ms/epoch - 8ms/step\n",
            "Epoch 16/40\n",
            "17/17 - 0s - loss: 0.6933 - accuracy: 0.4629 - val_loss: 0.6932 - val_accuracy: 0.4990 - 171ms/epoch - 10ms/step\n",
            "Epoch 17/40\n",
            "17/17 - 0s - loss: 0.6934 - accuracy: 0.4590 - val_loss: 0.6931 - val_accuracy: 0.4990 - 141ms/epoch - 8ms/step\n",
            "Epoch 18/40\n",
            "17/17 - 0s - loss: 0.6932 - accuracy: 0.4876 - val_loss: 0.6932 - val_accuracy: 0.4990 - 140ms/epoch - 8ms/step\n",
            "Epoch 19/40\n",
            "17/17 - 0s - loss: 0.6932 - accuracy: 0.5010 - val_loss: 0.6932 - val_accuracy: 0.4990 - 170ms/epoch - 10ms/step\n",
            "Epoch 20/40\n",
            "17/17 - 0s - loss: 0.6932 - accuracy: 0.5010 - val_loss: 0.6932 - val_accuracy: 0.4990 - 141ms/epoch - 8ms/step\n",
            "Epoch 21/40\n",
            "17/17 - 0s - loss: 0.6933 - accuracy: 0.5029 - val_loss: 0.6932 - val_accuracy: 0.4990 - 144ms/epoch - 8ms/step\n",
            "Epoch 22/40\n",
            "17/17 - 0s - loss: 0.6932 - accuracy: 0.4990 - val_loss: 0.6932 - val_accuracy: 0.4990 - 152ms/epoch - 9ms/step\n",
            "Epoch 23/40\n",
            "17/17 - 0s - loss: 0.6930 - accuracy: 0.4895 - val_loss: 0.6932 - val_accuracy: 0.4990 - 224ms/epoch - 13ms/step\n",
            "Epoch 24/40\n",
            "17/17 - 0s - loss: 0.6934 - accuracy: 0.4895 - val_loss: 0.6932 - val_accuracy: 0.4990 - 224ms/epoch - 13ms/step\n",
            "Epoch 25/40\n",
            "17/17 - 0s - loss: 0.6932 - accuracy: 0.5162 - val_loss: 0.6932 - val_accuracy: 0.4990 - 199ms/epoch - 12ms/step\n",
            "Epoch 26/40\n",
            "17/17 - 0s - loss: 0.6933 - accuracy: 0.4990 - val_loss: 0.6932 - val_accuracy: 0.4990 - 226ms/epoch - 13ms/step\n",
            "Epoch 27/40\n",
            "17/17 - 0s - loss: 0.6932 - accuracy: 0.4914 - val_loss: 0.6932 - val_accuracy: 0.4990 - 220ms/epoch - 13ms/step\n",
            "Epoch 28/40\n",
            "17/17 - 0s - loss: 0.6931 - accuracy: 0.5048 - val_loss: 0.6932 - val_accuracy: 0.4990 - 223ms/epoch - 13ms/step\n",
            "Epoch 29/40\n",
            "17/17 - 0s - loss: 0.6932 - accuracy: 0.4971 - val_loss: 0.6932 - val_accuracy: 0.4990 - 213ms/epoch - 13ms/step\n",
            "Epoch 30/40\n",
            "17/17 - 0s - loss: 0.6932 - accuracy: 0.4819 - val_loss: 0.6931 - val_accuracy: 0.4990 - 201ms/epoch - 12ms/step\n",
            "Epoch 31/40\n",
            "17/17 - 0s - loss: 0.6932 - accuracy: 0.4895 - val_loss: 0.6931 - val_accuracy: 0.5010 - 217ms/epoch - 13ms/step\n",
            "Epoch 32/40\n",
            "17/17 - 0s - loss: 0.6930 - accuracy: 0.5524 - val_loss: 0.6932 - val_accuracy: 0.4990 - 189ms/epoch - 11ms/step\n",
            "Epoch 33/40\n",
            "17/17 - 0s - loss: 0.6932 - accuracy: 0.4895 - val_loss: 0.6931 - val_accuracy: 0.5010 - 205ms/epoch - 12ms/step\n",
            "Epoch 34/40\n",
            "17/17 - 0s - loss: 0.6931 - accuracy: 0.5067 - val_loss: 0.6932 - val_accuracy: 0.4990 - 232ms/epoch - 14ms/step\n",
            "Epoch 35/40\n",
            "17/17 - 0s - loss: 0.6932 - accuracy: 0.5257 - val_loss: 0.6932 - val_accuracy: 0.4990 - 226ms/epoch - 13ms/step\n",
            "Epoch 36/40\n",
            "17/17 - 0s - loss: 0.6935 - accuracy: 0.5029 - val_loss: 0.6932 - val_accuracy: 0.4990 - 195ms/epoch - 11ms/step\n",
            "Epoch 37/40\n",
            "17/17 - 0s - loss: 0.6931 - accuracy: 0.5048 - val_loss: 0.6932 - val_accuracy: 0.4990 - 224ms/epoch - 13ms/step\n",
            "Epoch 38/40\n",
            "17/17 - 0s - loss: 0.6931 - accuracy: 0.4990 - val_loss: 0.6932 - val_accuracy: 0.4990 - 199ms/epoch - 12ms/step\n",
            "Epoch 39/40\n",
            "17/17 - 0s - loss: 0.6933 - accuracy: 0.5010 - val_loss: 0.6932 - val_accuracy: 0.4990 - 222ms/epoch - 13ms/step\n",
            "Epoch 40/40\n",
            "17/17 - 0s - loss: 0.6932 - accuracy: 0.5086 - val_loss: 0.6932 - val_accuracy: 0.4990 - 239ms/epoch - 14ms/step\n"
          ]
        }
      ],
      "source": [
        "hist = model.fit(x_train, y_train, epochs=40, validation_data=(x_test, y_test), verbose = 2)"
      ]
    },
    {
      "cell_type": "code",
      "execution_count": null,
      "metadata": {
        "colab": {
          "base_uri": "https://localhost:8080/"
        },
        "id": "BHpX_kHnBxeH",
        "outputId": "fff144b1-9cae-464b-8fe4-a56826e649ca"
      },
      "outputs": [
        {
          "output_type": "stream",
          "name": "stdout",
          "text": [
            "Epoch 1/50\n",
            "17/17 - 0s - loss: 0.6932 - accuracy: 0.5029 - val_loss: 0.6931 - val_accuracy: 0.5010 - 290ms/epoch - 17ms/step\n",
            "Epoch 2/50\n",
            "17/17 - 0s - loss: 0.6932 - accuracy: 0.4952 - val_loss: 0.6931 - val_accuracy: 0.5010 - 251ms/epoch - 15ms/step\n",
            "Epoch 3/50\n",
            "17/17 - 0s - loss: 0.6932 - accuracy: 0.4914 - val_loss: 0.6931 - val_accuracy: 0.5010 - 386ms/epoch - 23ms/step\n",
            "Epoch 4/50\n",
            "17/17 - 0s - loss: 0.6931 - accuracy: 0.4895 - val_loss: 0.6931 - val_accuracy: 0.5010 - 481ms/epoch - 28ms/step\n",
            "Epoch 5/50\n",
            "17/17 - 1s - loss: 0.6931 - accuracy: 0.5105 - val_loss: 0.6931 - val_accuracy: 0.5010 - 506ms/epoch - 30ms/step\n",
            "Epoch 6/50\n",
            "17/17 - 0s - loss: 0.6931 - accuracy: 0.5029 - val_loss: 0.6931 - val_accuracy: 0.5010 - 441ms/epoch - 26ms/step\n",
            "Epoch 7/50\n",
            "17/17 - 0s - loss: 0.6933 - accuracy: 0.4952 - val_loss: 0.6931 - val_accuracy: 0.5010 - 466ms/epoch - 27ms/step\n",
            "Epoch 8/50\n",
            "17/17 - 0s - loss: 0.6932 - accuracy: 0.4800 - val_loss: 0.6931 - val_accuracy: 0.5010 - 416ms/epoch - 24ms/step\n",
            "Epoch 9/50\n",
            "17/17 - 0s - loss: 0.6933 - accuracy: 0.4667 - val_loss: 0.6932 - val_accuracy: 0.4990 - 438ms/epoch - 26ms/step\n",
            "Epoch 10/50\n",
            "17/17 - 1s - loss: 0.6933 - accuracy: 0.5048 - val_loss: 0.6932 - val_accuracy: 0.4990 - 547ms/epoch - 32ms/step\n",
            "Epoch 11/50\n",
            "17/17 - 0s - loss: 0.6932 - accuracy: 0.5010 - val_loss: 0.6932 - val_accuracy: 0.4990 - 479ms/epoch - 28ms/step\n",
            "Epoch 12/50\n",
            "17/17 - 0s - loss: 0.6932 - accuracy: 0.5010 - val_loss: 0.6932 - val_accuracy: 0.4990 - 454ms/epoch - 27ms/step\n",
            "Epoch 13/50\n",
            "17/17 - 0s - loss: 0.6932 - accuracy: 0.5010 - val_loss: 0.6932 - val_accuracy: 0.4990 - 488ms/epoch - 29ms/step\n",
            "Epoch 14/50\n",
            "17/17 - 1s - loss: 0.6932 - accuracy: 0.5010 - val_loss: 0.6932 - val_accuracy: 0.4990 - 503ms/epoch - 30ms/step\n",
            "Epoch 15/50\n",
            "17/17 - 1s - loss: 0.6932 - accuracy: 0.5010 - val_loss: 0.6932 - val_accuracy: 0.4990 - 508ms/epoch - 30ms/step\n",
            "Epoch 16/50\n",
            "17/17 - 0s - loss: 0.6932 - accuracy: 0.5010 - val_loss: 0.6932 - val_accuracy: 0.4990 - 484ms/epoch - 28ms/step\n",
            "Epoch 17/50\n",
            "17/17 - 0s - loss: 0.6932 - accuracy: 0.5010 - val_loss: 0.6932 - val_accuracy: 0.4990 - 376ms/epoch - 22ms/step\n",
            "Epoch 18/50\n",
            "17/17 - 0s - loss: 0.6932 - accuracy: 0.5010 - val_loss: 0.6932 - val_accuracy: 0.4990 - 356ms/epoch - 21ms/step\n",
            "Epoch 19/50\n",
            "17/17 - 0s - loss: 0.6932 - accuracy: 0.5010 - val_loss: 0.6932 - val_accuracy: 0.4990 - 298ms/epoch - 18ms/step\n",
            "Epoch 20/50\n",
            "17/17 - 0s - loss: 0.6932 - accuracy: 0.5010 - val_loss: 0.6932 - val_accuracy: 0.4990 - 288ms/epoch - 17ms/step\n",
            "Epoch 21/50\n",
            "17/17 - 0s - loss: 0.6932 - accuracy: 0.5010 - val_loss: 0.6932 - val_accuracy: 0.4990 - 274ms/epoch - 16ms/step\n",
            "Epoch 22/50\n",
            "17/17 - 0s - loss: 0.6932 - accuracy: 0.5010 - val_loss: 0.6932 - val_accuracy: 0.4990 - 361ms/epoch - 21ms/step\n",
            "Epoch 23/50\n",
            "17/17 - 0s - loss: 0.6932 - accuracy: 0.5010 - val_loss: 0.6932 - val_accuracy: 0.4990 - 282ms/epoch - 17ms/step\n",
            "Epoch 24/50\n",
            "17/17 - 0s - loss: 0.6932 - accuracy: 0.5010 - val_loss: 0.6932 - val_accuracy: 0.4990 - 272ms/epoch - 16ms/step\n",
            "Epoch 25/50\n",
            "17/17 - 0s - loss: 0.6932 - accuracy: 0.5010 - val_loss: 0.6932 - val_accuracy: 0.4990 - 244ms/epoch - 14ms/step\n",
            "Epoch 26/50\n",
            "17/17 - 0s - loss: 0.6931 - accuracy: 0.5010 - val_loss: 0.6932 - val_accuracy: 0.4990 - 270ms/epoch - 16ms/step\n",
            "Epoch 27/50\n",
            "17/17 - 0s - loss: 0.6931 - accuracy: 0.5010 - val_loss: 0.6932 - val_accuracy: 0.4990 - 255ms/epoch - 15ms/step\n",
            "Epoch 28/50\n",
            "17/17 - 0s - loss: 0.6931 - accuracy: 0.5010 - val_loss: 0.6932 - val_accuracy: 0.4990 - 258ms/epoch - 15ms/step\n",
            "Epoch 29/50\n",
            "17/17 - 0s - loss: 0.6932 - accuracy: 0.5010 - val_loss: 0.6932 - val_accuracy: 0.4990 - 274ms/epoch - 16ms/step\n",
            "Epoch 30/50\n",
            "17/17 - 0s - loss: 0.6932 - accuracy: 0.5010 - val_loss: 0.6932 - val_accuracy: 0.4990 - 265ms/epoch - 16ms/step\n",
            "Epoch 31/50\n",
            "17/17 - 0s - loss: 0.6932 - accuracy: 0.5010 - val_loss: 0.6932 - val_accuracy: 0.4990 - 291ms/epoch - 17ms/step\n",
            "Epoch 32/50\n",
            "17/17 - 0s - loss: 0.6932 - accuracy: 0.5010 - val_loss: 0.6932 - val_accuracy: 0.4990 - 266ms/epoch - 16ms/step\n",
            "Epoch 33/50\n",
            "17/17 - 0s - loss: 0.6932 - accuracy: 0.5010 - val_loss: 0.6932 - val_accuracy: 0.4990 - 253ms/epoch - 15ms/step\n",
            "Epoch 34/50\n",
            "17/17 - 0s - loss: 0.6931 - accuracy: 0.5010 - val_loss: 0.6932 - val_accuracy: 0.4990 - 292ms/epoch - 17ms/step\n",
            "Epoch 35/50\n",
            "17/17 - 0s - loss: 0.6932 - accuracy: 0.5010 - val_loss: 0.6932 - val_accuracy: 0.4990 - 267ms/epoch - 16ms/step\n",
            "Epoch 36/50\n",
            "17/17 - 0s - loss: 0.6933 - accuracy: 0.5010 - val_loss: 0.6932 - val_accuracy: 0.4990 - 270ms/epoch - 16ms/step\n",
            "Epoch 37/50\n",
            "17/17 - 0s - loss: 0.6933 - accuracy: 0.5010 - val_loss: 0.6932 - val_accuracy: 0.4990 - 293ms/epoch - 17ms/step\n",
            "Epoch 38/50\n",
            "17/17 - 0s - loss: 0.6932 - accuracy: 0.5010 - val_loss: 0.6932 - val_accuracy: 0.4990 - 265ms/epoch - 16ms/step\n",
            "Epoch 39/50\n",
            "17/17 - 0s - loss: 0.6932 - accuracy: 0.5010 - val_loss: 0.6932 - val_accuracy: 0.4990 - 267ms/epoch - 16ms/step\n",
            "Epoch 40/50\n",
            "17/17 - 0s - loss: 0.6932 - accuracy: 0.5010 - val_loss: 0.6932 - val_accuracy: 0.4990 - 263ms/epoch - 15ms/step\n",
            "Epoch 41/50\n",
            "17/17 - 0s - loss: 0.6932 - accuracy: 0.5010 - val_loss: 0.6932 - val_accuracy: 0.4990 - 296ms/epoch - 17ms/step\n",
            "Epoch 42/50\n",
            "17/17 - 0s - loss: 0.6931 - accuracy: 0.5010 - val_loss: 0.6932 - val_accuracy: 0.4990 - 289ms/epoch - 17ms/step\n",
            "Epoch 43/50\n",
            "17/17 - 0s - loss: 0.6932 - accuracy: 0.5010 - val_loss: 0.6932 - val_accuracy: 0.4990 - 280ms/epoch - 16ms/step\n",
            "Epoch 44/50\n",
            "17/17 - 0s - loss: 0.6932 - accuracy: 0.5010 - val_loss: 0.6932 - val_accuracy: 0.4990 - 353ms/epoch - 21ms/step\n",
            "Epoch 45/50\n",
            "17/17 - 0s - loss: 0.6931 - accuracy: 0.5010 - val_loss: 0.6932 - val_accuracy: 0.4990 - 288ms/epoch - 17ms/step\n",
            "Epoch 46/50\n",
            "17/17 - 0s - loss: 0.6932 - accuracy: 0.5010 - val_loss: 0.6932 - val_accuracy: 0.4990 - 277ms/epoch - 16ms/step\n",
            "Epoch 47/50\n",
            "17/17 - 0s - loss: 0.6932 - accuracy: 0.5010 - val_loss: 0.6932 - val_accuracy: 0.4990 - 266ms/epoch - 16ms/step\n",
            "Epoch 48/50\n",
            "17/17 - 0s - loss: 0.6932 - accuracy: 0.5010 - val_loss: 0.6932 - val_accuracy: 0.4990 - 292ms/epoch - 17ms/step\n",
            "Epoch 49/50\n",
            "17/17 - 0s - loss: 0.6932 - accuracy: 0.5010 - val_loss: 0.6932 - val_accuracy: 0.4990 - 285ms/epoch - 17ms/step\n",
            "Epoch 50/50\n",
            "17/17 - 0s - loss: 0.6931 - accuracy: 0.5010 - val_loss: 0.6932 - val_accuracy: 0.4990 - 290ms/epoch - 17ms/step\n"
          ]
        }
      ],
      "source": [
        "hist = model.fit(x_train, y_train, epochs=50, validation_data=(x_test, y_test), verbose = 2)"
      ]
    },
    {
      "cell_type": "code",
      "execution_count": null,
      "metadata": {
        "colab": {
          "base_uri": "https://localhost:8080/"
        },
        "id": "E1ZQ8m5fB5T2",
        "outputId": "992f50e9-7a61-4bf1-f801-29b9010759e4"
      },
      "outputs": [
        {
          "name": "stdout",
          "output_type": "stream",
          "text": [
            "Epoch 1/60\n",
            "17/17 - 1s - loss: 0.6932 - accuracy: 0.4933 - val_loss: 0.6931 - val_accuracy: 0.5010 - 566ms/epoch - 33ms/step\n",
            "Epoch 2/60\n",
            "17/17 - 0s - loss: 0.6931 - accuracy: 0.5105 - val_loss: 0.6931 - val_accuracy: 0.5010 - 481ms/epoch - 28ms/step\n",
            "Epoch 3/60\n",
            "17/17 - 0s - loss: 0.6932 - accuracy: 0.4895 - val_loss: 0.6931 - val_accuracy: 0.4990 - 433ms/epoch - 25ms/step\n",
            "Epoch 4/60\n",
            "17/17 - 0s - loss: 0.6933 - accuracy: 0.4857 - val_loss: 0.6931 - val_accuracy: 0.5010 - 406ms/epoch - 24ms/step\n",
            "Epoch 5/60\n",
            "17/17 - 0s - loss: 0.6934 - accuracy: 0.4514 - val_loss: 0.6932 - val_accuracy: 0.4990 - 475ms/epoch - 28ms/step\n",
            "Epoch 6/60\n",
            "17/17 - 0s - loss: 0.6932 - accuracy: 0.4819 - val_loss: 0.6931 - val_accuracy: 0.4990 - 423ms/epoch - 25ms/step\n",
            "Epoch 7/60\n",
            "17/17 - 0s - loss: 0.6931 - accuracy: 0.5143 - val_loss: 0.6931 - val_accuracy: 0.4990 - 479ms/epoch - 28ms/step\n",
            "Epoch 8/60\n",
            "17/17 - 0s - loss: 0.6931 - accuracy: 0.5105 - val_loss: 0.6932 - val_accuracy: 0.4990 - 464ms/epoch - 27ms/step\n",
            "Epoch 9/60\n",
            "17/17 - 1s - loss: 0.6932 - accuracy: 0.4686 - val_loss: 0.6932 - val_accuracy: 0.4990 - 505ms/epoch - 30ms/step\n",
            "Epoch 10/60\n",
            "17/17 - 0s - loss: 0.6932 - accuracy: 0.4933 - val_loss: 0.6931 - val_accuracy: 0.5010 - 290ms/epoch - 17ms/step\n",
            "Epoch 11/60\n",
            "17/17 - 0s - loss: 0.6933 - accuracy: 0.4819 - val_loss: 0.6931 - val_accuracy: 0.5010 - 279ms/epoch - 16ms/step\n",
            "Epoch 12/60\n",
            "17/17 - 0s - loss: 0.6933 - accuracy: 0.4838 - val_loss: 0.6931 - val_accuracy: 0.4990 - 295ms/epoch - 17ms/step\n",
            "Epoch 13/60\n",
            "17/17 - 0s - loss: 0.6931 - accuracy: 0.5105 - val_loss: 0.6931 - val_accuracy: 0.4990 - 364ms/epoch - 21ms/step\n",
            "Epoch 14/60\n",
            "17/17 - 0s - loss: 0.6932 - accuracy: 0.5048 - val_loss: 0.6931 - val_accuracy: 0.4990 - 369ms/epoch - 22ms/step\n",
            "Epoch 15/60\n",
            "17/17 - 0s - loss: 0.6932 - accuracy: 0.4857 - val_loss: 0.6932 - val_accuracy: 0.4990 - 279ms/epoch - 16ms/step\n",
            "Epoch 16/60\n",
            "17/17 - 0s - loss: 0.6935 - accuracy: 0.4533 - val_loss: 0.6931 - val_accuracy: 0.4990 - 377ms/epoch - 22ms/step\n",
            "Epoch 17/60\n",
            "17/17 - 0s - loss: 0.6931 - accuracy: 0.4876 - val_loss: 0.6932 - val_accuracy: 0.4990 - 257ms/epoch - 15ms/step\n",
            "Epoch 18/60\n",
            "17/17 - 0s - loss: 0.6932 - accuracy: 0.4838 - val_loss: 0.6931 - val_accuracy: 0.4990 - 293ms/epoch - 17ms/step\n",
            "Epoch 19/60\n",
            "17/17 - 0s - loss: 0.6933 - accuracy: 0.4724 - val_loss: 0.6931 - val_accuracy: 0.5010 - 269ms/epoch - 16ms/step\n",
            "Epoch 20/60\n",
            "17/17 - 0s - loss: 0.6932 - accuracy: 0.5086 - val_loss: 0.6932 - val_accuracy: 0.4990 - 265ms/epoch - 16ms/step\n",
            "Epoch 21/60\n",
            "17/17 - 0s - loss: 0.6933 - accuracy: 0.4876 - val_loss: 0.6932 - val_accuracy: 0.4990 - 257ms/epoch - 15ms/step\n",
            "Epoch 22/60\n",
            "17/17 - 0s - loss: 0.6932 - accuracy: 0.5010 - val_loss: 0.6932 - val_accuracy: 0.4990 - 271ms/epoch - 16ms/step\n",
            "Epoch 23/60\n",
            "17/17 - 0s - loss: 0.6931 - accuracy: 0.5086 - val_loss: 0.6932 - val_accuracy: 0.4990 - 276ms/epoch - 16ms/step\n",
            "Epoch 24/60\n",
            "17/17 - 0s - loss: 0.6932 - accuracy: 0.4857 - val_loss: 0.6932 - val_accuracy: 0.4990 - 282ms/epoch - 17ms/step\n",
            "Epoch 25/60\n",
            "17/17 - 0s - loss: 0.6933 - accuracy: 0.4952 - val_loss: 0.6932 - val_accuracy: 0.4990 - 268ms/epoch - 16ms/step\n",
            "Epoch 26/60\n",
            "17/17 - 0s - loss: 0.6932 - accuracy: 0.4990 - val_loss: 0.6932 - val_accuracy: 0.4990 - 267ms/epoch - 16ms/step\n",
            "Epoch 27/60\n",
            "17/17 - 0s - loss: 0.6931 - accuracy: 0.5314 - val_loss: 0.6932 - val_accuracy: 0.4990 - 256ms/epoch - 15ms/step\n",
            "Epoch 28/60\n",
            "17/17 - 0s - loss: 0.6931 - accuracy: 0.5238 - val_loss: 0.6932 - val_accuracy: 0.4990 - 263ms/epoch - 15ms/step\n",
            "Epoch 29/60\n",
            "17/17 - 0s - loss: 0.6933 - accuracy: 0.4838 - val_loss: 0.6932 - val_accuracy: 0.4990 - 343ms/epoch - 20ms/step\n",
            "Epoch 30/60\n",
            "17/17 - 0s - loss: 0.6932 - accuracy: 0.4876 - val_loss: 0.6931 - val_accuracy: 0.4990 - 263ms/epoch - 15ms/step\n",
            "Epoch 31/60\n",
            "17/17 - 0s - loss: 0.6931 - accuracy: 0.5010 - val_loss: 0.6932 - val_accuracy: 0.4990 - 266ms/epoch - 16ms/step\n",
            "Epoch 32/60\n",
            "17/17 - 0s - loss: 0.6931 - accuracy: 0.4990 - val_loss: 0.6932 - val_accuracy: 0.4990 - 271ms/epoch - 16ms/step\n",
            "Epoch 33/60\n",
            "17/17 - 0s - loss: 0.6933 - accuracy: 0.5105 - val_loss: 0.6932 - val_accuracy: 0.4990 - 244ms/epoch - 14ms/step\n",
            "Epoch 34/60\n",
            "17/17 - 0s - loss: 0.6931 - accuracy: 0.5086 - val_loss: 0.6932 - val_accuracy: 0.4990 - 264ms/epoch - 16ms/step\n",
            "Epoch 35/60\n",
            "17/17 - 0s - loss: 0.6933 - accuracy: 0.4876 - val_loss: 0.6931 - val_accuracy: 0.5010 - 296ms/epoch - 17ms/step\n",
            "Epoch 36/60\n",
            "17/17 - 0s - loss: 0.6931 - accuracy: 0.5238 - val_loss: 0.6932 - val_accuracy: 0.4990 - 275ms/epoch - 16ms/step\n",
            "Epoch 37/60\n",
            "17/17 - 0s - loss: 0.6931 - accuracy: 0.4914 - val_loss: 0.6932 - val_accuracy: 0.4990 - 267ms/epoch - 16ms/step\n",
            "Epoch 38/60\n",
            "17/17 - 0s - loss: 0.6934 - accuracy: 0.4952 - val_loss: 0.6932 - val_accuracy: 0.4990 - 354ms/epoch - 21ms/step\n",
            "Epoch 39/60\n",
            "17/17 - 0s - loss: 0.6933 - accuracy: 0.4990 - val_loss: 0.6932 - val_accuracy: 0.4990 - 260ms/epoch - 15ms/step\n",
            "Epoch 40/60\n",
            "17/17 - 0s - loss: 0.6933 - accuracy: 0.4895 - val_loss: 0.6932 - val_accuracy: 0.4990 - 261ms/epoch - 15ms/step\n",
            "Epoch 41/60\n",
            "17/17 - 0s - loss: 0.6932 - accuracy: 0.4800 - val_loss: 0.6932 - val_accuracy: 0.4990 - 257ms/epoch - 15ms/step\n",
            "Epoch 42/60\n",
            "17/17 - 0s - loss: 0.6932 - accuracy: 0.4857 - val_loss: 0.6932 - val_accuracy: 0.4990 - 288ms/epoch - 17ms/step\n",
            "Epoch 43/60\n",
            "17/17 - 0s - loss: 0.6930 - accuracy: 0.5067 - val_loss: 0.6932 - val_accuracy: 0.4990 - 271ms/epoch - 16ms/step\n",
            "Epoch 44/60\n",
            "17/17 - 0s - loss: 0.6934 - accuracy: 0.5048 - val_loss: 0.6932 - val_accuracy: 0.4990 - 424ms/epoch - 25ms/step\n",
            "Epoch 45/60\n",
            "17/17 - 0s - loss: 0.6932 - accuracy: 0.4990 - val_loss: 0.6932 - val_accuracy: 0.4990 - 488ms/epoch - 29ms/step\n",
            "Epoch 46/60\n",
            "17/17 - 0s - loss: 0.6932 - accuracy: 0.4895 - val_loss: 0.6932 - val_accuracy: 0.4990 - 489ms/epoch - 29ms/step\n",
            "Epoch 47/60\n",
            "17/17 - 0s - loss: 0.6934 - accuracy: 0.4762 - val_loss: 0.6931 - val_accuracy: 0.4990 - 438ms/epoch - 26ms/step\n",
            "Epoch 48/60\n",
            "17/17 - 0s - loss: 0.6934 - accuracy: 0.4686 - val_loss: 0.6931 - val_accuracy: 0.4990 - 425ms/epoch - 25ms/step\n",
            "Epoch 49/60\n",
            "17/17 - 0s - loss: 0.6932 - accuracy: 0.4819 - val_loss: 0.6932 - val_accuracy: 0.4990 - 419ms/epoch - 25ms/step\n",
            "Epoch 50/60\n",
            "17/17 - 0s - loss: 0.6932 - accuracy: 0.4876 - val_loss: 0.6932 - val_accuracy: 0.4990 - 471ms/epoch - 28ms/step\n",
            "Epoch 51/60\n",
            "17/17 - 0s - loss: 0.6934 - accuracy: 0.4648 - val_loss: 0.6931 - val_accuracy: 0.4990 - 486ms/epoch - 29ms/step\n",
            "Epoch 52/60\n",
            "17/17 - 1s - loss: 0.6931 - accuracy: 0.5219 - val_loss: 0.6932 - val_accuracy: 0.4990 - 501ms/epoch - 29ms/step\n",
            "Epoch 53/60\n",
            "17/17 - 0s - loss: 0.6930 - accuracy: 0.5067 - val_loss: 0.6931 - val_accuracy: 0.4990 - 466ms/epoch - 27ms/step\n",
            "Epoch 54/60\n",
            "17/17 - 0s - loss: 0.6930 - accuracy: 0.5238 - val_loss: 0.6932 - val_accuracy: 0.4990 - 428ms/epoch - 25ms/step\n",
            "Epoch 55/60\n",
            "17/17 - 0s - loss: 0.6931 - accuracy: 0.4819 - val_loss: 0.6932 - val_accuracy: 0.4990 - 491ms/epoch - 29ms/step\n",
            "Epoch 56/60\n",
            "17/17 - 0s - loss: 0.6931 - accuracy: 0.5086 - val_loss: 0.6932 - val_accuracy: 0.4990 - 489ms/epoch - 29ms/step\n",
            "Epoch 57/60\n",
            "17/17 - 1s - loss: 0.6931 - accuracy: 0.5352 - val_loss: 0.6932 - val_accuracy: 0.4990 - 523ms/epoch - 31ms/step\n",
            "Epoch 58/60\n",
            "17/17 - 0s - loss: 0.6929 - accuracy: 0.5295 - val_loss: 0.6932 - val_accuracy: 0.4990 - 347ms/epoch - 20ms/step\n",
            "Epoch 59/60\n",
            "17/17 - 0s - loss: 0.6933 - accuracy: 0.4990 - val_loss: 0.6932 - val_accuracy: 0.4990 - 296ms/epoch - 17ms/step\n",
            "Epoch 60/60\n",
            "17/17 - 0s - loss: 0.6934 - accuracy: 0.4895 - val_loss: 0.6932 - val_accuracy: 0.4990 - 275ms/epoch - 16ms/step\n"
          ]
        }
      ],
      "source": [
        "hist = model.fit(x_train, y_train, epochs=60, validation_data=(x_test, y_test), shuffle=True, verbose = 2)"
      ]
    },
    {
      "cell_type": "code",
      "execution_count": null,
      "metadata": {
        "colab": {
          "base_uri": "https://localhost:8080/"
        },
        "id": "PgOaKUpICCvt",
        "outputId": "a0b781d4-a6da-4e5e-daec-e0300ad34bfc"
      },
      "outputs": [
        {
          "name": "stdout",
          "output_type": "stream",
          "text": [
            "Epoch 1/70\n",
            "17/17 - 1s - loss: 0.6931 - accuracy: 0.5162 - val_loss: 0.6932 - val_accuracy: 0.4990 - 612ms/epoch - 36ms/step\n",
            "Epoch 2/70\n",
            "17/17 - 0s - loss: 0.6936 - accuracy: 0.4362 - val_loss: 0.6932 - val_accuracy: 0.4990 - 276ms/epoch - 16ms/step\n",
            "Epoch 3/70\n",
            "17/17 - 0s - loss: 0.6932 - accuracy: 0.5029 - val_loss: 0.6931 - val_accuracy: 0.5010 - 292ms/epoch - 17ms/step\n",
            "Epoch 4/70\n",
            "17/17 - 0s - loss: 0.6930 - accuracy: 0.5124 - val_loss: 0.6931 - val_accuracy: 0.5010 - 293ms/epoch - 17ms/step\n",
            "Epoch 5/70\n",
            "17/17 - 0s - loss: 0.6934 - accuracy: 0.4781 - val_loss: 0.6932 - val_accuracy: 0.4990 - 262ms/epoch - 15ms/step\n",
            "Epoch 6/70\n",
            "17/17 - 0s - loss: 0.6934 - accuracy: 0.5048 - val_loss: 0.6932 - val_accuracy: 0.4990 - 281ms/epoch - 17ms/step\n",
            "Epoch 7/70\n",
            "17/17 - 0s - loss: 0.6931 - accuracy: 0.4838 - val_loss: 0.6932 - val_accuracy: 0.4990 - 267ms/epoch - 16ms/step\n",
            "Epoch 8/70\n",
            "17/17 - 0s - loss: 0.6929 - accuracy: 0.5295 - val_loss: 0.6932 - val_accuracy: 0.4990 - 298ms/epoch - 18ms/step\n",
            "Epoch 9/70\n",
            "17/17 - 0s - loss: 0.6929 - accuracy: 0.4971 - val_loss: 0.6932 - val_accuracy: 0.4990 - 271ms/epoch - 16ms/step\n",
            "Epoch 10/70\n",
            "17/17 - 0s - loss: 0.6936 - accuracy: 0.4800 - val_loss: 0.6932 - val_accuracy: 0.4990 - 272ms/epoch - 16ms/step\n",
            "Epoch 11/70\n",
            "17/17 - 0s - loss: 0.6932 - accuracy: 0.4952 - val_loss: 0.6932 - val_accuracy: 0.4990 - 276ms/epoch - 16ms/step\n",
            "Epoch 12/70\n",
            "17/17 - 0s - loss: 0.6930 - accuracy: 0.4914 - val_loss: 0.6932 - val_accuracy: 0.4990 - 273ms/epoch - 16ms/step\n",
            "Epoch 13/70\n",
            "17/17 - 0s - loss: 0.6936 - accuracy: 0.4952 - val_loss: 0.6932 - val_accuracy: 0.4990 - 259ms/epoch - 15ms/step\n",
            "Epoch 14/70\n",
            "17/17 - 0s - loss: 0.6933 - accuracy: 0.5143 - val_loss: 0.6932 - val_accuracy: 0.4990 - 269ms/epoch - 16ms/step\n",
            "Epoch 15/70\n",
            "17/17 - 0s - loss: 0.6928 - accuracy: 0.5124 - val_loss: 0.6932 - val_accuracy: 0.4990 - 294ms/epoch - 17ms/step\n",
            "Epoch 16/70\n",
            "17/17 - 0s - loss: 0.6936 - accuracy: 0.4800 - val_loss: 0.6932 - val_accuracy: 0.4990 - 272ms/epoch - 16ms/step\n",
            "Epoch 17/70\n",
            "17/17 - 0s - loss: 0.6935 - accuracy: 0.4933 - val_loss: 0.6932 - val_accuracy: 0.4990 - 281ms/epoch - 17ms/step\n",
            "Epoch 18/70\n",
            "17/17 - 0s - loss: 0.6933 - accuracy: 0.4990 - val_loss: 0.6932 - val_accuracy: 0.4990 - 273ms/epoch - 16ms/step\n",
            "Epoch 19/70\n",
            "17/17 - 0s - loss: 0.6933 - accuracy: 0.4971 - val_loss: 0.6932 - val_accuracy: 0.4990 - 364ms/epoch - 21ms/step\n",
            "Epoch 20/70\n",
            "17/17 - 0s - loss: 0.6933 - accuracy: 0.4876 - val_loss: 0.6932 - val_accuracy: 0.4990 - 393ms/epoch - 23ms/step\n",
            "Epoch 21/70\n",
            "17/17 - 1s - loss: 0.6930 - accuracy: 0.5010 - val_loss: 0.6931 - val_accuracy: 0.5010 - 501ms/epoch - 29ms/step\n",
            "Epoch 22/70\n",
            "17/17 - 0s - loss: 0.6933 - accuracy: 0.4705 - val_loss: 0.6931 - val_accuracy: 0.4990 - 425ms/epoch - 25ms/step\n",
            "Epoch 23/70\n",
            "17/17 - 0s - loss: 0.6934 - accuracy: 0.4743 - val_loss: 0.6931 - val_accuracy: 0.4990 - 444ms/epoch - 26ms/step\n",
            "Epoch 24/70\n",
            "17/17 - 0s - loss: 0.6930 - accuracy: 0.5200 - val_loss: 0.6932 - val_accuracy: 0.4990 - 457ms/epoch - 27ms/step\n",
            "Epoch 25/70\n",
            "17/17 - 0s - loss: 0.6931 - accuracy: 0.4990 - val_loss: 0.6932 - val_accuracy: 0.4990 - 456ms/epoch - 27ms/step\n",
            "Epoch 26/70\n",
            "17/17 - 0s - loss: 0.6934 - accuracy: 0.4781 - val_loss: 0.6932 - val_accuracy: 0.4990 - 459ms/epoch - 27ms/step\n",
            "Epoch 27/70\n",
            "17/17 - 0s - loss: 0.6932 - accuracy: 0.4933 - val_loss: 0.6932 - val_accuracy: 0.4990 - 442ms/epoch - 26ms/step\n",
            "Epoch 28/70\n",
            "17/17 - 1s - loss: 0.6932 - accuracy: 0.4838 - val_loss: 0.6932 - val_accuracy: 0.4990 - 504ms/epoch - 30ms/step\n",
            "Epoch 29/70\n",
            "17/17 - 1s - loss: 0.6931 - accuracy: 0.4895 - val_loss: 0.6931 - val_accuracy: 0.5010 - 508ms/epoch - 30ms/step\n",
            "Epoch 30/70\n",
            "17/17 - 0s - loss: 0.6931 - accuracy: 0.5143 - val_loss: 0.6931 - val_accuracy: 0.4990 - 476ms/epoch - 28ms/step\n",
            "Epoch 31/70\n",
            "17/17 - 0s - loss: 0.6930 - accuracy: 0.5105 - val_loss: 0.6932 - val_accuracy: 0.4990 - 472ms/epoch - 28ms/step\n",
            "Epoch 32/70\n",
            "17/17 - 0s - loss: 0.6930 - accuracy: 0.5067 - val_loss: 0.6932 - val_accuracy: 0.4990 - 483ms/epoch - 28ms/step\n",
            "Epoch 33/70\n",
            "17/17 - 1s - loss: 0.6932 - accuracy: 0.5010 - val_loss: 0.6932 - val_accuracy: 0.4990 - 500ms/epoch - 29ms/step\n",
            "Epoch 34/70\n",
            "17/17 - 0s - loss: 0.6936 - accuracy: 0.4800 - val_loss: 0.6932 - val_accuracy: 0.4990 - 439ms/epoch - 26ms/step\n",
            "Epoch 35/70\n",
            "17/17 - 0s - loss: 0.6934 - accuracy: 0.4895 - val_loss: 0.6932 - val_accuracy: 0.4990 - 284ms/epoch - 17ms/step\n",
            "Epoch 36/70\n",
            "17/17 - 0s - loss: 0.6935 - accuracy: 0.4610 - val_loss: 0.6931 - val_accuracy: 0.4990 - 289ms/epoch - 17ms/step\n",
            "Epoch 37/70\n",
            "17/17 - 0s - loss: 0.6930 - accuracy: 0.5105 - val_loss: 0.6932 - val_accuracy: 0.4990 - 244ms/epoch - 14ms/step\n",
            "Epoch 38/70\n",
            "17/17 - 0s - loss: 0.6931 - accuracy: 0.5219 - val_loss: 0.6932 - val_accuracy: 0.4990 - 368ms/epoch - 22ms/step\n",
            "Epoch 39/70\n",
            "17/17 - 0s - loss: 0.6934 - accuracy: 0.5048 - val_loss: 0.6931 - val_accuracy: 0.4990 - 254ms/epoch - 15ms/step\n",
            "Epoch 40/70\n",
            "17/17 - 0s - loss: 0.6929 - accuracy: 0.5238 - val_loss: 0.6932 - val_accuracy: 0.4990 - 268ms/epoch - 16ms/step\n",
            "Epoch 41/70\n",
            "17/17 - 0s - loss: 0.6932 - accuracy: 0.5124 - val_loss: 0.6932 - val_accuracy: 0.4990 - 258ms/epoch - 15ms/step\n",
            "Epoch 42/70\n",
            "17/17 - 0s - loss: 0.6931 - accuracy: 0.5029 - val_loss: 0.6931 - val_accuracy: 0.4990 - 286ms/epoch - 17ms/step\n",
            "Epoch 43/70\n",
            "17/17 - 0s - loss: 0.6929 - accuracy: 0.5333 - val_loss: 0.6931 - val_accuracy: 0.5010 - 289ms/epoch - 17ms/step\n",
            "Epoch 44/70\n",
            "17/17 - 0s - loss: 0.6933 - accuracy: 0.4743 - val_loss: 0.6931 - val_accuracy: 0.5010 - 267ms/epoch - 16ms/step\n",
            "Epoch 45/70\n",
            "17/17 - 0s - loss: 0.6933 - accuracy: 0.4971 - val_loss: 0.6931 - val_accuracy: 0.4990 - 296ms/epoch - 17ms/step\n",
            "Epoch 46/70\n",
            "17/17 - 0s - loss: 0.6933 - accuracy: 0.4781 - val_loss: 0.6931 - val_accuracy: 0.5010 - 289ms/epoch - 17ms/step\n",
            "Epoch 47/70\n",
            "17/17 - 0s - loss: 0.6932 - accuracy: 0.5124 - val_loss: 0.6931 - val_accuracy: 0.5010 - 279ms/epoch - 16ms/step\n",
            "Epoch 48/70\n",
            "17/17 - 0s - loss: 0.6931 - accuracy: 0.5048 - val_loss: 0.6931 - val_accuracy: 0.5010 - 274ms/epoch - 16ms/step\n",
            "Epoch 49/70\n",
            "17/17 - 0s - loss: 0.6933 - accuracy: 0.4629 - val_loss: 0.6931 - val_accuracy: 0.5010 - 297ms/epoch - 17ms/step\n",
            "Epoch 50/70\n",
            "17/17 - 0s - loss: 0.6931 - accuracy: 0.4838 - val_loss: 0.6931 - val_accuracy: 0.5010 - 268ms/epoch - 16ms/step\n",
            "Epoch 51/70\n",
            "17/17 - 0s - loss: 0.6934 - accuracy: 0.4476 - val_loss: 0.6931 - val_accuracy: 0.5010 - 280ms/epoch - 16ms/step\n",
            "Epoch 52/70\n",
            "17/17 - 0s - loss: 0.6931 - accuracy: 0.4990 - val_loss: 0.6931 - val_accuracy: 0.5010 - 288ms/epoch - 17ms/step\n",
            "Epoch 53/70\n",
            "17/17 - 0s - loss: 0.6929 - accuracy: 0.5086 - val_loss: 0.6932 - val_accuracy: 0.4990 - 279ms/epoch - 16ms/step\n",
            "Epoch 54/70\n",
            "17/17 - 0s - loss: 0.6932 - accuracy: 0.4724 - val_loss: 0.6931 - val_accuracy: 0.5010 - 279ms/epoch - 16ms/step\n",
            "Epoch 55/70\n",
            "17/17 - 0s - loss: 0.6933 - accuracy: 0.4914 - val_loss: 0.6931 - val_accuracy: 0.4990 - 270ms/epoch - 16ms/step\n",
            "Epoch 56/70\n",
            "17/17 - 0s - loss: 0.6936 - accuracy: 0.4857 - val_loss: 0.6931 - val_accuracy: 0.5010 - 281ms/epoch - 17ms/step\n",
            "Epoch 57/70\n",
            "17/17 - 0s - loss: 0.6933 - accuracy: 0.4895 - val_loss: 0.6932 - val_accuracy: 0.5010 - 284ms/epoch - 17ms/step\n",
            "Epoch 58/70\n",
            "17/17 - 0s - loss: 0.6931 - accuracy: 0.4971 - val_loss: 0.6932 - val_accuracy: 0.5010 - 269ms/epoch - 16ms/step\n",
            "Epoch 59/70\n",
            "17/17 - 0s - loss: 0.6934 - accuracy: 0.4819 - val_loss: 0.6931 - val_accuracy: 0.5010 - 267ms/epoch - 16ms/step\n",
            "Epoch 60/70\n",
            "17/17 - 0s - loss: 0.6930 - accuracy: 0.5048 - val_loss: 0.6931 - val_accuracy: 0.5010 - 290ms/epoch - 17ms/step\n",
            "Epoch 61/70\n",
            "17/17 - 0s - loss: 0.6929 - accuracy: 0.5352 - val_loss: 0.6931 - val_accuracy: 0.4990 - 285ms/epoch - 17ms/step\n",
            "Epoch 62/70\n",
            "17/17 - 0s - loss: 0.6928 - accuracy: 0.5371 - val_loss: 0.6931 - val_accuracy: 0.5010 - 277ms/epoch - 16ms/step\n",
            "Epoch 63/70\n",
            "17/17 - 0s - loss: 0.6932 - accuracy: 0.5048 - val_loss: 0.6931 - val_accuracy: 0.5010 - 282ms/epoch - 17ms/step\n",
            "Epoch 64/70\n",
            "17/17 - 0s - loss: 0.6933 - accuracy: 0.4762 - val_loss: 0.6932 - val_accuracy: 0.4990 - 296ms/epoch - 17ms/step\n",
            "Epoch 65/70\n",
            "17/17 - 0s - loss: 0.6935 - accuracy: 0.4933 - val_loss: 0.6931 - val_accuracy: 0.4990 - 271ms/epoch - 16ms/step\n",
            "Epoch 66/70\n",
            "17/17 - 0s - loss: 0.6935 - accuracy: 0.4781 - val_loss: 0.6931 - val_accuracy: 0.4990 - 273ms/epoch - 16ms/step\n",
            "Epoch 67/70\n",
            "17/17 - 0s - loss: 0.6934 - accuracy: 0.4743 - val_loss: 0.6932 - val_accuracy: 0.4990 - 270ms/epoch - 16ms/step\n",
            "Epoch 68/70\n",
            "17/17 - 0s - loss: 0.6931 - accuracy: 0.4971 - val_loss: 0.6931 - val_accuracy: 0.5010 - 267ms/epoch - 16ms/step\n",
            "Epoch 69/70\n",
            "17/17 - 0s - loss: 0.6927 - accuracy: 0.5352 - val_loss: 0.6931 - val_accuracy: 0.5010 - 482ms/epoch - 28ms/step\n",
            "Epoch 70/70\n",
            "17/17 - 1s - loss: 0.6933 - accuracy: 0.4876 - val_loss: 0.6932 - val_accuracy: 0.5010 - 513ms/epoch - 30ms/step\n"
          ]
        }
      ],
      "source": [
        "hist = model.fit(x_train, y_train, epochs=70, validation_data=(x_test, y_test), verbose = 2)"
      ]
    },
    {
      "cell_type": "code",
      "execution_count": null,
      "metadata": {
        "colab": {
          "base_uri": "https://localhost:8080/",
          "height": 245
        },
        "id": "xYcN9lteCOsy",
        "outputId": "771ca515-d8a7-4c73-8bad-6e642c2e3dfa"
      },
      "outputs": [
        {
          "output_type": "error",
          "ename": "NameError",
          "evalue": "ignored",
          "traceback": [
            "\u001b[0;31m---------------------------------------------------------------------------\u001b[0m",
            "\u001b[0;31mNameError\u001b[0m                                 Traceback (most recent call last)",
            "\u001b[0;32m<ipython-input-52-31471df47f30>\u001b[0m in \u001b[0;36m<cell line: 2>\u001b[0;34m()\u001b[0m\n\u001b[1;32m      1\u001b[0m \u001b[0;31m#Plot training validation accuracy and loss\u001b[0m\u001b[0;34m\u001b[0m\u001b[0;34m\u001b[0m\u001b[0m\n\u001b[0;32m----> 2\u001b[0;31m \u001b[0macc\u001b[0m \u001b[0;34m=\u001b[0m \u001b[0mhist\u001b[0m\u001b[0;34m.\u001b[0m\u001b[0mhistory\u001b[0m\u001b[0;34m[\u001b[0m\u001b[0;34m'accuracy'\u001b[0m\u001b[0;34m]\u001b[0m\u001b[0;34m\u001b[0m\u001b[0;34m\u001b[0m\u001b[0m\n\u001b[0m\u001b[1;32m      3\u001b[0m \u001b[0mval_acc\u001b[0m \u001b[0;34m=\u001b[0m \u001b[0mhist\u001b[0m\u001b[0;34m.\u001b[0m\u001b[0mhistory\u001b[0m\u001b[0;34m[\u001b[0m\u001b[0;34m'val_accuracy'\u001b[0m\u001b[0;34m]\u001b[0m\u001b[0;34m\u001b[0m\u001b[0;34m\u001b[0m\u001b[0m\n\u001b[1;32m      4\u001b[0m \u001b[0mloss\u001b[0m \u001b[0;34m=\u001b[0m \u001b[0mhist\u001b[0m\u001b[0;34m.\u001b[0m\u001b[0mhistory\u001b[0m\u001b[0;34m[\u001b[0m\u001b[0;34m'loss'\u001b[0m\u001b[0;34m]\u001b[0m\u001b[0;34m\u001b[0m\u001b[0;34m\u001b[0m\u001b[0m\n\u001b[1;32m      5\u001b[0m \u001b[0mval_loss\u001b[0m \u001b[0;34m=\u001b[0m \u001b[0mhist\u001b[0m\u001b[0;34m.\u001b[0m\u001b[0mhistory\u001b[0m\u001b[0;34m[\u001b[0m\u001b[0;34m'val_loss'\u001b[0m\u001b[0;34m]\u001b[0m\u001b[0;34m\u001b[0m\u001b[0;34m\u001b[0m\u001b[0m\n",
            "\u001b[0;31mNameError\u001b[0m: name 'hist' is not defined"
          ]
        }
      ],
      "source": [
        "#Plot training validation accuracy and loss\n",
        "acc = hist.history['accuracy']\n",
        "val_acc = hist.history['val_accuracy']\n",
        "loss = hist.history['loss']\n",
        "val_loss = hist.history['val_loss']\n",
        "epochs = range(1, len(acc) + 1)\n",
        "plt.style.use(['seaborn-whitegrid'])\n",
        "mpl.rcParams['axes.prop_cycle'] = cycler(color=['r', 'b'])\n",
        "plt.plot(epochs, acc, 'r', label='Training acc')\n",
        "plt.plot(epochs, val_acc, 'b', label='Validation acc')\n",
        "plt.title('Training and Validation accuracy')\n",
        "plt.legend()\n",
        "plt.figure()\n",
        "plt.plot(epochs, loss, 'r', label='Training loss')\n",
        "plt.plot(epochs, val_loss, 'b', label='Validation loss')\n",
        "plt.title('Training and Validation Loss')\n",
        "plt.legend()\n",
        "plt.show()"
      ]
    },
    {
      "cell_type": "code",
      "execution_count": null,
      "metadata": {
        "colab": {
          "base_uri": "https://localhost:8080/",
          "height": 210
        },
        "id": "it5pbHF_Cb_Z",
        "outputId": "2780acc9-66d6-4f50-cd3a-5f9a0500c074"
      },
      "outputs": [
        {
          "output_type": "error",
          "ename": "NameError",
          "evalue": "ignored",
          "traceback": [
            "\u001b[0;31m---------------------------------------------------------------------------\u001b[0m",
            "\u001b[0;31mNameError\u001b[0m                                 Traceback (most recent call last)",
            "\u001b[0;32m<ipython-input-53-c3734983b1be>\u001b[0m in \u001b[0;36m<cell line: 2>\u001b[0;34m()\u001b[0m\n\u001b[1;32m      1\u001b[0m \u001b[0;31m# Akurasi model\u001b[0m\u001b[0;34m\u001b[0m\u001b[0;34m\u001b[0m\u001b[0m\n\u001b[0;32m----> 2\u001b[0;31m \u001b[0maccuracy\u001b[0m \u001b[0;34m=\u001b[0m \u001b[0mmodel\u001b[0m\u001b[0;34m.\u001b[0m\u001b[0mevaluate\u001b[0m\u001b[0;34m(\u001b[0m\u001b[0mx_test\u001b[0m\u001b[0;34m,\u001b[0m \u001b[0my_test\u001b[0m\u001b[0;34m)\u001b[0m\u001b[0;34m\u001b[0m\u001b[0;34m\u001b[0m\u001b[0m\n\u001b[0m\u001b[1;32m      3\u001b[0m \u001b[0mprint\u001b[0m\u001b[0;34m(\u001b[0m\u001b[0;34m\"Accuracy of the model is: \"\u001b[0m\u001b[0;34m,\u001b[0m \u001b[0maccuracy\u001b[0m\u001b[0;34m)\u001b[0m\u001b[0;34m\u001b[0m\u001b[0;34m\u001b[0m\u001b[0m\n",
            "\u001b[0;31mNameError\u001b[0m: name 'x_test' is not defined"
          ]
        }
      ],
      "source": [
        "# Akurasi model\n",
        "accuracy = model.evaluate(x_test, y_test)\n",
        "print(\"Accuracy of the model is: \", accuracy)"
      ]
    },
    {
      "cell_type": "code",
      "execution_count": null,
      "metadata": {
        "id": "9ILEfTCGCgst",
        "colab": {
          "base_uri": "https://localhost:8080/",
          "height": 227
        },
        "outputId": "e13345ee-1ddb-4732-82a5-0f8233bfe5f0"
      },
      "outputs": [
        {
          "output_type": "stream",
          "name": "stdout",
          "text": [
            "Model Performance of CNN (Test Accuracy)\n"
          ]
        },
        {
          "output_type": "error",
          "ename": "NameError",
          "evalue": "ignored",
          "traceback": [
            "\u001b[0;31m---------------------------------------------------------------------------\u001b[0m",
            "\u001b[0;31mNameError\u001b[0m                                 Traceback (most recent call last)",
            "\u001b[0;32m<ipython-input-54-abc6685faf95>\u001b[0m in \u001b[0;36m<cell line: 3>\u001b[0;34m()\u001b[0m\n\u001b[1;32m      1\u001b[0m \u001b[0;31m#Evaluasi\u001b[0m\u001b[0;34m\u001b[0m\u001b[0;34m\u001b[0m\u001b[0m\n\u001b[1;32m      2\u001b[0m \u001b[0mprint\u001b[0m\u001b[0;34m(\u001b[0m\u001b[0;34m\"Model Performance of CNN (Test Accuracy)\"\u001b[0m\u001b[0;34m)\u001b[0m\u001b[0;34m\u001b[0m\u001b[0;34m\u001b[0m\u001b[0m\n\u001b[0;32m----> 3\u001b[0;31m \u001b[0mprint\u001b[0m\u001b[0;34m(\u001b[0m\u001b[0;34m'Accuracy: {:0.2f}%\\nLoss: {:0.2f}%\\n'\u001b[0m\u001b[0;34m.\u001b[0m\u001b[0mformat\u001b[0m\u001b[0;34m(\u001b[0m\u001b[0maccuracy\u001b[0m\u001b[0;34m[\u001b[0m\u001b[0;36m1\u001b[0m\u001b[0;34m]\u001b[0m\u001b[0;34m*\u001b[0m\u001b[0;36m100\u001b[0m\u001b[0;34m,\u001b[0m \u001b[0maccuracy\u001b[0m\u001b[0;34m[\u001b[0m\u001b[0;36m0\u001b[0m\u001b[0;34m]\u001b[0m\u001b[0;34m)\u001b[0m\u001b[0;34m)\u001b[0m\u001b[0;34m\u001b[0m\u001b[0;34m\u001b[0m\u001b[0m\n\u001b[0m",
            "\u001b[0;31mNameError\u001b[0m: name 'accuracy' is not defined"
          ]
        }
      ],
      "source": [
        "#Evaluasi\n",
        "print(\"Model Performance of CNN (Test Accuracy)\")\n",
        "print('Accuracy: {:0.2f}%\\nLoss: {:0.2f}%\\n'.format(accuracy[1]*100, accuracy[0]))"
      ]
    },
    {
      "cell_type": "code",
      "execution_count": null,
      "metadata": {
        "colab": {
          "base_uri": "https://localhost:8080/"
        },
        "id": "9J72JPMoFx4F",
        "outputId": "b59e90c8-8caf-4d7c-ac0e-5dc29e68870e"
      },
      "outputs": [
        {
          "output_type": "stream",
          "name": "stderr",
          "text": [
            "/usr/local/lib/python3.10/dist-packages/keras/src/engine/training.py:3079: UserWarning: You are saving your model as an HDF5 file via `model.save()`. This file format is considered legacy. We recommend using instead the native Keras format, e.g. `model.save('my_model.keras')`.\n",
            "  saving_api.save_model(\n"
          ]
        }
      ],
      "source": [
        "model.save('model_bully.h5')"
      ]
    }
  ],
  "metadata": {
    "colab": {
      "provenance": [],
      "include_colab_link": true
    },
    "kernelspec": {
      "display_name": "Python 3",
      "name": "python3"
    },
    "language_info": {
      "name": "python"
    }
  },
  "nbformat": 4,
  "nbformat_minor": 0
}